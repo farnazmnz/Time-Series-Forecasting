{
  "cells": [
    {
      "cell_type": "markdown",
      "metadata": {
        "id": "view-in-github",
        "colab_type": "text"
      },
      "source": [
        "<a href=\"https://colab.research.google.com/github/farnazmnz/Time-Series-Forecasting/blob/main/4_demand_kharid.ipynb\" target=\"_parent\"><img src=\"https://colab.research.google.com/assets/colab-badge.svg\" alt=\"Open In Colab\"/></a>"
      ]
    },
    {
      "cell_type": "code",
      "execution_count": null,
      "id": "3e75e4f3-f47a-4a0d-bf66-a968edac74ec",
      "metadata": {
        "id": "3e75e4f3-f47a-4a0d-bf66-a968edac74ec"
      },
      "outputs": [],
      "source": [
        "import pandas as pd"
      ]
    },
    {
      "cell_type": "code",
      "execution_count": null,
      "id": "f5470d3f-6c81-46fc-8f0a-59d08e7b01d5",
      "metadata": {
        "id": "f5470d3f-6c81-46fc-8f0a-59d08e7b01d5"
      },
      "outputs": [],
      "source": [
        "data = pd.read_excel('data_demand_kharid.xlsx')"
      ]
    },
    {
      "cell_type": "code",
      "execution_count": null,
      "id": "e767f615-b764-4e45-a2ac-a663b4c32b60",
      "metadata": {
        "id": "e767f615-b764-4e45-a2ac-a663b4c32b60",
        "outputId": "0acefa7c-01ce-4b45-d9b8-582bba854de2"
      },
      "outputs": [
        {
          "data": {
            "text/html": [
              "<div>\n",
              "<style scoped>\n",
              "    .dataframe tbody tr th:only-of-type {\n",
              "        vertical-align: middle;\n",
              "    }\n",
              "\n",
              "    .dataframe tbody tr th {\n",
              "        vertical-align: top;\n",
              "    }\n",
              "\n",
              "    .dataframe thead th {\n",
              "        text-align: right;\n",
              "    }\n",
              "</style>\n",
              "<table border=\"1\" class=\"dataframe\">\n",
              "  <thead>\n",
              "    <tr style=\"text-align: right;\">\n",
              "      <th></th>\n",
              "      <th>Unnamed: 0</th>\n",
              "      <th>Date_x</th>\n",
              "      <th>GDS_x</th>\n",
              "      <th>PLN_GROUP_x</th>\n",
              "      <th>QUALITY_F_x</th>\n",
              "      <th>DES_EN_x</th>\n",
              "      <th>YYMM_x</th>\n",
              "      <th>Date &amp; GDS &amp; PLN</th>\n",
              "      <th>Demand</th>\n",
              "      <th>KHARID</th>\n",
              "    </tr>\n",
              "  </thead>\n",
              "  <tbody>\n",
              "    <tr>\n",
              "      <th>0</th>\n",
              "      <td>0</td>\n",
              "      <td>28</td>\n",
              "      <td>16201007</td>\n",
              "      <td>BP</td>\n",
              "      <td>GS</td>\n",
              "      <td>SBS</td>\n",
              "      <td>140207</td>\n",
              "      <td>GS-16201007-140207-BP</td>\n",
              "      <td>63016</td>\n",
              "      <td>50600</td>\n",
              "    </tr>\n",
              "    <tr>\n",
              "      <th>1</th>\n",
              "      <td>1</td>\n",
              "      <td>28</td>\n",
              "      <td>16201007</td>\n",
              "      <td>BP</td>\n",
              "      <td>GS</td>\n",
              "      <td>SBS</td>\n",
              "      <td>140206</td>\n",
              "      <td>GS-16201007-140206-BP</td>\n",
              "      <td>58964</td>\n",
              "      <td>41000</td>\n",
              "    </tr>\n",
              "    <tr>\n",
              "      <th>2</th>\n",
              "      <td>2</td>\n",
              "      <td>28</td>\n",
              "      <td>16201007</td>\n",
              "      <td>BP</td>\n",
              "      <td>GS</td>\n",
              "      <td>SBS</td>\n",
              "      <td>140205</td>\n",
              "      <td>GS-16201007-140205-BP</td>\n",
              "      <td>57489</td>\n",
              "      <td>47200</td>\n",
              "    </tr>\n",
              "    <tr>\n",
              "      <th>3</th>\n",
              "      <td>3</td>\n",
              "      <td>28</td>\n",
              "      <td>16201007</td>\n",
              "      <td>BP</td>\n",
              "      <td>GS</td>\n",
              "      <td>SBS</td>\n",
              "      <td>140204</td>\n",
              "      <td>GS-16201007-140204-BP</td>\n",
              "      <td>58544</td>\n",
              "      <td>68000</td>\n",
              "    </tr>\n",
              "    <tr>\n",
              "      <th>4</th>\n",
              "      <td>4</td>\n",
              "      <td>28</td>\n",
              "      <td>16201007</td>\n",
              "      <td>BP</td>\n",
              "      <td>GS</td>\n",
              "      <td>SBS</td>\n",
              "      <td>140203</td>\n",
              "      <td>GS-16201007-140203-BP</td>\n",
              "      <td>74039</td>\n",
              "      <td>46750</td>\n",
              "    </tr>\n",
              "    <tr>\n",
              "      <th>...</th>\n",
              "      <td>...</td>\n",
              "      <td>...</td>\n",
              "      <td>...</td>\n",
              "      <td>...</td>\n",
              "      <td>...</td>\n",
              "      <td>...</td>\n",
              "      <td>...</td>\n",
              "      <td>...</td>\n",
              "      <td>...</td>\n",
              "      <td>...</td>\n",
              "    </tr>\n",
              "    <tr>\n",
              "      <th>213</th>\n",
              "      <td>213</td>\n",
              "      <td>103</td>\n",
              "      <td>16201034</td>\n",
              "      <td>BP</td>\n",
              "      <td>GS</td>\n",
              "      <td>SBS</td>\n",
              "      <td>140003</td>\n",
              "      <td>GS-16201034-140003-BP</td>\n",
              "      <td>6028</td>\n",
              "      <td>10416</td>\n",
              "    </tr>\n",
              "    <tr>\n",
              "      <th>214</th>\n",
              "      <td>214</td>\n",
              "      <td>103</td>\n",
              "      <td>16201034</td>\n",
              "      <td>BP</td>\n",
              "      <td>GS</td>\n",
              "      <td>SBS</td>\n",
              "      <td>140209</td>\n",
              "      <td>GS-16201034-140209-BP</td>\n",
              "      <td>7128</td>\n",
              "      <td>590</td>\n",
              "    </tr>\n",
              "    <tr>\n",
              "      <th>215</th>\n",
              "      <td>215</td>\n",
              "      <td>103</td>\n",
              "      <td>16201034</td>\n",
              "      <td>BP</td>\n",
              "      <td>GS</td>\n",
              "      <td>SBS</td>\n",
              "      <td>140105</td>\n",
              "      <td>GS-16201034-140105-BP</td>\n",
              "      <td>10579</td>\n",
              "      <td>10000</td>\n",
              "    </tr>\n",
              "    <tr>\n",
              "      <th>216</th>\n",
              "      <td>216</td>\n",
              "      <td>103</td>\n",
              "      <td>16201034</td>\n",
              "      <td>BP</td>\n",
              "      <td>GS</td>\n",
              "      <td>SBS</td>\n",
              "      <td>140010</td>\n",
              "      <td>GS-16201034-140010-BP</td>\n",
              "      <td>17019</td>\n",
              "      <td>4270</td>\n",
              "    </tr>\n",
              "    <tr>\n",
              "      <th>217</th>\n",
              "      <td>217</td>\n",
              "      <td>103</td>\n",
              "      <td>16201034</td>\n",
              "      <td>BP</td>\n",
              "      <td>GS</td>\n",
              "      <td>SBS</td>\n",
              "      <td>140001</td>\n",
              "      <td>GS-16201034-140001-BP</td>\n",
              "      <td>5180</td>\n",
              "      <td>1100</td>\n",
              "    </tr>\n",
              "  </tbody>\n",
              "</table>\n",
              "<p>218 rows × 10 columns</p>\n",
              "</div>"
            ],
            "text/plain": [
              "     Unnamed: 0  Date_x     GDS_x PLN_GROUP_x QUALITY_F_x DES_EN_x  YYMM_x  \\\n",
              "0             0      28  16201007          BP          GS      SBS  140207   \n",
              "1             1      28  16201007          BP          GS      SBS  140206   \n",
              "2             2      28  16201007          BP          GS      SBS  140205   \n",
              "3             3      28  16201007          BP          GS      SBS  140204   \n",
              "4             4      28  16201007          BP          GS      SBS  140203   \n",
              "..          ...     ...       ...         ...         ...      ...     ...   \n",
              "213         213     103  16201034          BP          GS      SBS  140003   \n",
              "214         214     103  16201034          BP          GS      SBS  140209   \n",
              "215         215     103  16201034          BP          GS      SBS  140105   \n",
              "216         216     103  16201034          BP          GS      SBS  140010   \n",
              "217         217     103  16201034          BP          GS      SBS  140001   \n",
              "\n",
              "          Date & GDS & PLN  Demand  KHARID  \n",
              "0    GS-16201007-140207-BP   63016   50600  \n",
              "1    GS-16201007-140206-BP   58964   41000  \n",
              "2    GS-16201007-140205-BP   57489   47200  \n",
              "3    GS-16201007-140204-BP   58544   68000  \n",
              "4    GS-16201007-140203-BP   74039   46750  \n",
              "..                     ...     ...     ...  \n",
              "213  GS-16201034-140003-BP    6028   10416  \n",
              "214  GS-16201034-140209-BP    7128     590  \n",
              "215  GS-16201034-140105-BP   10579   10000  \n",
              "216  GS-16201034-140010-BP   17019    4270  \n",
              "217  GS-16201034-140001-BP    5180    1100  \n",
              "\n",
              "[218 rows x 10 columns]"
            ]
          },
          "execution_count": 3,
          "metadata": {},
          "output_type": "execute_result"
        }
      ],
      "source": [
        "data"
      ]
    },
    {
      "cell_type": "code",
      "execution_count": null,
      "id": "fe4608cd-1a3d-4d4f-907d-9d3dc3e0b1df",
      "metadata": {
        "id": "fe4608cd-1a3d-4d4f-907d-9d3dc3e0b1df",
        "outputId": "e52e889e-ad5b-41e9-dadf-50cbfc25b159"
      },
      "outputs": [
        {
          "data": {
            "text/plain": [
              "Date_x\n",
              "35     27\n",
              "68     23\n",
              "103    23\n",
              "28     22\n",
              "50     22\n",
              "56     20\n",
              "49     18\n",
              "102    18\n",
              "41     16\n",
              "85     15\n",
              "57     14\n",
              "Name: count, dtype: int64"
            ]
          },
          "execution_count": 4,
          "metadata": {},
          "output_type": "execute_result"
        }
      ],
      "source": [
        "data['Date_x'].value_counts()"
      ]
    },
    {
      "cell_type": "code",
      "execution_count": null,
      "id": "8b81c6f1-10e0-440a-b32f-2f60271b0abc",
      "metadata": {
        "id": "8b81c6f1-10e0-440a-b32f-2f60271b0abc"
      },
      "outputs": [],
      "source": [
        "dfs = {}\n",
        "\n",
        "for i in range(0, 103):\n",
        "    dfs[i] = data[data['Date_x'] == i]"
      ]
    },
    {
      "cell_type": "code",
      "execution_count": null,
      "id": "fd43f9fa-bad4-49b1-89ea-197b1d84d748",
      "metadata": {
        "id": "fd43f9fa-bad4-49b1-89ea-197b1d84d748"
      },
      "outputs": [],
      "source": [
        "dfs[35] = dfs[35].sort_values(by='YYMM_x', ascending=True)"
      ]
    },
    {
      "cell_type": "code",
      "execution_count": null,
      "id": "51d419d8-13fe-49ec-a9c6-f6a08ca0ecb5",
      "metadata": {
        "id": "51d419d8-13fe-49ec-a9c6-f6a08ca0ecb5"
      },
      "outputs": [],
      "source": [
        "df = dfs[35]"
      ]
    },
    {
      "cell_type": "code",
      "execution_count": null,
      "id": "82c8ad8b-76e9-4efb-acaf-a0285f49d57a",
      "metadata": {
        "id": "82c8ad8b-76e9-4efb-acaf-a0285f49d57a"
      },
      "outputs": [],
      "source": [
        "df = df.drop(columns=['Unnamed: 0' ,'Date_x' ,'GDS_x' ,'PLN_GROUP_x' ,'QUALITY_F_x' ,'DES_EN_x' ,'YYMM_x', 'Date & GDS & PLN'])"
      ]
    },
    {
      "cell_type": "code",
      "execution_count": null,
      "id": "ec0a9e20-816e-47ea-9816-843f5771399d",
      "metadata": {
        "id": "ec0a9e20-816e-47ea-9816-843f5771399d",
        "outputId": "e129962a-fb29-45b2-e5fb-6ef0415bdc70"
      },
      "outputs": [
        {
          "data": {
            "text/html": [
              "<div>\n",
              "<style scoped>\n",
              "    .dataframe tbody tr th:only-of-type {\n",
              "        vertical-align: middle;\n",
              "    }\n",
              "\n",
              "    .dataframe tbody tr th {\n",
              "        vertical-align: top;\n",
              "    }\n",
              "\n",
              "    .dataframe thead th {\n",
              "        text-align: right;\n",
              "    }\n",
              "</style>\n",
              "<table border=\"1\" class=\"dataframe\">\n",
              "  <thead>\n",
              "    <tr style=\"text-align: right;\">\n",
              "      <th></th>\n",
              "      <th>Demand</th>\n",
              "      <th>KHARID</th>\n",
              "    </tr>\n",
              "  </thead>\n",
              "  <tbody>\n",
              "    <tr>\n",
              "      <th>38</th>\n",
              "      <td>3026</td>\n",
              "      <td>6912</td>\n",
              "    </tr>\n",
              "    <tr>\n",
              "      <th>39</th>\n",
              "      <td>3626</td>\n",
              "      <td>7560</td>\n",
              "    </tr>\n",
              "    <tr>\n",
              "      <th>40</th>\n",
              "      <td>4152</td>\n",
              "      <td>5388</td>\n",
              "    </tr>\n",
              "    <tr>\n",
              "      <th>41</th>\n",
              "      <td>5228</td>\n",
              "      <td>5832</td>\n",
              "    </tr>\n",
              "    <tr>\n",
              "      <th>48</th>\n",
              "      <td>4839</td>\n",
              "      <td>2591</td>\n",
              "    </tr>\n",
              "    <tr>\n",
              "      <th>43</th>\n",
              "      <td>7610</td>\n",
              "      <td>2376</td>\n",
              "    </tr>\n",
              "    <tr>\n",
              "      <th>44</th>\n",
              "      <td>5584</td>\n",
              "      <td>10584</td>\n",
              "    </tr>\n",
              "    <tr>\n",
              "      <th>45</th>\n",
              "      <td>5592</td>\n",
              "      <td>7776</td>\n",
              "    </tr>\n",
              "    <tr>\n",
              "      <th>46</th>\n",
              "      <td>5029</td>\n",
              "      <td>1</td>\n",
              "    </tr>\n",
              "    <tr>\n",
              "      <th>47</th>\n",
              "      <td>6884</td>\n",
              "      <td>9258</td>\n",
              "    </tr>\n",
              "    <tr>\n",
              "      <th>37</th>\n",
              "      <td>7941</td>\n",
              "      <td>15300</td>\n",
              "    </tr>\n",
              "    <tr>\n",
              "      <th>35</th>\n",
              "      <td>2771</td>\n",
              "      <td>864</td>\n",
              "    </tr>\n",
              "    <tr>\n",
              "      <th>30</th>\n",
              "      <td>10082</td>\n",
              "      <td>11636</td>\n",
              "    </tr>\n",
              "    <tr>\n",
              "      <th>22</th>\n",
              "      <td>7407</td>\n",
              "      <td>12312</td>\n",
              "    </tr>\n",
              "    <tr>\n",
              "      <th>23</th>\n",
              "      <td>6130</td>\n",
              "      <td>5184</td>\n",
              "    </tr>\n",
              "    <tr>\n",
              "      <th>24</th>\n",
              "      <td>6751</td>\n",
              "      <td>7560</td>\n",
              "    </tr>\n",
              "    <tr>\n",
              "      <th>42</th>\n",
              "      <td>8283</td>\n",
              "      <td>2808</td>\n",
              "    </tr>\n",
              "    <tr>\n",
              "      <th>25</th>\n",
              "      <td>3712</td>\n",
              "      <td>432</td>\n",
              "    </tr>\n",
              "    <tr>\n",
              "      <th>26</th>\n",
              "      <td>11489</td>\n",
              "      <td>4320</td>\n",
              "    </tr>\n",
              "    <tr>\n",
              "      <th>34</th>\n",
              "      <td>7420</td>\n",
              "      <td>1512</td>\n",
              "    </tr>\n",
              "    <tr>\n",
              "      <th>28</th>\n",
              "      <td>3892</td>\n",
              "      <td>4536</td>\n",
              "    </tr>\n",
              "    <tr>\n",
              "      <th>29</th>\n",
              "      <td>5861</td>\n",
              "      <td>2592</td>\n",
              "    </tr>\n",
              "    <tr>\n",
              "      <th>36</th>\n",
              "      <td>8952</td>\n",
              "      <td>19416</td>\n",
              "    </tr>\n",
              "    <tr>\n",
              "      <th>27</th>\n",
              "      <td>10642</td>\n",
              "      <td>15456</td>\n",
              "    </tr>\n",
              "    <tr>\n",
              "      <th>31</th>\n",
              "      <td>11936</td>\n",
              "      <td>3136</td>\n",
              "    </tr>\n",
              "    <tr>\n",
              "      <th>32</th>\n",
              "      <td>8683</td>\n",
              "      <td>5712</td>\n",
              "    </tr>\n",
              "    <tr>\n",
              "      <th>33</th>\n",
              "      <td>6064</td>\n",
              "      <td>10752</td>\n",
              "    </tr>\n",
              "  </tbody>\n",
              "</table>\n",
              "</div>"
            ],
            "text/plain": [
              "    Demand  KHARID\n",
              "38    3026    6912\n",
              "39    3626    7560\n",
              "40    4152    5388\n",
              "41    5228    5832\n",
              "48    4839    2591\n",
              "43    7610    2376\n",
              "44    5584   10584\n",
              "45    5592    7776\n",
              "46    5029       1\n",
              "47    6884    9258\n",
              "37    7941   15300\n",
              "35    2771     864\n",
              "30   10082   11636\n",
              "22    7407   12312\n",
              "23    6130    5184\n",
              "24    6751    7560\n",
              "42    8283    2808\n",
              "25    3712     432\n",
              "26   11489    4320\n",
              "34    7420    1512\n",
              "28    3892    4536\n",
              "29    5861    2592\n",
              "36    8952   19416\n",
              "27   10642   15456\n",
              "31   11936    3136\n",
              "32    8683    5712\n",
              "33    6064   10752"
            ]
          },
          "execution_count": 9,
          "metadata": {},
          "output_type": "execute_result"
        }
      ],
      "source": [
        "df"
      ]
    },
    {
      "cell_type": "code",
      "execution_count": null,
      "id": "c8e641f2-b053-46fc-aa55-d75973f02210",
      "metadata": {
        "id": "c8e641f2-b053-46fc-aa55-d75973f02210"
      },
      "outputs": [],
      "source": [
        "from sklearn.model_selection import train_test_split\n",
        "from sklearn.metrics import mean_squared_error, accuracy_score\n",
        "import matplotlib.pyplot as plt\n",
        "import numpy as np"
      ]
    },
    {
      "cell_type": "markdown",
      "id": "f7a3c66f-655e-444e-b4d2-bbc8d2671eb0",
      "metadata": {
        "id": "f7a3c66f-655e-444e-b4d2-bbc8d2671eb0"
      },
      "source": [
        "### LSTM"
      ]
    },
    {
      "cell_type": "code",
      "execution_count": null,
      "id": "cf23e77e-a2a4-4e8f-903b-7e3ea4801281",
      "metadata": {
        "id": "cf23e77e-a2a4-4e8f-903b-7e3ea4801281"
      },
      "outputs": [],
      "source": [
        "from tensorflow.keras.models import Sequential\n",
        "from tensorflow.keras.layers import LSTM, Dense\n",
        "from keras.layers import BatchNormalization, Activation\n",
        "from keras.regularizers import l2\n",
        "from tensorflow.keras.optimizers import Adam"
      ]
    },
    {
      "cell_type": "code",
      "execution_count": null,
      "id": "2544453e-5383-42ee-ad33-b0618425eadc",
      "metadata": {
        "id": "2544453e-5383-42ee-ad33-b0618425eadc"
      },
      "outputs": [],
      "source": [
        "df_lstm = df.copy()"
      ]
    },
    {
      "cell_type": "code",
      "execution_count": null,
      "id": "f22758eb-aeb3-4ea0-a6cf-93957a302108",
      "metadata": {
        "id": "f22758eb-aeb3-4ea0-a6cf-93957a302108",
        "outputId": "415de441-d57b-400b-a034-f4ee4314b716"
      },
      "outputs": [
        {
          "name": "stderr",
          "output_type": "stream",
          "text": [
            "C:\\Users\\IDS\\AppData\\Local\\Programs\\Python\\Python311\\Lib\\site-packages\\keras\\src\\layers\\rnn\\rnn.py:205: UserWarning: Do not pass an `input_shape`/`input_dim` argument to a layer. When using Sequential models, prefer using an `Input(shape)` object as the first layer in the model instead.\n",
            "  super().__init__(**kwargs)\n"
          ]
        },
        {
          "name": "stdout",
          "output_type": "stream",
          "text": [
            "Epoch 1/20\n",
            "\u001b[1m1/1\u001b[0m \u001b[32m━━━━━━━━━━━━━━━━━━━━\u001b[0m\u001b[37m\u001b[0m \u001b[1m8s\u001b[0m 8s/step - loss: 56284684.0000\n",
            "Epoch 2/20\n",
            "\u001b[1m1/1\u001b[0m \u001b[32m━━━━━━━━━━━━━━━━━━━━\u001b[0m\u001b[37m\u001b[0m \u001b[1m0s\u001b[0m 60ms/step - loss: 56283704.0000\n",
            "Epoch 3/20\n",
            "\u001b[1m1/1\u001b[0m \u001b[32m━━━━━━━━━━━━━━━━━━━━\u001b[0m\u001b[37m\u001b[0m \u001b[1m0s\u001b[0m 59ms/step - loss: 56283252.0000\n",
            "Epoch 4/20\n",
            "\u001b[1m1/1\u001b[0m \u001b[32m━━━━━━━━━━━━━━━━━━━━\u001b[0m\u001b[37m\u001b[0m \u001b[1m0s\u001b[0m 43ms/step - loss: 56283100.0000\n",
            "Epoch 5/20\n",
            "\u001b[1m1/1\u001b[0m \u001b[32m━━━━━━━━━━━━━━━━━━━━\u001b[0m\u001b[37m\u001b[0m \u001b[1m0s\u001b[0m 50ms/step - loss: 56282092.0000\n",
            "Epoch 6/20\n",
            "\u001b[1m1/1\u001b[0m \u001b[32m━━━━━━━━━━━━━━━━━━━━\u001b[0m\u001b[37m\u001b[0m \u001b[1m0s\u001b[0m 56ms/step - loss: 56283320.0000\n",
            "Epoch 7/20\n",
            "\u001b[1m1/1\u001b[0m \u001b[32m━━━━━━━━━━━━━━━━━━━━\u001b[0m\u001b[37m\u001b[0m \u001b[1m0s\u001b[0m 56ms/step - loss: 56282648.0000\n",
            "Epoch 8/20\n",
            "\u001b[1m1/1\u001b[0m \u001b[32m━━━━━━━━━━━━━━━━━━━━\u001b[0m\u001b[37m\u001b[0m \u001b[1m0s\u001b[0m 57ms/step - loss: 56282180.0000\n",
            "Epoch 9/20\n",
            "\u001b[1m1/1\u001b[0m \u001b[32m━━━━━━━━━━━━━━━━━━━━\u001b[0m\u001b[37m\u001b[0m \u001b[1m0s\u001b[0m 52ms/step - loss: 56281844.0000\n",
            "Epoch 10/20\n",
            "\u001b[1m1/1\u001b[0m \u001b[32m━━━━━━━━━━━━━━━━━━━━\u001b[0m\u001b[37m\u001b[0m \u001b[1m0s\u001b[0m 67ms/step - loss: 56281452.0000\n",
            "Epoch 11/20\n",
            "\u001b[1m1/1\u001b[0m \u001b[32m━━━━━━━━━━━━━━━━━━━━\u001b[0m\u001b[37m\u001b[0m \u001b[1m0s\u001b[0m 51ms/step - loss: 56280600.0000\n",
            "Epoch 12/20\n",
            "\u001b[1m1/1\u001b[0m \u001b[32m━━━━━━━━━━━━━━━━━━━━\u001b[0m\u001b[37m\u001b[0m \u001b[1m0s\u001b[0m 56ms/step - loss: 56280428.0000\n",
            "Epoch 13/20\n",
            "\u001b[1m1/1\u001b[0m \u001b[32m━━━━━━━━━━━━━━━━━━━━\u001b[0m\u001b[37m\u001b[0m \u001b[1m0s\u001b[0m 58ms/step - loss: 56279504.0000\n",
            "Epoch 14/20\n",
            "\u001b[1m1/1\u001b[0m \u001b[32m━━━━━━━━━━━━━━━━━━━━\u001b[0m\u001b[37m\u001b[0m \u001b[1m0s\u001b[0m 62ms/step - loss: 56278808.0000\n",
            "Epoch 15/20\n",
            "\u001b[1m1/1\u001b[0m \u001b[32m━━━━━━━━━━━━━━━━━━━━\u001b[0m\u001b[37m\u001b[0m \u001b[1m0s\u001b[0m 79ms/step - loss: 56278204.0000\n",
            "Epoch 16/20\n",
            "\u001b[1m1/1\u001b[0m \u001b[32m━━━━━━━━━━━━━━━━━━━━\u001b[0m\u001b[37m\u001b[0m \u001b[1m0s\u001b[0m 79ms/step - loss: 56277608.0000\n",
            "Epoch 17/20\n",
            "\u001b[1m1/1\u001b[0m \u001b[32m━━━━━━━━━━━━━━━━━━━━\u001b[0m\u001b[37m\u001b[0m \u001b[1m0s\u001b[0m 71ms/step - loss: 56276956.0000\n",
            "Epoch 18/20\n",
            "\u001b[1m1/1\u001b[0m \u001b[32m━━━━━━━━━━━━━━━━━━━━\u001b[0m\u001b[37m\u001b[0m \u001b[1m0s\u001b[0m 86ms/step - loss: 56276140.0000\n",
            "Epoch 19/20\n",
            "\u001b[1m1/1\u001b[0m \u001b[32m━━━━━━━━━━━━━━━━━━━━\u001b[0m\u001b[37m\u001b[0m \u001b[1m0s\u001b[0m 71ms/step - loss: 56279700.0000\n",
            "Epoch 20/20\n",
            "\u001b[1m1/1\u001b[0m \u001b[32m━━━━━━━━━━━━━━━━━━━━\u001b[0m\u001b[37m\u001b[0m \u001b[1m0s\u001b[0m 90ms/step - loss: 56279660.0000\n",
            "\u001b[1m1/1\u001b[0m \u001b[32m━━━━━━━━━━━━━━━━━━━━\u001b[0m\u001b[37m\u001b[0m \u001b[1m1s\u001b[0m 731ms/step\n",
            "Mean Squared Error: 29786017.0673798\n"
          ]
        }
      ],
      "source": [
        "features = df_lstm.drop(columns=['Demand']).values\n",
        "target = df_lstm['Demand'].values\n",
        "\n",
        "X_train, X_test, y_train, y_test = train_test_split(features, target, test_size=0.2, random_state=42)\n",
        "\n",
        "X_train = np.reshape(X_train, (X_train.shape[0], 1, X_train.shape[1]))\n",
        "X_test = np.reshape(X_test, (X_test.shape[0], 1, X_test.shape[1]))\n",
        "\n",
        "model_lstm = Sequential()\n",
        "model_lstm.add(LSTM(units=128, return_sequences=True, input_shape=(X_train.shape[1], 1)))\n",
        "model_lstm.add(BatchNormalization())\n",
        "model_lstm.add(LSTM(units=64, return_sequences=True))\n",
        "model_lstm.add(BatchNormalization())\n",
        "model_lstm.add(LSTM(units=32))\n",
        "model_lstm.add(Dense(units=1, kernel_regularizer=l2(0.001)))\n",
        "model_lstm.add(Activation('linear'))\n",
        "\n",
        "model_lstm.compile(optimizer=Adam(learning_rate=0.001), loss='mean_squared_error')\n",
        "\n",
        "model_lstm.fit(X_train, y_train, epochs=20, batch_size=32, verbose=1)\n",
        "\n",
        "predictions = model_lstm.predict(X_test)\n",
        "mse = mean_squared_error(y_test, predictions)\n",
        "print(\"Mean Squared Error:\", mse)"
      ]
    },
    {
      "cell_type": "code",
      "execution_count": null,
      "id": "b64ad466-6a28-4be3-8401-e8f2ac8669df",
      "metadata": {
        "id": "b64ad466-6a28-4be3-8401-e8f2ac8669df",
        "outputId": "e0bc15b7-248b-4a94-dee5-e4b028d8f623"
      },
      "outputs": [
        {
          "name": "stdout",
          "output_type": "stream",
          "text": [
            "\u001b[1m1/1\u001b[0m \u001b[32m━━━━━━━━━━━━━━━━━━━━\u001b[0m\u001b[37m\u001b[0m \u001b[1m1s\u001b[0m 923ms/step\n",
            "Next 12 Predictions: [0.2601375  0.25838208 0.23375984 0.25975502 0.25347432 0.2598305\n",
            " 0.2579514  0.26015645 0.26015645 0.2588774  0.26005012 0.26015544]\n"
          ]
        }
      ],
      "source": [
        "next_12_data = df_lstm.iloc[-12:].drop(columns=['Demand']).values\n",
        "next_12_data = np.reshape(next_12_data, (next_12_data.shape[0], 1, next_12_data.shape[1]))\n",
        "next_12_predictions = model_lstm.predict(next_12_data).flatten()\n",
        "print(\"Next 12 Predictions:\", next_12_predictions)"
      ]
    },
    {
      "cell_type": "code",
      "execution_count": null,
      "id": "696dcc1f-8b80-4b0f-816a-8875f319a578",
      "metadata": {
        "id": "696dcc1f-8b80-4b0f-816a-8875f319a578"
      },
      "outputs": [],
      "source": [
        "df_to_append = pd.DataFrame(columns=df_lstm.columns)\n",
        "df_to_append['Demand'] = next_12_predictions.flatten()\n",
        "for column in df_to_append.columns:\n",
        "    if column != 'Demand':\n",
        "        df_to_append[column] = 0\n",
        "df_lstm = pd.concat([df_lstm, df_to_append], ignore_index=True)"
      ]
    },
    {
      "cell_type": "code",
      "execution_count": null,
      "id": "07a5843b-0419-4edf-bf04-f48544b9bc8c",
      "metadata": {
        "id": "07a5843b-0419-4edf-bf04-f48544b9bc8c",
        "outputId": "fcbea7c0-1a7a-4095-ab7f-ed9ebef61110"
      },
      "outputs": [
        {
          "data": {
            "image/png": "[encoded data removed]",
            "text/plain": [
              "<Figure size 1200x600 with 1 Axes>"
            ]
          },
          "metadata": {},
          "output_type": "display_data"
        }
      ],
      "source": [
        "plt.figure(figsize=(12, 6))\n",
        "plt.plot(df_lstm.index, df_lstm['Demand'], label='All Data', color='blue')\n",
        "plt.scatter(df_lstm.index[-12:], df_lstm['Demand'].tail(12), color='red', label='Last 12', s=100)\n",
        "plt.xlabel('Data')\n",
        "plt.ylabel('Demand')\n",
        "plt.title('Demand Variation')\n",
        "plt.legend()\n",
        "plt.show()"
      ]
    },
    {
      "cell_type": "code",
      "execution_count": null,
      "id": "48a48317-deb8-4868-936e-b154580b57df",
      "metadata": {
        "id": "48a48317-deb8-4868-936e-b154580b57df",
        "outputId": "0e582ddc-5403-41f3-d3f3-98577c6bdc6b"
      },
      "outputs": [
        {
          "name": "stdout",
          "output_type": "stream",
          "text": [
            "The product has a decreasing trend with a tolerance of 20%.\n"
          ]
        }
      ],
      "source": [
        "df_lstm['Percentage Change'] = df_lstm['Demand'].pct_change() * 100\n",
        "\n",
        "tolerance = 20\n",
        "increasing_trend = ((df_lstm['Percentage Change'] >= -tolerance) & (df_lstm['Percentage Change'] <= tolerance)).all()\n",
        "\n",
        "if increasing_trend:\n",
        "    print(\"The product has an increasing trend with a tolerance of 20%.\")\n",
        "else:\n",
        "    print(\"The product has a decreasing trend with a tolerance of 20%.\")"
      ]
    },
    {
      "cell_type": "markdown",
      "id": "5fa73d75-4fcb-4704-a6f7-e9dae489e97e",
      "metadata": {
        "id": "5fa73d75-4fcb-4704-a6f7-e9dae489e97e"
      },
      "source": [
        "### LinearRegression"
      ]
    },
    {
      "cell_type": "code",
      "execution_count": null,
      "id": "d95f0a7d-5721-4f7e-8d52-a4d6aea9567d",
      "metadata": {
        "id": "d95f0a7d-5721-4f7e-8d52-a4d6aea9567d",
        "outputId": "7aaa5e02-dcfa-4fc5-81ac-4f2f3185ecbf"
      },
      "outputs": [
        {
          "name": "stdout",
          "output_type": "stream",
          "text": [
            "Mean Squared Error: 5019453.832801527\n"
          ]
        }
      ],
      "source": [
        "from sklearn.linear_model import LinearRegression\n",
        "\n",
        "df_lr = df.copy()\n",
        "\n",
        "features = df_lr.drop(columns=['Demand'])\n",
        "target = df_lr['Demand'].values\n",
        "\n",
        "X_train, X_test, y_train, y_test = train_test_split(features, target, test_size=0.2, random_state=42)\n",
        "\n",
        "model_lr = LinearRegression()\n",
        "\n",
        "model_lr.fit(X_train, y_train)\n",
        "\n",
        "predictions = model_lr.predict(X_test)\n",
        "\n",
        "mse = mean_squared_error(y_test, predictions)\n",
        "\n",
        "print(\"Mean Squared Error:\", mse)"
      ]
    },
    {
      "cell_type": "code",
      "execution_count": null,
      "id": "45968b3e-1be2-4cee-aa32-fe479fe8c9c0",
      "metadata": {
        "id": "45968b3e-1be2-4cee-aa32-fe479fe8c9c0",
        "outputId": "a705b8b3-9285-472c-a6fe-c3edf9c75295"
      },
      "outputs": [
        {
          "name": "stdout",
          "output_type": "stream",
          "text": [
            "Next 12 Predictions: [7133.12547243 6498.50935358 6181.20129415 6700.43266412 6325.43223025\n",
            " 6729.27885134 6469.66316636 8716.46063766 8187.61387195 6542.31282306\n",
            " 6886.3303151  7559.40801692]\n"
          ]
        }
      ],
      "source": [
        "next_12_data = df_lr.iloc[-12:].drop(columns=['Demand'])\n",
        "next_12_predictions = model_lr.predict(next_12_data)\n",
        "print(\"Next 12 Predictions:\", next_12_predictions)"
      ]
    },
    {
      "cell_type": "code",
      "execution_count": null,
      "id": "06434935-c2c2-45ed-aeb6-e1c379926a56",
      "metadata": {
        "id": "06434935-c2c2-45ed-aeb6-e1c379926a56"
      },
      "outputs": [],
      "source": [
        "df_to_append = pd.DataFrame(columns=df_lr.columns)\n",
        "\n",
        "df_to_append['Demand'] = next_12_predictions\n",
        "\n",
        "for column in df_to_append.columns:\n",
        "    if column != 'Demand':\n",
        "        df_to_append[column] = 0\n",
        "\n",
        "df_lr = pd.concat([df_lr, df_to_append], ignore_index=True)"
      ]
    },
    {
      "cell_type": "code",
      "execution_count": null,
      "id": "91de3627-56c6-495b-847f-74c3bbc404ac",
      "metadata": {
        "id": "91de3627-56c6-495b-847f-74c3bbc404ac",
        "outputId": "e5b49c58-d517-4f71-f0cc-627d51620da7"
      },
      "outputs": [
        {
          "data": {
            "image/png": "[encoded data removed]",
            "text/plain": [
              "<Figure size 1200x600 with 1 Axes>"
            ]
          },
          "metadata": {},
          "output_type": "display_data"
        }
      ],
      "source": [
        "plt.figure(figsize=(12, 6))\n",
        "plt.plot(df_lr.index, df_lr['Demand'], label='All Data', color='blue')\n",
        "plt.scatter(df_lr.index[-12:], df_lr['Demand'].tail(12), color='red', label='Last 12', s=100)\n",
        "\n",
        "plt.xlabel('Data')\n",
        "plt.ylabel('Demand')\n",
        "plt.title('Demand Variation')\n",
        "plt.legend()\n",
        "\n",
        "plt.show()"
      ]
    },
    {
      "cell_type": "code",
      "execution_count": null,
      "id": "e65719ef-e999-4d96-9cee-9606b3266e3a",
      "metadata": {
        "id": "e65719ef-e999-4d96-9cee-9606b3266e3a",
        "outputId": "78439d13-fa8b-4dd1-d3de-21832342102d"
      },
      "outputs": [
        {
          "data": {
            "text/html": [
              "<div>\n",
              "<style scoped>\n",
              "    .dataframe tbody tr th:only-of-type {\n",
              "        vertical-align: middle;\n",
              "    }\n",
              "\n",
              "    .dataframe tbody tr th {\n",
              "        vertical-align: top;\n",
              "    }\n",
              "\n",
              "    .dataframe thead th {\n",
              "        text-align: right;\n",
              "    }\n",
              "</style>\n",
              "<table border=\"1\" class=\"dataframe\">\n",
              "  <thead>\n",
              "    <tr style=\"text-align: right;\">\n",
              "      <th></th>\n",
              "      <th>Demand</th>\n",
              "      <th>KHARID</th>\n",
              "    </tr>\n",
              "  </thead>\n",
              "  <tbody>\n",
              "    <tr>\n",
              "      <th>0</th>\n",
              "      <td>3026.000000</td>\n",
              "      <td>6912</td>\n",
              "    </tr>\n",
              "    <tr>\n",
              "      <th>1</th>\n",
              "      <td>3626.000000</td>\n",
              "      <td>7560</td>\n",
              "    </tr>\n",
              "    <tr>\n",
              "      <th>2</th>\n",
              "      <td>4152.000000</td>\n",
              "      <td>5388</td>\n",
              "    </tr>\n",
              "    <tr>\n",
              "      <th>3</th>\n",
              "      <td>5228.000000</td>\n",
              "      <td>5832</td>\n",
              "    </tr>\n",
              "    <tr>\n",
              "      <th>4</th>\n",
              "      <td>4839.000000</td>\n",
              "      <td>2591</td>\n",
              "    </tr>\n",
              "    <tr>\n",
              "      <th>5</th>\n",
              "      <td>7610.000000</td>\n",
              "      <td>2376</td>\n",
              "    </tr>\n",
              "    <tr>\n",
              "      <th>6</th>\n",
              "      <td>5584.000000</td>\n",
              "      <td>10584</td>\n",
              "    </tr>\n",
              "    <tr>\n",
              "      <th>7</th>\n",
              "      <td>5592.000000</td>\n",
              "      <td>7776</td>\n",
              "    </tr>\n",
              "    <tr>\n",
              "      <th>8</th>\n",
              "      <td>5029.000000</td>\n",
              "      <td>1</td>\n",
              "    </tr>\n",
              "    <tr>\n",
              "      <th>9</th>\n",
              "      <td>6884.000000</td>\n",
              "      <td>9258</td>\n",
              "    </tr>\n",
              "    <tr>\n",
              "      <th>10</th>\n",
              "      <td>7941.000000</td>\n",
              "      <td>15300</td>\n",
              "    </tr>\n",
              "    <tr>\n",
              "      <th>11</th>\n",
              "      <td>2771.000000</td>\n",
              "      <td>864</td>\n",
              "    </tr>\n",
              "    <tr>\n",
              "      <th>12</th>\n",
              "      <td>10082.000000</td>\n",
              "      <td>11636</td>\n",
              "    </tr>\n",
              "    <tr>\n",
              "      <th>13</th>\n",
              "      <td>7407.000000</td>\n",
              "      <td>12312</td>\n",
              "    </tr>\n",
              "    <tr>\n",
              "      <th>14</th>\n",
              "      <td>6130.000000</td>\n",
              "      <td>5184</td>\n",
              "    </tr>\n",
              "    <tr>\n",
              "      <th>15</th>\n",
              "      <td>6751.000000</td>\n",
              "      <td>7560</td>\n",
              "    </tr>\n",
              "    <tr>\n",
              "      <th>16</th>\n",
              "      <td>8283.000000</td>\n",
              "      <td>2808</td>\n",
              "    </tr>\n",
              "    <tr>\n",
              "      <th>17</th>\n",
              "      <td>3712.000000</td>\n",
              "      <td>432</td>\n",
              "    </tr>\n",
              "    <tr>\n",
              "      <th>18</th>\n",
              "      <td>11489.000000</td>\n",
              "      <td>4320</td>\n",
              "    </tr>\n",
              "    <tr>\n",
              "      <th>19</th>\n",
              "      <td>7420.000000</td>\n",
              "      <td>1512</td>\n",
              "    </tr>\n",
              "    <tr>\n",
              "      <th>20</th>\n",
              "      <td>3892.000000</td>\n",
              "      <td>4536</td>\n",
              "    </tr>\n",
              "    <tr>\n",
              "      <th>21</th>\n",
              "      <td>5861.000000</td>\n",
              "      <td>2592</td>\n",
              "    </tr>\n",
              "    <tr>\n",
              "      <th>22</th>\n",
              "      <td>8952.000000</td>\n",
              "      <td>19416</td>\n",
              "    </tr>\n",
              "    <tr>\n",
              "      <th>23</th>\n",
              "      <td>10642.000000</td>\n",
              "      <td>15456</td>\n",
              "    </tr>\n",
              "    <tr>\n",
              "      <th>24</th>\n",
              "      <td>11936.000000</td>\n",
              "      <td>3136</td>\n",
              "    </tr>\n",
              "    <tr>\n",
              "      <th>25</th>\n",
              "      <td>8683.000000</td>\n",
              "      <td>5712</td>\n",
              "    </tr>\n",
              "    <tr>\n",
              "      <th>26</th>\n",
              "      <td>6064.000000</td>\n",
              "      <td>10752</td>\n",
              "    </tr>\n",
              "    <tr>\n",
              "      <th>27</th>\n",
              "      <td>7133.125472</td>\n",
              "      <td>0</td>\n",
              "    </tr>\n",
              "    <tr>\n",
              "      <th>28</th>\n",
              "      <td>6498.509354</td>\n",
              "      <td>0</td>\n",
              "    </tr>\n",
              "    <tr>\n",
              "      <th>29</th>\n",
              "      <td>6181.201294</td>\n",
              "      <td>0</td>\n",
              "    </tr>\n",
              "    <tr>\n",
              "      <th>30</th>\n",
              "      <td>6700.432664</td>\n",
              "      <td>0</td>\n",
              "    </tr>\n",
              "    <tr>\n",
              "      <th>31</th>\n",
              "      <td>6325.432230</td>\n",
              "      <td>0</td>\n",
              "    </tr>\n",
              "    <tr>\n",
              "      <th>32</th>\n",
              "      <td>6729.278851</td>\n",
              "      <td>0</td>\n",
              "    </tr>\n",
              "    <tr>\n",
              "      <th>33</th>\n",
              "      <td>6469.663166</td>\n",
              "      <td>0</td>\n",
              "    </tr>\n",
              "    <tr>\n",
              "      <th>34</th>\n",
              "      <td>8716.460638</td>\n",
              "      <td>0</td>\n",
              "    </tr>\n",
              "    <tr>\n",
              "      <th>35</th>\n",
              "      <td>8187.613872</td>\n",
              "      <td>0</td>\n",
              "    </tr>\n",
              "    <tr>\n",
              "      <th>36</th>\n",
              "      <td>6542.312823</td>\n",
              "      <td>0</td>\n",
              "    </tr>\n",
              "    <tr>\n",
              "      <th>37</th>\n",
              "      <td>6886.330315</td>\n",
              "      <td>0</td>\n",
              "    </tr>\n",
              "    <tr>\n",
              "      <th>38</th>\n",
              "      <td>7559.408017</td>\n",
              "      <td>0</td>\n",
              "    </tr>\n",
              "  </tbody>\n",
              "</table>\n",
              "</div>"
            ],
            "text/plain": [
              "          Demand  KHARID\n",
              "0    3026.000000    6912\n",
              "1    3626.000000    7560\n",
              "2    4152.000000    5388\n",
              "3    5228.000000    5832\n",
              "4    4839.000000    2591\n",
              "5    7610.000000    2376\n",
              "6    5584.000000   10584\n",
              "7    5592.000000    7776\n",
              "8    5029.000000       1\n",
              "9    6884.000000    9258\n",
              "10   7941.000000   15300\n",
              "11   2771.000000     864\n",
              "12  10082.000000   11636\n",
              "13   7407.000000   12312\n",
              "14   6130.000000    5184\n",
              "15   6751.000000    7560\n",
              "16   8283.000000    2808\n",
              "17   3712.000000     432\n",
              "18  11489.000000    4320\n",
              "19   7420.000000    1512\n",
              "20   3892.000000    4536\n",
              "21   5861.000000    2592\n",
              "22   8952.000000   19416\n",
              "23  10642.000000   15456\n",
              "24  11936.000000    3136\n",
              "25   8683.000000    5712\n",
              "26   6064.000000   10752\n",
              "27   7133.125472       0\n",
              "28   6498.509354       0\n",
              "29   6181.201294       0\n",
              "30   6700.432664       0\n",
              "31   6325.432230       0\n",
              "32   6729.278851       0\n",
              "33   6469.663166       0\n",
              "34   8716.460638       0\n",
              "35   8187.613872       0\n",
              "36   6542.312823       0\n",
              "37   6886.330315       0\n",
              "38   7559.408017       0"
            ]
          },
          "execution_count": 23,
          "metadata": {},
          "output_type": "execute_result"
        }
      ],
      "source": [
        "df_lr"
      ]
    },
    {
      "cell_type": "code",
      "execution_count": null,
      "id": "1c229d0d-8a5c-4450-822c-7a958ebb0d12",
      "metadata": {
        "id": "1c229d0d-8a5c-4450-822c-7a958ebb0d12",
        "outputId": "2f9da714-7678-4ae7-a5ff-fd0fb68574f4"
      },
      "outputs": [
        {
          "name": "stdout",
          "output_type": "stream",
          "text": [
            "The product has a decreasing trend with a tolerance of 20%.\n"
          ]
        }
      ],
      "source": [
        "df_lr['Percentage Change'] = df_lr['Demand'].pct_change() * 100\n",
        "\n",
        "tolerance = 20\n",
        "increasing_trend = ((df_lr['Percentage Change'] >= -tolerance) & (df_lr['Percentage Change'] <= tolerance)).all()\n",
        "\n",
        "if increasing_trend:\n",
        "    print(\"The product has an increasing trend with a tolerance of 20%.\")\n",
        "else:\n",
        "    print(\"The product has a decreasing trend with a tolerance of 20%.\")"
      ]
    },
    {
      "cell_type": "markdown",
      "id": "e60b0a09-9f2b-46a7-981a-6e8bc7f4a321",
      "metadata": {
        "id": "e60b0a09-9f2b-46a7-981a-6e8bc7f4a321"
      },
      "source": [
        "### SVR"
      ]
    },
    {
      "cell_type": "code",
      "execution_count": null,
      "id": "fedee875-1284-4e52-b590-bef9111c50a7",
      "metadata": {
        "id": "fedee875-1284-4e52-b590-bef9111c50a7",
        "outputId": "f51f49e9-f28c-4f9f-bf27-bbaafa26e79c"
      },
      "outputs": [
        {
          "name": "stdout",
          "output_type": "stream",
          "text": [
            "Mean Squared Error: 3037837.298257342\n"
          ]
        }
      ],
      "source": [
        "from sklearn.svm import SVR\n",
        "\n",
        "df_svr = df.copy()\n",
        "\n",
        "features = df_svr.drop(columns=['Demand'])\n",
        "target = df_svr['Demand']\n",
        "\n",
        "X_train, X_test, y_train, y_test = train_test_split(features, target, test_size=0.2, random_state=42)\n",
        "\n",
        "model_svr = SVR(kernel='linear')\n",
        "\n",
        "model_svr.fit(X_train, y_train)\n",
        "\n",
        "predictions = model_svr.predict(X_test)\n",
        "\n",
        "mse = mean_squared_error(y_test, predictions)\n",
        "\n",
        "print(\"Mean Squared Error:\", mse)"
      ]
    },
    {
      "cell_type": "code",
      "execution_count": null,
      "id": "a6a84543-b60d-46e8-bd80-9f8b7a0ba5b6",
      "metadata": {
        "id": "a6a84543-b60d-46e8-bd80-9f8b7a0ba5b6",
        "outputId": "54c0915e-9bc9-4563-b123-a8377ab52597"
      },
      "outputs": [
        {
          "name": "stdout",
          "output_type": "stream",
          "text": [
            "Next 12 Predictions: [6601.02647556 5658.77352445 5187.6470489  5958.58128162 5401.79544689\n",
            " 6001.41096122 5615.94384485 8951.90000005 8166.68920736 5723.81118606\n",
            " 6234.59477234 7233.95396287]\n"
          ]
        }
      ],
      "source": [
        "next_12_data = df_svr.iloc[-12:].drop(columns=['Demand'])\n",
        "next_12_predictions = model_svr.predict(next_12_data)\n",
        "print(\"Next 12 Predictions:\", next_12_predictions)"
      ]
    },
    {
      "cell_type": "code",
      "execution_count": null,
      "id": "f67052eb-7e03-47a7-a520-4b97614c8b21",
      "metadata": {
        "id": "f67052eb-7e03-47a7-a520-4b97614c8b21"
      },
      "outputs": [],
      "source": [
        "df_to_append = pd.DataFrame(columns=df_svr.columns)\n",
        "\n",
        "df_to_append['Demand'] = next_12_predictions\n",
        "\n",
        "for column in df_to_append.columns:\n",
        "    if column != 'Demand':\n",
        "        df_to_append[column] = 0\n",
        "\n",
        "df_svr = pd.concat([df_svr, df_to_append], ignore_index=True)"
      ]
    },
    {
      "cell_type": "code",
      "execution_count": null,
      "id": "2de76d2b-03fc-460b-be80-b34322c7be5f",
      "metadata": {
        "id": "2de76d2b-03fc-460b-be80-b34322c7be5f",
        "outputId": "7454b9a5-6770-4644-9c06-9f3529770c52"
      },
      "outputs": [
        {
          "data": {
            "text/html": [
              "<div>\n",
              "<style scoped>\n",
              "    .dataframe tbody tr th:only-of-type {\n",
              "        vertical-align: middle;\n",
              "    }\n",
              "\n",
              "    .dataframe tbody tr th {\n",
              "        vertical-align: top;\n",
              "    }\n",
              "\n",
              "    .dataframe thead th {\n",
              "        text-align: right;\n",
              "    }\n",
              "</style>\n",
              "<table border=\"1\" class=\"dataframe\">\n",
              "  <thead>\n",
              "    <tr style=\"text-align: right;\">\n",
              "      <th></th>\n",
              "      <th>Demand</th>\n",
              "      <th>KHARID</th>\n",
              "    </tr>\n",
              "  </thead>\n",
              "  <tbody>\n",
              "    <tr>\n",
              "      <th>0</th>\n",
              "      <td>3026.000000</td>\n",
              "      <td>6912</td>\n",
              "    </tr>\n",
              "    <tr>\n",
              "      <th>1</th>\n",
              "      <td>3626.000000</td>\n",
              "      <td>7560</td>\n",
              "    </tr>\n",
              "    <tr>\n",
              "      <th>2</th>\n",
              "      <td>4152.000000</td>\n",
              "      <td>5388</td>\n",
              "    </tr>\n",
              "    <tr>\n",
              "      <th>3</th>\n",
              "      <td>5228.000000</td>\n",
              "      <td>5832</td>\n",
              "    </tr>\n",
              "    <tr>\n",
              "      <th>4</th>\n",
              "      <td>4839.000000</td>\n",
              "      <td>2591</td>\n",
              "    </tr>\n",
              "    <tr>\n",
              "      <th>5</th>\n",
              "      <td>7610.000000</td>\n",
              "      <td>2376</td>\n",
              "    </tr>\n",
              "    <tr>\n",
              "      <th>6</th>\n",
              "      <td>5584.000000</td>\n",
              "      <td>10584</td>\n",
              "    </tr>\n",
              "    <tr>\n",
              "      <th>7</th>\n",
              "      <td>5592.000000</td>\n",
              "      <td>7776</td>\n",
              "    </tr>\n",
              "    <tr>\n",
              "      <th>8</th>\n",
              "      <td>5029.000000</td>\n",
              "      <td>1</td>\n",
              "    </tr>\n",
              "    <tr>\n",
              "      <th>9</th>\n",
              "      <td>6884.000000</td>\n",
              "      <td>9258</td>\n",
              "    </tr>\n",
              "    <tr>\n",
              "      <th>10</th>\n",
              "      <td>7941.000000</td>\n",
              "      <td>15300</td>\n",
              "    </tr>\n",
              "    <tr>\n",
              "      <th>11</th>\n",
              "      <td>2771.000000</td>\n",
              "      <td>864</td>\n",
              "    </tr>\n",
              "    <tr>\n",
              "      <th>12</th>\n",
              "      <td>10082.000000</td>\n",
              "      <td>11636</td>\n",
              "    </tr>\n",
              "    <tr>\n",
              "      <th>13</th>\n",
              "      <td>7407.000000</td>\n",
              "      <td>12312</td>\n",
              "    </tr>\n",
              "    <tr>\n",
              "      <th>14</th>\n",
              "      <td>6130.000000</td>\n",
              "      <td>5184</td>\n",
              "    </tr>\n",
              "    <tr>\n",
              "      <th>15</th>\n",
              "      <td>6751.000000</td>\n",
              "      <td>7560</td>\n",
              "    </tr>\n",
              "    <tr>\n",
              "      <th>16</th>\n",
              "      <td>8283.000000</td>\n",
              "      <td>2808</td>\n",
              "    </tr>\n",
              "    <tr>\n",
              "      <th>17</th>\n",
              "      <td>3712.000000</td>\n",
              "      <td>432</td>\n",
              "    </tr>\n",
              "    <tr>\n",
              "      <th>18</th>\n",
              "      <td>11489.000000</td>\n",
              "      <td>4320</td>\n",
              "    </tr>\n",
              "    <tr>\n",
              "      <th>19</th>\n",
              "      <td>7420.000000</td>\n",
              "      <td>1512</td>\n",
              "    </tr>\n",
              "    <tr>\n",
              "      <th>20</th>\n",
              "      <td>3892.000000</td>\n",
              "      <td>4536</td>\n",
              "    </tr>\n",
              "    <tr>\n",
              "      <th>21</th>\n",
              "      <td>5861.000000</td>\n",
              "      <td>2592</td>\n",
              "    </tr>\n",
              "    <tr>\n",
              "      <th>22</th>\n",
              "      <td>8952.000000</td>\n",
              "      <td>19416</td>\n",
              "    </tr>\n",
              "    <tr>\n",
              "      <th>23</th>\n",
              "      <td>10642.000000</td>\n",
              "      <td>15456</td>\n",
              "    </tr>\n",
              "    <tr>\n",
              "      <th>24</th>\n",
              "      <td>11936.000000</td>\n",
              "      <td>3136</td>\n",
              "    </tr>\n",
              "    <tr>\n",
              "      <th>25</th>\n",
              "      <td>8683.000000</td>\n",
              "      <td>5712</td>\n",
              "    </tr>\n",
              "    <tr>\n",
              "      <th>26</th>\n",
              "      <td>6064.000000</td>\n",
              "      <td>10752</td>\n",
              "    </tr>\n",
              "    <tr>\n",
              "      <th>27</th>\n",
              "      <td>6601.026476</td>\n",
              "      <td>0</td>\n",
              "    </tr>\n",
              "    <tr>\n",
              "      <th>28</th>\n",
              "      <td>5658.773524</td>\n",
              "      <td>0</td>\n",
              "    </tr>\n",
              "    <tr>\n",
              "      <th>29</th>\n",
              "      <td>5187.647049</td>\n",
              "      <td>0</td>\n",
              "    </tr>\n",
              "    <tr>\n",
              "      <th>30</th>\n",
              "      <td>5958.581282</td>\n",
              "      <td>0</td>\n",
              "    </tr>\n",
              "    <tr>\n",
              "      <th>31</th>\n",
              "      <td>5401.795447</td>\n",
              "      <td>0</td>\n",
              "    </tr>\n",
              "    <tr>\n",
              "      <th>32</th>\n",
              "      <td>6001.410961</td>\n",
              "      <td>0</td>\n",
              "    </tr>\n",
              "    <tr>\n",
              "      <th>33</th>\n",
              "      <td>5615.943845</td>\n",
              "      <td>0</td>\n",
              "    </tr>\n",
              "    <tr>\n",
              "      <th>34</th>\n",
              "      <td>8951.900000</td>\n",
              "      <td>0</td>\n",
              "    </tr>\n",
              "    <tr>\n",
              "      <th>35</th>\n",
              "      <td>8166.689207</td>\n",
              "      <td>0</td>\n",
              "    </tr>\n",
              "    <tr>\n",
              "      <th>36</th>\n",
              "      <td>5723.811186</td>\n",
              "      <td>0</td>\n",
              "    </tr>\n",
              "    <tr>\n",
              "      <th>37</th>\n",
              "      <td>6234.594772</td>\n",
              "      <td>0</td>\n",
              "    </tr>\n",
              "    <tr>\n",
              "      <th>38</th>\n",
              "      <td>7233.953963</td>\n",
              "      <td>0</td>\n",
              "    </tr>\n",
              "  </tbody>\n",
              "</table>\n",
              "</div>"
            ],
            "text/plain": [
              "          Demand  KHARID\n",
              "0    3026.000000    6912\n",
              "1    3626.000000    7560\n",
              "2    4152.000000    5388\n",
              "3    5228.000000    5832\n",
              "4    4839.000000    2591\n",
              "5    7610.000000    2376\n",
              "6    5584.000000   10584\n",
              "7    5592.000000    7776\n",
              "8    5029.000000       1\n",
              "9    6884.000000    9258\n",
              "10   7941.000000   15300\n",
              "11   2771.000000     864\n",
              "12  10082.000000   11636\n",
              "13   7407.000000   12312\n",
              "14   6130.000000    5184\n",
              "15   6751.000000    7560\n",
              "16   8283.000000    2808\n",
              "17   3712.000000     432\n",
              "18  11489.000000    4320\n",
              "19   7420.000000    1512\n",
              "20   3892.000000    4536\n",
              "21   5861.000000    2592\n",
              "22   8952.000000   19416\n",
              "23  10642.000000   15456\n",
              "24  11936.000000    3136\n",
              "25   8683.000000    5712\n",
              "26   6064.000000   10752\n",
              "27   6601.026476       0\n",
              "28   5658.773524       0\n",
              "29   5187.647049       0\n",
              "30   5958.581282       0\n",
              "31   5401.795447       0\n",
              "32   6001.410961       0\n",
              "33   5615.943845       0\n",
              "34   8951.900000       0\n",
              "35   8166.689207       0\n",
              "36   5723.811186       0\n",
              "37   6234.594772       0\n",
              "38   7233.953963       0"
            ]
          },
          "execution_count": 28,
          "metadata": {},
          "output_type": "execute_result"
        }
      ],
      "source": [
        "df_svr"
      ]
    },
    {
      "cell_type": "code",
      "execution_count": null,
      "id": "ae64ff31-3200-4ab2-b7fc-341af5b3794d",
      "metadata": {
        "id": "ae64ff31-3200-4ab2-b7fc-341af5b3794d",
        "outputId": "641108db-4a6b-4527-c86a-574922019fb1"
      },
      "outputs": [
        {
          "data": {
            "image/png": "[encoded data removed]",
            "text/plain": [
              "<Figure size 1200x600 with 1 Axes>"
            ]
          },
          "metadata": {},
          "output_type": "display_data"
        }
      ],
      "source": [
        "plt.figure(figsize=(12, 6))\n",
        "plt.plot(df_svr.index, df_svr['Demand'], label='All Data', color='blue')\n",
        "plt.scatter(df_svr.index[-12:], df_svr['Demand'].tail(12), color='red', label='Last 12', s=100)\n",
        "\n",
        "plt.xlabel('Data')\n",
        "plt.ylabel('Demand')\n",
        "plt.title('Demand Variation')\n",
        "plt.legend()\n",
        "\n",
        "plt.show()"
      ]
    },
    {
      "cell_type": "code",
      "execution_count": null,
      "id": "b3adb87a-9857-4e24-9645-a53794dd6b19",
      "metadata": {
        "id": "b3adb87a-9857-4e24-9645-a53794dd6b19",
        "outputId": "430f0c27-0707-444d-d23a-9382f28e33c8"
      },
      "outputs": [
        {
          "name": "stdout",
          "output_type": "stream",
          "text": [
            "The product has a decreasing trend with a tolerance of 20%.\n"
          ]
        }
      ],
      "source": [
        "df_svr['Percentage Change'] = df_svr['Demand'].pct_change() * 100\n",
        "\n",
        "tolerance = 20\n",
        "increasing_trend = ((df_svr['Percentage Change'] >= -tolerance) & (df_svr['Percentage Change'] <= tolerance)).all()\n",
        "\n",
        "if increasing_trend:\n",
        "    print(\"The product has an increasing trend with a tolerance of 20%.\")\n",
        "else:\n",
        "    print(\"The product has a decreasing trend with a tolerance of 20%.\")"
      ]
    },
    {
      "cell_type": "markdown",
      "id": "f96464f9-9361-4a5a-933d-5793f28f8f17",
      "metadata": {
        "id": "f96464f9-9361-4a5a-933d-5793f28f8f17"
      },
      "source": [
        "### DecisionTreeRegressor"
      ]
    },
    {
      "cell_type": "code",
      "execution_count": null,
      "id": "ad61716a-b286-411a-91aa-9eac42445338",
      "metadata": {
        "id": "ad61716a-b286-411a-91aa-9eac42445338",
        "outputId": "fb5ede89-4036-4b59-dc00-a2e23a983967"
      },
      "outputs": [
        {
          "name": "stdout",
          "output_type": "stream",
          "text": [
            "Mean Squared Error: 5843374.724142652\n"
          ]
        }
      ],
      "source": [
        "from sklearn.tree import DecisionTreeRegressor\n",
        "\n",
        "df_dt = df.copy()\n",
        "\n",
        "features = df_svr[['KHARID']]\n",
        "target = df_svr['Demand']\n",
        "\n",
        "X_train, X_test, y_train, y_test = train_test_split(features, target, test_size=0.2, random_state=42)\n",
        "\n",
        "model_dt = DecisionTreeRegressor()\n",
        "\n",
        "model_dt.fit(X_train, y_train)\n",
        "\n",
        "predictions = model_dt.predict(X_test)\n",
        "\n",
        "mse = mean_squared_error(y_test, predictions)\n",
        "\n",
        "print(\"Mean Squared Error:\", mse)"
      ]
    },
    {
      "cell_type": "code",
      "execution_count": null,
      "id": "4977732b-f083-4502-979c-8bdba2f7301a",
      "metadata": {
        "id": "4977732b-f083-4502-979c-8bdba2f7301a",
        "outputId": "8a037a6a-70f1-48a5-b68e-edebd7031b16"
      },
      "outputs": [
        {
          "name": "stdout",
          "output_type": "stream",
          "text": [
            "Next 12 Predictions: [ 5188.5  8283.   3712.  11489.   7420.   3892.   5861.   8952.  10642.\n",
            " 11936.   8683.  10082. ]\n"
          ]
        }
      ],
      "source": [
        "next_12_data = df_dt.iloc[-12:][['KHARID']]\n",
        "next_12_predictions = model_dt.predict(next_12_data)\n",
        "print(\"Next 12 Predictions:\", next_12_predictions)"
      ]
    },
    {
      "cell_type": "code",
      "execution_count": null,
      "id": "cb32f879-80b4-417d-b28e-4f564fd239d4",
      "metadata": {
        "id": "cb32f879-80b4-417d-b28e-4f564fd239d4"
      },
      "outputs": [],
      "source": [
        "df_to_append = pd.DataFrame(columns=df_dt.columns)\n",
        "\n",
        "df_to_append['Demand'] = next_12_predictions\n",
        "\n",
        "for column in df_to_append.columns:\n",
        "    if column != 'Demand':\n",
        "        df_to_append[column] = 0\n",
        "\n",
        "df_dt = pd.concat([df_dt, df_to_append], ignore_index=True)"
      ]
    },
    {
      "cell_type": "code",
      "execution_count": null,
      "id": "7a3af9f3-31d9-4620-870a-8b0ed4fbbf95",
      "metadata": {
        "id": "7a3af9f3-31d9-4620-870a-8b0ed4fbbf95",
        "outputId": "f8fa3753-558a-49cd-f87c-3f39b617daf7"
      },
      "outputs": [
        {
          "data": {
            "text/html": [
              "<div>\n",
              "<style scoped>\n",
              "    .dataframe tbody tr th:only-of-type {\n",
              "        vertical-align: middle;\n",
              "    }\n",
              "\n",
              "    .dataframe tbody tr th {\n",
              "        vertical-align: top;\n",
              "    }\n",
              "\n",
              "    .dataframe thead th {\n",
              "        text-align: right;\n",
              "    }\n",
              "</style>\n",
              "<table border=\"1\" class=\"dataframe\">\n",
              "  <thead>\n",
              "    <tr style=\"text-align: right;\">\n",
              "      <th></th>\n",
              "      <th>Demand</th>\n",
              "      <th>KHARID</th>\n",
              "    </tr>\n",
              "  </thead>\n",
              "  <tbody>\n",
              "    <tr>\n",
              "      <th>0</th>\n",
              "      <td>3026.0</td>\n",
              "      <td>6912</td>\n",
              "    </tr>\n",
              "    <tr>\n",
              "      <th>1</th>\n",
              "      <td>3626.0</td>\n",
              "      <td>7560</td>\n",
              "    </tr>\n",
              "    <tr>\n",
              "      <th>2</th>\n",
              "      <td>4152.0</td>\n",
              "      <td>5388</td>\n",
              "    </tr>\n",
              "    <tr>\n",
              "      <th>3</th>\n",
              "      <td>5228.0</td>\n",
              "      <td>5832</td>\n",
              "    </tr>\n",
              "    <tr>\n",
              "      <th>4</th>\n",
              "      <td>4839.0</td>\n",
              "      <td>2591</td>\n",
              "    </tr>\n",
              "    <tr>\n",
              "      <th>5</th>\n",
              "      <td>7610.0</td>\n",
              "      <td>2376</td>\n",
              "    </tr>\n",
              "    <tr>\n",
              "      <th>6</th>\n",
              "      <td>5584.0</td>\n",
              "      <td>10584</td>\n",
              "    </tr>\n",
              "    <tr>\n",
              "      <th>7</th>\n",
              "      <td>5592.0</td>\n",
              "      <td>7776</td>\n",
              "    </tr>\n",
              "    <tr>\n",
              "      <th>8</th>\n",
              "      <td>5029.0</td>\n",
              "      <td>1</td>\n",
              "    </tr>\n",
              "    <tr>\n",
              "      <th>9</th>\n",
              "      <td>6884.0</td>\n",
              "      <td>9258</td>\n",
              "    </tr>\n",
              "    <tr>\n",
              "      <th>10</th>\n",
              "      <td>7941.0</td>\n",
              "      <td>15300</td>\n",
              "    </tr>\n",
              "    <tr>\n",
              "      <th>11</th>\n",
              "      <td>2771.0</td>\n",
              "      <td>864</td>\n",
              "    </tr>\n",
              "    <tr>\n",
              "      <th>12</th>\n",
              "      <td>10082.0</td>\n",
              "      <td>11636</td>\n",
              "    </tr>\n",
              "    <tr>\n",
              "      <th>13</th>\n",
              "      <td>7407.0</td>\n",
              "      <td>12312</td>\n",
              "    </tr>\n",
              "    <tr>\n",
              "      <th>14</th>\n",
              "      <td>6130.0</td>\n",
              "      <td>5184</td>\n",
              "    </tr>\n",
              "    <tr>\n",
              "      <th>15</th>\n",
              "      <td>6751.0</td>\n",
              "      <td>7560</td>\n",
              "    </tr>\n",
              "    <tr>\n",
              "      <th>16</th>\n",
              "      <td>8283.0</td>\n",
              "      <td>2808</td>\n",
              "    </tr>\n",
              "    <tr>\n",
              "      <th>17</th>\n",
              "      <td>3712.0</td>\n",
              "      <td>432</td>\n",
              "    </tr>\n",
              "    <tr>\n",
              "      <th>18</th>\n",
              "      <td>11489.0</td>\n",
              "      <td>4320</td>\n",
              "    </tr>\n",
              "    <tr>\n",
              "      <th>19</th>\n",
              "      <td>7420.0</td>\n",
              "      <td>1512</td>\n",
              "    </tr>\n",
              "    <tr>\n",
              "      <th>20</th>\n",
              "      <td>3892.0</td>\n",
              "      <td>4536</td>\n",
              "    </tr>\n",
              "    <tr>\n",
              "      <th>21</th>\n",
              "      <td>5861.0</td>\n",
              "      <td>2592</td>\n",
              "    </tr>\n",
              "    <tr>\n",
              "      <th>22</th>\n",
              "      <td>8952.0</td>\n",
              "      <td>19416</td>\n",
              "    </tr>\n",
              "    <tr>\n",
              "      <th>23</th>\n",
              "      <td>10642.0</td>\n",
              "      <td>15456</td>\n",
              "    </tr>\n",
              "    <tr>\n",
              "      <th>24</th>\n",
              "      <td>11936.0</td>\n",
              "      <td>3136</td>\n",
              "    </tr>\n",
              "    <tr>\n",
              "      <th>25</th>\n",
              "      <td>8683.0</td>\n",
              "      <td>5712</td>\n",
              "    </tr>\n",
              "    <tr>\n",
              "      <th>26</th>\n",
              "      <td>6064.0</td>\n",
              "      <td>10752</td>\n",
              "    </tr>\n",
              "    <tr>\n",
              "      <th>27</th>\n",
              "      <td>5188.5</td>\n",
              "      <td>0</td>\n",
              "    </tr>\n",
              "    <tr>\n",
              "      <th>28</th>\n",
              "      <td>8283.0</td>\n",
              "      <td>0</td>\n",
              "    </tr>\n",
              "    <tr>\n",
              "      <th>29</th>\n",
              "      <td>3712.0</td>\n",
              "      <td>0</td>\n",
              "    </tr>\n",
              "    <tr>\n",
              "      <th>30</th>\n",
              "      <td>11489.0</td>\n",
              "      <td>0</td>\n",
              "    </tr>\n",
              "    <tr>\n",
              "      <th>31</th>\n",
              "      <td>7420.0</td>\n",
              "      <td>0</td>\n",
              "    </tr>\n",
              "    <tr>\n",
              "      <th>32</th>\n",
              "      <td>3892.0</td>\n",
              "      <td>0</td>\n",
              "    </tr>\n",
              "    <tr>\n",
              "      <th>33</th>\n",
              "      <td>5861.0</td>\n",
              "      <td>0</td>\n",
              "    </tr>\n",
              "    <tr>\n",
              "      <th>34</th>\n",
              "      <td>8952.0</td>\n",
              "      <td>0</td>\n",
              "    </tr>\n",
              "    <tr>\n",
              "      <th>35</th>\n",
              "      <td>10642.0</td>\n",
              "      <td>0</td>\n",
              "    </tr>\n",
              "    <tr>\n",
              "      <th>36</th>\n",
              "      <td>11936.0</td>\n",
              "      <td>0</td>\n",
              "    </tr>\n",
              "    <tr>\n",
              "      <th>37</th>\n",
              "      <td>8683.0</td>\n",
              "      <td>0</td>\n",
              "    </tr>\n",
              "    <tr>\n",
              "      <th>38</th>\n",
              "      <td>10082.0</td>\n",
              "      <td>0</td>\n",
              "    </tr>\n",
              "  </tbody>\n",
              "</table>\n",
              "</div>"
            ],
            "text/plain": [
              "     Demand  KHARID\n",
              "0    3026.0    6912\n",
              "1    3626.0    7560\n",
              "2    4152.0    5388\n",
              "3    5228.0    5832\n",
              "4    4839.0    2591\n",
              "5    7610.0    2376\n",
              "6    5584.0   10584\n",
              "7    5592.0    7776\n",
              "8    5029.0       1\n",
              "9    6884.0    9258\n",
              "10   7941.0   15300\n",
              "11   2771.0     864\n",
              "12  10082.0   11636\n",
              "13   7407.0   12312\n",
              "14   6130.0    5184\n",
              "15   6751.0    7560\n",
              "16   8283.0    2808\n",
              "17   3712.0     432\n",
              "18  11489.0    4320\n",
              "19   7420.0    1512\n",
              "20   3892.0    4536\n",
              "21   5861.0    2592\n",
              "22   8952.0   19416\n",
              "23  10642.0   15456\n",
              "24  11936.0    3136\n",
              "25   8683.0    5712\n",
              "26   6064.0   10752\n",
              "27   5188.5       0\n",
              "28   8283.0       0\n",
              "29   3712.0       0\n",
              "30  11489.0       0\n",
              "31   7420.0       0\n",
              "32   3892.0       0\n",
              "33   5861.0       0\n",
              "34   8952.0       0\n",
              "35  10642.0       0\n",
              "36  11936.0       0\n",
              "37   8683.0       0\n",
              "38  10082.0       0"
            ]
          },
          "execution_count": 34,
          "metadata": {},
          "output_type": "execute_result"
        }
      ],
      "source": [
        "df_dt"
      ]
    },
    {
      "cell_type": "code",
      "execution_count": null,
      "id": "71ed303b-1d63-483b-86d5-83481e2eb087",
      "metadata": {
        "id": "71ed303b-1d63-483b-86d5-83481e2eb087",
        "outputId": "94144f50-fa7c-4992-caee-38ae907cadf0"
      },
      "outputs": [
        {
          "data": {
            "image/png": "[encoded data removed]",
            "text/plain": [
              "<Figure size 1200x600 with 1 Axes>"
            ]
          },
          "metadata": {},
          "output_type": "display_data"
        }
      ],
      "source": [
        "plt.figure(figsize=(12, 6))\n",
        "plt.plot(df_dt.index, df_dt['Demand'], label='All Data', color='blue')\n",
        "plt.scatter(df_dt.index[-12:], df_dt['Demand'].tail(12), color='red', label='Last 12', s=100)\n",
        "\n",
        "plt.xlabel('Data')\n",
        "plt.ylabel('Demand')\n",
        "plt.title('Demand Variation')\n",
        "plt.legend()\n",
        "\n",
        "plt.show()"
      ]
    },
    {
      "cell_type": "code",
      "execution_count": null,
      "id": "ae740035-7edd-4fb4-9807-49ad1be18118",
      "metadata": {
        "id": "ae740035-7edd-4fb4-9807-49ad1be18118",
        "outputId": "b751dd27-43d2-428e-938b-1d8a36661db4"
      },
      "outputs": [
        {
          "name": "stdout",
          "output_type": "stream",
          "text": [
            "The product has a decreasing trend with a tolerance of 20%.\n"
          ]
        }
      ],
      "source": [
        "df_dt['Percentage Change'] = df_dt['Demand'].pct_change() * 100\n",
        "\n",
        "tolerance = 20\n",
        "increasing_trend = ((df_dt['Percentage Change'] >= -tolerance) & (df_dt['Percentage Change'] <= tolerance)).all()\n",
        "\n",
        "if increasing_trend:\n",
        "    print(\"The product has an increasing trend with a tolerance of 20%.\")\n",
        "else:\n",
        "    print(\"The product has a decreasing trend with a tolerance of 20%.\")"
      ]
    },
    {
      "cell_type": "markdown",
      "id": "6ebf34a2-3ab7-4600-b04d-3e5f631bf42e",
      "metadata": {
        "id": "6ebf34a2-3ab7-4600-b04d-3e5f631bf42e"
      },
      "source": [
        "### RandomForestRegressor"
      ]
    },
    {
      "cell_type": "code",
      "execution_count": null,
      "id": "93ab4598-d44e-4cab-9173-16a11ccff8b7",
      "metadata": {
        "id": "93ab4598-d44e-4cab-9173-16a11ccff8b7",
        "outputId": "26a5fee2-ce2c-4077-a723-09f5cbacf270"
      },
      "outputs": [
        {
          "name": "stdout",
          "output_type": "stream",
          "text": [
            "Mean Squared Error: 2066050.8424074082\n"
          ]
        }
      ],
      "source": [
        "from sklearn.ensemble import RandomForestRegressor\n",
        "\n",
        "df_rf = df.copy()\n",
        "\n",
        "features = df_rf.drop(columns=['Demand'])\n",
        "target = df_rf['Demand']\n",
        "\n",
        "X_train, X_test, y_train, y_test = train_test_split(features, target, test_size=0.2, random_state=42)\n",
        "\n",
        "model_rf = RandomForestRegressor()\n",
        "\n",
        "model_rf.fit(X_train, y_train)\n",
        "\n",
        "predictions = model_rf.predict(X_test)\n",
        "\n",
        "mse = mean_squared_error(y_test, predictions)\n",
        "\n",
        "print(\"Mean Squared Error:\", mse)"
      ]
    },
    {
      "cell_type": "code",
      "execution_count": null,
      "id": "ed1514ac-6312-4def-99fb-5b1e81ad5a6a",
      "metadata": {
        "id": "ed1514ac-6312-4def-99fb-5b1e81ad5a6a",
        "outputId": "ae6ad8ab-d223-408a-bb45-624a2996eff1"
      },
      "outputs": [
        {
          "name": "stdout",
          "output_type": "stream",
          "text": [
            "Next 12 Predictions: [ 5120.39666667  7908.93        4975.63        9053.37\n",
            "  7107.88        5862.63        6047.03        9325.55\n",
            "  9751.03       10284.38        7325.85        6160.94      ]\n"
          ]
        }
      ],
      "source": [
        "next_12_data = df_rf.iloc[-12:].drop(columns=['Demand'])\n",
        "next_12_predictions = model_rf.predict(next_12_data)\n",
        "print(\"Next 12 Predictions:\", next_12_predictions)"
      ]
    },
    {
      "cell_type": "code",
      "execution_count": null,
      "id": "bde6ad90-abe0-4870-b761-7099f251285f",
      "metadata": {
        "id": "bde6ad90-abe0-4870-b761-7099f251285f"
      },
      "outputs": [],
      "source": [
        "df_to_append = pd.DataFrame(columns=df_rf.columns)\n",
        "\n",
        "df_to_append['Demand'] = next_12_predictions\n",
        "\n",
        "for column in df_to_append.columns:\n",
        "    if column != 'Demand':\n",
        "        df_to_append[column] = 0\n",
        "\n",
        "df_rf = pd.concat([df_rf, df_to_append], ignore_index=True)"
      ]
    },
    {
      "cell_type": "code",
      "execution_count": null,
      "id": "5249129b-5fb9-4b71-8560-913d67deda9e",
      "metadata": {
        "id": "5249129b-5fb9-4b71-8560-913d67deda9e",
        "outputId": "e170c98c-1fe9-46fb-98e2-66edf9587577"
      },
      "outputs": [
        {
          "data": {
            "image/png": "[encoded data removed]",
            "text/plain": [
              "<Figure size 1200x600 with 1 Axes>"
            ]
          },
          "metadata": {},
          "output_type": "display_data"
        }
      ],
      "source": [
        "plt.figure(figsize=(12, 6))\n",
        "plt.plot(df_rf.index, df_rf['Demand'], label='All Data', color='blue')\n",
        "plt.scatter(df_rf.index[-12:], df_rf['Demand'].tail(12), color='red', label='Last 12', s=100)\n",
        "\n",
        "plt.xlabel('Data')\n",
        "plt.ylabel('Demand')\n",
        "plt.title('Demand Variation')\n",
        "plt.legend()\n",
        "\n",
        "plt.show()"
      ]
    },
    {
      "cell_type": "code",
      "execution_count": null,
      "id": "5a5ac40b-63eb-4a49-a7dd-7aa53a856324",
      "metadata": {
        "id": "5a5ac40b-63eb-4a49-a7dd-7aa53a856324",
        "outputId": "86389d02-c79a-4a3e-d085-93d66bbe58b5"
      },
      "outputs": [
        {
          "name": "stdout",
          "output_type": "stream",
          "text": [
            "The product has a decreasing trend with a tolerance of 20%.\n"
          ]
        }
      ],
      "source": [
        "df_rf['Percentage Change'] = df_rf['Demand'].pct_change() * 100\n",
        "\n",
        "tolerance = 20\n",
        "increasing_trend = ((df_rf['Percentage Change'] >= -tolerance) & (df_rf['Percentage Change'] <= tolerance)).all()\n",
        "\n",
        "if increasing_trend:\n",
        "    print(\"The product has an increasing trend with a tolerance of 20%.\")\n",
        "else:\n",
        "    print(\"The product has a decreasing trend with a tolerance of 20%.\")"
      ]
    },
    {
      "cell_type": "code",
      "execution_count": null,
      "id": "8358c985-762a-4860-a4d9-8aad940a0541",
      "metadata": {
        "id": "8358c985-762a-4860-a4d9-8aad940a0541"
      },
      "outputs": [],
      "source": []
    }
  ],
  "metadata": {
    "kernelspec": {
      "display_name": "Python 3 (ipykernel)",
      "language": "python",
      "name": "python3"
    },
    "language_info": {
      "codemirror_mode": {
        "name": "ipython",
        "version": 3
      },
      "file_extension": ".py",
      "mimetype": "text/x-python",
      "name": "python",
      "nbconvert_exporter": "python",
      "pygments_lexer": "ipython3",
      "version": "3.11.6"
    },
    "colab": {
      "provenance": [],
      "include_colab_link": true
    }
  },
  "nbformat": 4,
  "nbformat_minor": 5
}