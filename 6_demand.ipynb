{
  "cells": [
    {
      "cell_type": "markdown",
      "metadata": {
        "id": "view-in-github",
        "colab_type": "text"
      },
      "source": [
        "<a href=\"https://colab.research.google.com/github/farnazmnz/Time-Series-Forecasting/blob/main/6_demand.ipynb\" target=\"_parent\"><img src=\"https://colab.research.google.com/assets/colab-badge.svg\" alt=\"Open In Colab\"/></a>"
      ]
    },
    {
      "cell_type": "code",
      "execution_count": null,
      "id": "6fc20bb4-bc0d-4e7a-bb4c-8093827cf52b",
      "metadata": {
        "id": "6fc20bb4-bc0d-4e7a-bb4c-8093827cf52b"
      },
      "outputs": [],
      "source": [
        "import pandas as pd"
      ]
    },
    {
      "cell_type": "code",
      "execution_count": null,
      "id": "821c7af0-bd17-44d8-b4ad-5fc80dd0ffe8",
      "metadata": {
        "id": "821c7af0-bd17-44d8-b4ad-5fc80dd0ffe8"
      },
      "outputs": [],
      "source": [
        "data = pd.read_excel('data_demand.xlsx')"
      ]
    },
    {
      "cell_type": "code",
      "execution_count": null,
      "id": "740bfe37-7315-4f7d-9d24-343460f82631",
      "metadata": {
        "id": "740bfe37-7315-4f7d-9d24-343460f82631",
        "outputId": "2989eeea-d39b-4122-ea6d-20f3ac96e216"
      },
      "outputs": [
        {
          "data": {
            "text/html": [
              "<div>\n",
              "<style scoped>\n",
              "    .dataframe tbody tr th:only-of-type {\n",
              "        vertical-align: middle;\n",
              "    }\n",
              "\n",
              "    .dataframe tbody tr th {\n",
              "        vertical-align: top;\n",
              "    }\n",
              "\n",
              "    .dataframe thead th {\n",
              "        text-align: right;\n",
              "    }\n",
              "</style>\n",
              "<table border=\"1\" class=\"dataframe\">\n",
              "  <thead>\n",
              "    <tr style=\"text-align: right;\">\n",
              "      <th></th>\n",
              "      <th>Unnamed: 0</th>\n",
              "      <th>Date_x</th>\n",
              "      <th>GDS_x</th>\n",
              "      <th>PLN_GROUP_x</th>\n",
              "      <th>QUALITY_F_x</th>\n",
              "      <th>DES_EN_x</th>\n",
              "      <th>YYMM_x</th>\n",
              "      <th>Date &amp; GDS &amp; PLN</th>\n",
              "      <th>Demand</th>\n",
              "    </tr>\n",
              "  </thead>\n",
              "  <tbody>\n",
              "    <tr>\n",
              "      <th>0</th>\n",
              "      <td>0</td>\n",
              "      <td>0</td>\n",
              "      <td>3602006</td>\n",
              "      <td>VP</td>\n",
              "      <td>OEM/GS</td>\n",
              "      <td>TR</td>\n",
              "      <td>140001</td>\n",
              "      <td>OEM/GS-3602006-140001-VP</td>\n",
              "      <td>914</td>\n",
              "    </tr>\n",
              "    <tr>\n",
              "      <th>1</th>\n",
              "      <td>1</td>\n",
              "      <td>0</td>\n",
              "      <td>3602006</td>\n",
              "      <td>VP</td>\n",
              "      <td>OEM/GS</td>\n",
              "      <td>TR</td>\n",
              "      <td>140209</td>\n",
              "      <td>OEM/GS-3602006-140209-VP</td>\n",
              "      <td>1818</td>\n",
              "    </tr>\n",
              "    <tr>\n",
              "      <th>2</th>\n",
              "      <td>2</td>\n",
              "      <td>0</td>\n",
              "      <td>3602006</td>\n",
              "      <td>VP</td>\n",
              "      <td>OEM/GS</td>\n",
              "      <td>TR</td>\n",
              "      <td>140208</td>\n",
              "      <td>OEM/GS-3602006-140208-VP</td>\n",
              "      <td>2057</td>\n",
              "    </tr>\n",
              "    <tr>\n",
              "      <th>3</th>\n",
              "      <td>3</td>\n",
              "      <td>0</td>\n",
              "      <td>3602006</td>\n",
              "      <td>VP</td>\n",
              "      <td>OEM/GS</td>\n",
              "      <td>TR</td>\n",
              "      <td>140207</td>\n",
              "      <td>OEM/GS-3602006-140207-VP</td>\n",
              "      <td>2153</td>\n",
              "    </tr>\n",
              "    <tr>\n",
              "      <th>4</th>\n",
              "      <td>4</td>\n",
              "      <td>0</td>\n",
              "      <td>3602006</td>\n",
              "      <td>VP</td>\n",
              "      <td>OEM/GS</td>\n",
              "      <td>TR</td>\n",
              "      <td>140206</td>\n",
              "      <td>OEM/GS-3602006-140206-VP</td>\n",
              "      <td>1539</td>\n",
              "    </tr>\n",
              "    <tr>\n",
              "      <th>...</th>\n",
              "      <td>...</td>\n",
              "      <td>...</td>\n",
              "      <td>...</td>\n",
              "      <td>...</td>\n",
              "      <td>...</td>\n",
              "      <td>...</td>\n",
              "      <td>...</td>\n",
              "      <td>...</td>\n",
              "      <td>...</td>\n",
              "    </tr>\n",
              "    <tr>\n",
              "      <th>3362</th>\n",
              "      <td>3362</td>\n",
              "      <td>108</td>\n",
              "      <td>5402114</td>\n",
              "      <td>SP</td>\n",
              "      <td>OEM/GS</td>\n",
              "      <td>PC</td>\n",
              "      <td>140007</td>\n",
              "      <td>OEM/GS-5402114-140007-SP</td>\n",
              "      <td>9</td>\n",
              "    </tr>\n",
              "    <tr>\n",
              "      <th>3363</th>\n",
              "      <td>3363</td>\n",
              "      <td>108</td>\n",
              "      <td>5402114</td>\n",
              "      <td>SP</td>\n",
              "      <td>OEM/GS</td>\n",
              "      <td>PC</td>\n",
              "      <td>140005</td>\n",
              "      <td>OEM/GS-5402114-140005-SP</td>\n",
              "      <td>135</td>\n",
              "    </tr>\n",
              "    <tr>\n",
              "      <th>3364</th>\n",
              "      <td>3364</td>\n",
              "      <td>108</td>\n",
              "      <td>5402114</td>\n",
              "      <td>SP</td>\n",
              "      <td>OEM/GS</td>\n",
              "      <td>PC</td>\n",
              "      <td>140004</td>\n",
              "      <td>OEM/GS-5402114-140004-SP</td>\n",
              "      <td>123</td>\n",
              "    </tr>\n",
              "    <tr>\n",
              "      <th>3365</th>\n",
              "      <td>3365</td>\n",
              "      <td>108</td>\n",
              "      <td>5402114</td>\n",
              "      <td>SP</td>\n",
              "      <td>OEM/GS</td>\n",
              "      <td>PC</td>\n",
              "      <td>140107</td>\n",
              "      <td>OEM/GS-5402114-140107-SP</td>\n",
              "      <td>124</td>\n",
              "    </tr>\n",
              "    <tr>\n",
              "      <th>3366</th>\n",
              "      <td>3366</td>\n",
              "      <td>108</td>\n",
              "      <td>5402114</td>\n",
              "      <td>SP</td>\n",
              "      <td>OEM/GS</td>\n",
              "      <td>PC</td>\n",
              "      <td>140006</td>\n",
              "      <td>OEM/GS-5402114-140006-SP</td>\n",
              "      <td>14</td>\n",
              "    </tr>\n",
              "  </tbody>\n",
              "</table>\n",
              "<p>3367 rows × 9 columns</p>\n",
              "</div>"
            ],
            "text/plain": [
              "      Unnamed: 0  Date_x    GDS_x PLN_GROUP_x QUALITY_F_x DES_EN_x  YYMM_x  \\\n",
              "0              0       0  3602006          VP      OEM/GS       TR  140001   \n",
              "1              1       0  3602006          VP      OEM/GS       TR  140209   \n",
              "2              2       0  3602006          VP      OEM/GS       TR  140208   \n",
              "3              3       0  3602006          VP      OEM/GS       TR  140207   \n",
              "4              4       0  3602006          VP      OEM/GS       TR  140206   \n",
              "...          ...     ...      ...         ...         ...      ...     ...   \n",
              "3362        3362     108  5402114          SP      OEM/GS       PC  140007   \n",
              "3363        3363     108  5402114          SP      OEM/GS       PC  140005   \n",
              "3364        3364     108  5402114          SP      OEM/GS       PC  140004   \n",
              "3365        3365     108  5402114          SP      OEM/GS       PC  140107   \n",
              "3366        3366     108  5402114          SP      OEM/GS       PC  140006   \n",
              "\n",
              "              Date & GDS & PLN  Demand  \n",
              "0     OEM/GS-3602006-140001-VP     914  \n",
              "1     OEM/GS-3602006-140209-VP    1818  \n",
              "2     OEM/GS-3602006-140208-VP    2057  \n",
              "3     OEM/GS-3602006-140207-VP    2153  \n",
              "4     OEM/GS-3602006-140206-VP    1539  \n",
              "...                        ...     ...  \n",
              "3362  OEM/GS-5402114-140007-SP       9  \n",
              "3363  OEM/GS-5402114-140005-SP     135  \n",
              "3364  OEM/GS-5402114-140004-SP     123  \n",
              "3365  OEM/GS-5402114-140107-SP     124  \n",
              "3366  OEM/GS-5402114-140006-SP      14  \n",
              "\n",
              "[3367 rows x 9 columns]"
            ]
          },
          "execution_count": 3,
          "metadata": {},
          "output_type": "execute_result"
        }
      ],
      "source": [
        "data"
      ]
    },
    {
      "cell_type": "code",
      "execution_count": null,
      "id": "cb831013-1c8d-4d9f-80aa-25abdaa2eb6e",
      "metadata": {
        "id": "cb831013-1c8d-4d9f-80aa-25abdaa2eb6e",
        "outputId": "da466cca-1cde-48ee-8caa-799f62650875"
      },
      "outputs": [
        {
          "data": {
            "text/plain": [
              "Date_x\n",
              "0      33\n",
              "80     33\n",
              "42     33\n",
              "46     33\n",
              "47     33\n",
              "       ..\n",
              "34     25\n",
              "70     25\n",
              "105    23\n",
              "17     21\n",
              "52     20\n",
              "Name: count, Length: 109, dtype: int64"
            ]
          },
          "execution_count": 4,
          "metadata": {},
          "output_type": "execute_result"
        }
      ],
      "source": [
        "data['Date_x'].value_counts()"
      ]
    },
    {
      "cell_type": "code",
      "execution_count": null,
      "id": "f78cb0d8-83af-4708-953c-7e569121b397",
      "metadata": {
        "id": "f78cb0d8-83af-4708-953c-7e569121b397"
      },
      "outputs": [],
      "source": [
        "dfs = {}\n",
        "\n",
        "for i in range(0, 103):\n",
        "    dfs[i] = data[data['Date_x'] == i]"
      ]
    },
    {
      "cell_type": "code",
      "execution_count": null,
      "id": "3f2aa0df-b6f6-42ec-b559-8a0f8c96087a",
      "metadata": {
        "id": "3f2aa0df-b6f6-42ec-b559-8a0f8c96087a"
      },
      "outputs": [],
      "source": [
        "dfs[0] = dfs[0].sort_values(by='YYMM_x', ascending=True)"
      ]
    },
    {
      "cell_type": "code",
      "execution_count": null,
      "id": "9b581408-9d5f-42b0-8742-4269c7301ddb",
      "metadata": {
        "id": "9b581408-9d5f-42b0-8742-4269c7301ddb"
      },
      "outputs": [],
      "source": [
        "df = dfs[0]"
      ]
    },
    {
      "cell_type": "code",
      "execution_count": null,
      "id": "15b9d95a-729f-4000-a99c-4bf2ce0cc105",
      "metadata": {
        "id": "15b9d95a-729f-4000-a99c-4bf2ce0cc105"
      },
      "outputs": [],
      "source": [
        "df = df.drop(columns=['Unnamed: 0' ,'Date_x' ,'GDS_x' ,'PLN_GROUP_x' ,'QUALITY_F_x' ,'DES_EN_x' ,'YYMM_x', 'Date & GDS & PLN'])"
      ]
    },
    {
      "cell_type": "code",
      "execution_count": null,
      "id": "745eebdf-2e06-4c72-9def-75f84a6d092b",
      "metadata": {
        "id": "745eebdf-2e06-4c72-9def-75f84a6d092b",
        "outputId": "d2b1caa3-2c2a-4330-cb91-a2bf9bba1e2b"
      },
      "outputs": [
        {
          "data": {
            "text/html": [
              "<div>\n",
              "<style scoped>\n",
              "    .dataframe tbody tr th:only-of-type {\n",
              "        vertical-align: middle;\n",
              "    }\n",
              "\n",
              "    .dataframe tbody tr th {\n",
              "        vertical-align: top;\n",
              "    }\n",
              "\n",
              "    .dataframe thead th {\n",
              "        text-align: right;\n",
              "    }\n",
              "</style>\n",
              "<table border=\"1\" class=\"dataframe\">\n",
              "  <thead>\n",
              "    <tr style=\"text-align: right;\">\n",
              "      <th></th>\n",
              "      <th>Demand</th>\n",
              "    </tr>\n",
              "  </thead>\n",
              "  <tbody>\n",
              "    <tr>\n",
              "      <th>0</th>\n",
              "      <td>914</td>\n",
              "    </tr>\n",
              "    <tr>\n",
              "      <th>25</th>\n",
              "      <td>913</td>\n",
              "    </tr>\n",
              "    <tr>\n",
              "      <th>19</th>\n",
              "      <td>986</td>\n",
              "    </tr>\n",
              "    <tr>\n",
              "      <th>20</th>\n",
              "      <td>951</td>\n",
              "    </tr>\n",
              "    <tr>\n",
              "      <th>21</th>\n",
              "      <td>770</td>\n",
              "    </tr>\n",
              "    <tr>\n",
              "      <th>22</th>\n",
              "      <td>998</td>\n",
              "    </tr>\n",
              "    <tr>\n",
              "      <th>23</th>\n",
              "      <td>917</td>\n",
              "    </tr>\n",
              "    <tr>\n",
              "      <th>24</th>\n",
              "      <td>1269</td>\n",
              "    </tr>\n",
              "    <tr>\n",
              "      <th>32</th>\n",
              "      <td>1285</td>\n",
              "    </tr>\n",
              "    <tr>\n",
              "      <th>26</th>\n",
              "      <td>984</td>\n",
              "    </tr>\n",
              "    <tr>\n",
              "      <th>27</th>\n",
              "      <td>976</td>\n",
              "    </tr>\n",
              "    <tr>\n",
              "      <th>28</th>\n",
              "      <td>994</td>\n",
              "    </tr>\n",
              "    <tr>\n",
              "      <th>29</th>\n",
              "      <td>515</td>\n",
              "    </tr>\n",
              "    <tr>\n",
              "      <th>30</th>\n",
              "      <td>1100</td>\n",
              "    </tr>\n",
              "    <tr>\n",
              "      <th>31</th>\n",
              "      <td>2322</td>\n",
              "    </tr>\n",
              "    <tr>\n",
              "      <th>17</th>\n",
              "      <td>1410</td>\n",
              "    </tr>\n",
              "    <tr>\n",
              "      <th>18</th>\n",
              "      <td>1644</td>\n",
              "    </tr>\n",
              "    <tr>\n",
              "      <th>15</th>\n",
              "      <td>1561</td>\n",
              "    </tr>\n",
              "    <tr>\n",
              "      <th>14</th>\n",
              "      <td>2050</td>\n",
              "    </tr>\n",
              "    <tr>\n",
              "      <th>13</th>\n",
              "      <td>1464</td>\n",
              "    </tr>\n",
              "    <tr>\n",
              "      <th>12</th>\n",
              "      <td>410</td>\n",
              "    </tr>\n",
              "    <tr>\n",
              "      <th>11</th>\n",
              "      <td>1985</td>\n",
              "    </tr>\n",
              "    <tr>\n",
              "      <th>10</th>\n",
              "      <td>636</td>\n",
              "    </tr>\n",
              "    <tr>\n",
              "      <th>9</th>\n",
              "      <td>2135</td>\n",
              "    </tr>\n",
              "    <tr>\n",
              "      <th>16</th>\n",
              "      <td>1279</td>\n",
              "    </tr>\n",
              "    <tr>\n",
              "      <th>8</th>\n",
              "      <td>1409</td>\n",
              "    </tr>\n",
              "    <tr>\n",
              "      <th>7</th>\n",
              "      <td>553</td>\n",
              "    </tr>\n",
              "    <tr>\n",
              "      <th>6</th>\n",
              "      <td>2131</td>\n",
              "    </tr>\n",
              "    <tr>\n",
              "      <th>5</th>\n",
              "      <td>1505</td>\n",
              "    </tr>\n",
              "    <tr>\n",
              "      <th>4</th>\n",
              "      <td>1539</td>\n",
              "    </tr>\n",
              "    <tr>\n",
              "      <th>3</th>\n",
              "      <td>2153</td>\n",
              "    </tr>\n",
              "    <tr>\n",
              "      <th>2</th>\n",
              "      <td>2057</td>\n",
              "    </tr>\n",
              "    <tr>\n",
              "      <th>1</th>\n",
              "      <td>1818</td>\n",
              "    </tr>\n",
              "  </tbody>\n",
              "</table>\n",
              "</div>"
            ],
            "text/plain": [
              "    Demand\n",
              "0      914\n",
              "25     913\n",
              "19     986\n",
              "20     951\n",
              "21     770\n",
              "22     998\n",
              "23     917\n",
              "24    1269\n",
              "32    1285\n",
              "26     984\n",
              "27     976\n",
              "28     994\n",
              "29     515\n",
              "30    1100\n",
              "31    2322\n",
              "17    1410\n",
              "18    1644\n",
              "15    1561\n",
              "14    2050\n",
              "13    1464\n",
              "12     410\n",
              "11    1985\n",
              "10     636\n",
              "9     2135\n",
              "16    1279\n",
              "8     1409\n",
              "7      553\n",
              "6     2131\n",
              "5     1505\n",
              "4     1539\n",
              "3     2153\n",
              "2     2057\n",
              "1     1818"
            ]
          },
          "execution_count": 9,
          "metadata": {},
          "output_type": "execute_result"
        }
      ],
      "source": [
        "df"
      ]
    },
    {
      "cell_type": "code",
      "execution_count": null,
      "id": "4c155ebc-7872-448e-a7af-c7ece1c3b4af",
      "metadata": {
        "id": "4c155ebc-7872-448e-a7af-c7ece1c3b4af"
      },
      "outputs": [],
      "source": [
        "from sklearn.model_selection import train_test_split\n",
        "from sklearn.metrics import mean_squared_error, accuracy_score\n",
        "import matplotlib.pyplot as plt\n",
        "import numpy as np"
      ]
    },
    {
      "cell_type": "markdown",
      "id": "3e4daeb6-cc4b-4601-a21f-cc653a28dff0",
      "metadata": {
        "id": "3e4daeb6-cc4b-4601-a21f-cc653a28dff0"
      },
      "source": [
        "### LSTM"
      ]
    },
    {
      "cell_type": "code",
      "execution_count": null,
      "id": "8a6a7841-fdde-44a2-9ba2-c80532770ea0",
      "metadata": {
        "id": "8a6a7841-fdde-44a2-9ba2-c80532770ea0"
      },
      "outputs": [],
      "source": [
        "from sklearn.preprocessing import MinMaxScaler\n",
        "from tensorflow.keras.models import Sequential\n",
        "from tensorflow.keras.layers import LSTM, Dense, Dropout\n",
        "from tensorflow.keras.optimizers import Adam\n",
        "from keras.layers import BatchNormalization, Activation\n",
        "from keras.regularizers import l2"
      ]
    },
    {
      "cell_type": "code",
      "execution_count": null,
      "id": "a348d11b-029b-4d05-8ec2-fe1dd36ddb59",
      "metadata": {
        "id": "a348d11b-029b-4d05-8ec2-fe1dd36ddb59"
      },
      "outputs": [],
      "source": [
        "def create_sequences(data, seq_length):\n",
        "    sequences = []\n",
        "    for i in range(len(data) - seq_length):\n",
        "        sequence = data[i:i + seq_length]\n",
        "        sequences.append(sequence)\n",
        "    return np.array(sequences)"
      ]
    },
    {
      "cell_type": "code",
      "execution_count": null,
      "id": "a6c15cc1-2419-4708-b7e3-16e52b6ca863",
      "metadata": {
        "id": "a6c15cc1-2419-4708-b7e3-16e52b6ca863"
      },
      "outputs": [],
      "source": [
        "df_lstm = df.copy()"
      ]
    },
    {
      "cell_type": "code",
      "execution_count": null,
      "id": "b796c3dd-f5b6-4006-94bc-5beb09e9945f",
      "metadata": {
        "id": "b796c3dd-f5b6-4006-94bc-5beb09e9945f",
        "outputId": "43d34d53-962b-4eff-efe4-d579ac2df794"
      },
      "outputs": [
        {
          "name": "stderr",
          "output_type": "stream",
          "text": [
            "C:\\Users\\IDS\\AppData\\Local\\Programs\\Python\\Python311\\Lib\\site-packages\\keras\\src\\layers\\rnn\\rnn.py:205: UserWarning: Do not pass an `input_shape`/`input_dim` argument to a layer. When using Sequential models, prefer using an `Input(shape)` object as the first layer in the model instead.\n",
            "  super().__init__(**kwargs)\n"
          ]
        },
        {
          "name": "stdout",
          "output_type": "stream",
          "text": [
            "Epoch 1/20\n",
            "\u001b[1m2/2\u001b[0m \u001b[32m━━━━━━━━━━━━━━━━━━━━\u001b[0m\u001b[37m\u001b[0m \u001b[1m8s\u001b[0m 27ms/step - loss: 0.7832\n",
            "Epoch 2/20\n",
            "\u001b[1m2/2\u001b[0m \u001b[32m━━━━━━━━━━━━━━━━━━━━\u001b[0m\u001b[37m\u001b[0m \u001b[1m0s\u001b[0m 17ms/step - loss: 0.1879\n",
            "Epoch 3/20\n",
            "\u001b[1m2/2\u001b[0m \u001b[32m━━━━━━━━━━━━━━━━━━━━\u001b[0m\u001b[37m\u001b[0m \u001b[1m0s\u001b[0m 22ms/step - loss: 0.0757\n",
            "Epoch 4/20\n",
            "\u001b[1m2/2\u001b[0m \u001b[32m━━━━━━━━━━━━━━━━━━━━\u001b[0m\u001b[37m\u001b[0m \u001b[1m0s\u001b[0m 21ms/step - loss: 0.0504 \n",
            "Epoch 5/20\n",
            "\u001b[1m2/2\u001b[0m \u001b[32m━━━━━━━━━━━━━━━━━━━━\u001b[0m\u001b[37m\u001b[0m \u001b[1m0s\u001b[0m 20ms/step - loss: 0.0667\n",
            "Epoch 6/20\n",
            "\u001b[1m2/2\u001b[0m \u001b[32m━━━━━━━━━━━━━━━━━━━━\u001b[0m\u001b[37m\u001b[0m \u001b[1m0s\u001b[0m 17ms/step - loss: 0.0561\n",
            "Epoch 7/20\n",
            "\u001b[1m2/2\u001b[0m \u001b[32m━━━━━━━━━━━━━━━━━━━━\u001b[0m\u001b[37m\u001b[0m \u001b[1m0s\u001b[0m 20ms/step - loss: 0.0531\n",
            "Epoch 8/20\n",
            "\u001b[1m2/2\u001b[0m \u001b[32m━━━━━━━━━━━━━━━━━━━━\u001b[0m\u001b[37m\u001b[0m \u001b[1m0s\u001b[0m 21ms/step - loss: 0.0614\n",
            "Epoch 9/20\n",
            "\u001b[1m2/2\u001b[0m \u001b[32m━━━━━━━━━━━━━━━━━━━━\u001b[0m\u001b[37m\u001b[0m \u001b[1m0s\u001b[0m 17ms/step - loss: 0.0402\n",
            "Epoch 10/20\n",
            "\u001b[1m2/2\u001b[0m \u001b[32m━━━━━━━━━━━━━━━━━━━━\u001b[0m\u001b[37m\u001b[0m \u001b[1m0s\u001b[0m 16ms/step - loss: 0.0438\n",
            "Epoch 11/20\n",
            "\u001b[1m2/2\u001b[0m \u001b[32m━━━━━━━━━━━━━━━━━━━━\u001b[0m\u001b[37m\u001b[0m \u001b[1m0s\u001b[0m 13ms/step - loss: 0.0457\n",
            "Epoch 12/20\n",
            "\u001b[1m2/2\u001b[0m \u001b[32m━━━━━━━━━━━━━━━━━━━━\u001b[0m\u001b[37m\u001b[0m \u001b[1m0s\u001b[0m 15ms/step - loss: 0.0382\n",
            "Epoch 13/20\n",
            "\u001b[1m2/2\u001b[0m \u001b[32m━━━━━━━━━━━━━━━━━━━━\u001b[0m\u001b[37m\u001b[0m \u001b[1m0s\u001b[0m 14ms/step - loss: 0.0397\n",
            "Epoch 14/20\n",
            "\u001b[1m2/2\u001b[0m \u001b[32m━━━━━━━━━━━━━━━━━━━━\u001b[0m\u001b[37m\u001b[0m \u001b[1m0s\u001b[0m 19ms/step - loss: 0.0383\n",
            "Epoch 15/20\n",
            "\u001b[1m2/2\u001b[0m \u001b[32m━━━━━━━━━━━━━━━━━━━━\u001b[0m\u001b[37m\u001b[0m \u001b[1m0s\u001b[0m 14ms/step - loss: 0.0378\n",
            "Epoch 16/20\n",
            "\u001b[1m2/2\u001b[0m \u001b[32m━━━━━━━━━━━━━━━━━━━━\u001b[0m\u001b[37m\u001b[0m \u001b[1m0s\u001b[0m 19ms/step - loss: 0.0322 \n",
            "Epoch 17/20\n",
            "\u001b[1m2/2\u001b[0m \u001b[32m━━━━━━━━━━━━━━━━━━━━\u001b[0m\u001b[37m\u001b[0m \u001b[1m0s\u001b[0m 16ms/step - loss: 0.0289\n",
            "Epoch 18/20\n",
            "\u001b[1m2/2\u001b[0m \u001b[32m━━━━━━━━━━━━━━━━━━━━\u001b[0m\u001b[37m\u001b[0m \u001b[1m0s\u001b[0m 16ms/step - loss: 0.0268\n",
            "Epoch 19/20\n",
            "\u001b[1m2/2\u001b[0m \u001b[32m━━━━━━━━━━━━━━━━━━━━\u001b[0m\u001b[37m\u001b[0m \u001b[1m0s\u001b[0m 15ms/step - loss: 0.0249\n",
            "Epoch 20/20\n",
            "\u001b[1m2/2\u001b[0m \u001b[32m━━━━━━━━━━━━━━━━━━━━\u001b[0m\u001b[37m\u001b[0m \u001b[1m0s\u001b[0m 17ms/step - loss: 0.0252\n",
            "\u001b[1m1/1\u001b[0m \u001b[32m━━━━━━━━━━━━━━━━━━━━\u001b[0m\u001b[37m\u001b[0m \u001b[1m1s\u001b[0m 778ms/step\n",
            "\u001b[1m1/1\u001b[0m \u001b[32m━━━━━━━━━━━━━━━━━━━━\u001b[0m\u001b[37m\u001b[0m \u001b[1m0s\u001b[0m 40ms/step\n",
            "\u001b[1m1/1\u001b[0m \u001b[32m━━━━━━━━━━━━━━━━━━━━\u001b[0m\u001b[37m\u001b[0m \u001b[1m0s\u001b[0m 45ms/step\n",
            "\u001b[1m1/1\u001b[0m \u001b[32m━━━━━━━━━━━━━━━━━━━━\u001b[0m\u001b[37m\u001b[0m \u001b[1m0s\u001b[0m 166ms/step\n",
            "\u001b[1m1/1\u001b[0m \u001b[32m━━━━━━━━━━━━━━━━━━━━\u001b[0m\u001b[37m\u001b[0m \u001b[1m0s\u001b[0m 39ms/step\n",
            "\u001b[1m1/1\u001b[0m \u001b[32m━━━━━━━━━━━━━━━━━━━━\u001b[0m\u001b[37m\u001b[0m \u001b[1m0s\u001b[0m 50ms/step\n",
            "\u001b[1m1/1\u001b[0m \u001b[32m━━━━━━━━━━━━━━━━━━━━\u001b[0m\u001b[37m\u001b[0m \u001b[1m0s\u001b[0m 43ms/step\n",
            "\u001b[1m1/1\u001b[0m \u001b[32m━━━━━━━━━━━━━━━━━━━━\u001b[0m\u001b[37m\u001b[0m \u001b[1m0s\u001b[0m 55ms/step\n",
            "\u001b[1m1/1\u001b[0m \u001b[32m━━━━━━━━━━━━━━━━━━━━\u001b[0m\u001b[37m\u001b[0m \u001b[1m0s\u001b[0m 44ms/step\n",
            "\u001b[1m1/1\u001b[0m \u001b[32m━━━━━━━━━━━━━━━━━━━━\u001b[0m\u001b[37m\u001b[0m \u001b[1m0s\u001b[0m 49ms/step\n",
            "\u001b[1m1/1\u001b[0m \u001b[32m━━━━━━━━━━━━━━━━━━━━\u001b[0m\u001b[37m\u001b[0m \u001b[1m0s\u001b[0m 47ms/step\n",
            "\u001b[1m1/1\u001b[0m \u001b[32m━━━━━━━━━━━━━━━━━━━━\u001b[0m\u001b[37m\u001b[0m \u001b[1m0s\u001b[0m 41ms/step\n",
            "\u001b[1m1/1\u001b[0m \u001b[32m━━━━━━━━━━━━━━━━━━━━\u001b[0m\u001b[37m\u001b[0m \u001b[1m1s\u001b[0m 959ms/step\n",
            "Mean Squared Error (MSE) on Test Set: 1322587.06\n"
          ]
        }
      ],
      "source": [
        "prices = df_lstm['Demand'].values.reshape(-1, 1)\n",
        "scaler = MinMaxScaler(feature_range=(0, 1))\n",
        "prices_scaled = scaler.fit_transform(prices)\n",
        "sequence_length = 5\n",
        "X = create_sequences(prices_scaled, sequence_length)\n",
        "X_train, X_test = train_test_split(X, test_size=0.2, shuffle=False)\n",
        "\n",
        "X_train = X_train.reshape(X_train.shape[0], X_train.shape[1], 1)\n",
        "X_test = X_test.reshape(X_test.shape[0], X_test.shape[1], 1)\n",
        "\n",
        "model_lstm = Sequential()\n",
        "model_lstm.add(LSTM(units=128, return_sequences=True, input_shape=(X_train.shape[1], 1)))\n",
        "model_lstm.add(BatchNormalization())\n",
        "model_lstm.add(LSTM(units=64, return_sequences=True))\n",
        "model_lstm.add(BatchNormalization())\n",
        "model_lstm.add(LSTM(units=32))\n",
        "model_lstm.add(Dense(units=1, kernel_regularizer=l2(0.001)))\n",
        "model_lstm.add(Activation('linear'))\n",
        "\n",
        "model_lstm.compile(optimizer=Adam(learning_rate=0.001), loss='mean_squared_error')\n",
        "\n",
        "model_lstm.fit(X_train, X_train[:, -1], epochs=20, batch_size=16, verbose=1)\n",
        "\n",
        "last_sequence = prices_scaled[-sequence_length:].reshape(1, sequence_length, 1)\n",
        "predicted_prices = []\n",
        "for _ in range(12):\n",
        "    next_pred = model_lstm.predict(last_sequence)[0]\n",
        "    predicted_prices.append(next_pred)\n",
        "    last_sequence = np.append(last_sequence[:, 1:, :], [[next_pred]], axis=1)\n",
        "\n",
        "predicted_prices = scaler.inverse_transform(np.array(predicted_prices).reshape(-1, 1))\n",
        "\n",
        "predicted_test_prices = model_lstm.predict(X_test)\n",
        "predicted_test_prices = scaler.inverse_transform(predicted_test_prices)\n",
        "actual_test_prices = scaler.inverse_transform(X_test[:, -1]).reshape(-1, 1)\n",
        "mse = mean_squared_error(actual_test_prices, predicted_test_prices)\n",
        "print(f\"Mean Squared Error (MSE) on Test Set: {mse:.2f}\")"
      ]
    },
    {
      "cell_type": "code",
      "execution_count": null,
      "id": "811ca803-f1d8-4bc6-84a4-dd5f31a7567e",
      "metadata": {
        "id": "811ca803-f1d8-4bc6-84a4-dd5f31a7567e"
      },
      "outputs": [],
      "source": [
        "df_to_append = pd.DataFrame(columns=df_lstm.columns)\n",
        "df_to_append['Demand'] = predicted_prices.flatten()\n",
        "for column in df_to_append.columns:\n",
        "    if column != 'Demand':\n",
        "        df_to_append[column] = 0\n",
        "df_lstm = pd.concat([df_lstm, df_to_append], ignore_index=True)"
      ]
    },
    {
      "cell_type": "code",
      "execution_count": null,
      "id": "36c25002-f218-47ce-a434-d77ec1cbce0a",
      "metadata": {
        "id": "36c25002-f218-47ce-a434-d77ec1cbce0a",
        "outputId": "7d69813b-39bc-4357-9167-11690d0f0c73"
      },
      "outputs": [
        {
          "data": {
            "image/png": "[encoded data removed]",
            "text/plain": [
              "<Figure size 1200x600 with 1 Axes>"
            ]
          },
          "metadata": {},
          "output_type": "display_data"
        }
      ],
      "source": [
        "plt.figure(figsize=(12, 6))\n",
        "plt.plot(df_lstm.index, df_lstm['Demand'], label='All Data', color='blue')\n",
        "plt.scatter(df_lstm.index[-12:], df_lstm['Demand'].tail(12), color='red', label='Last 12', s=100)\n",
        "plt.xlabel('Data')\n",
        "plt.ylabel('Demand')\n",
        "plt.title('Demand Variation')\n",
        "plt.legend()\n",
        "plt.show()"
      ]
    },
    {
      "cell_type": "code",
      "execution_count": null,
      "id": "b79ce1ed-c5d7-408a-924f-1e346686c456",
      "metadata": {
        "id": "b79ce1ed-c5d7-408a-924f-1e346686c456",
        "outputId": "56843102-89a4-4949-bb93-4048fd454c00"
      },
      "outputs": [
        {
          "data": {
            "text/html": [
              "<div>\n",
              "<style scoped>\n",
              "    .dataframe tbody tr th:only-of-type {\n",
              "        vertical-align: middle;\n",
              "    }\n",
              "\n",
              "    .dataframe tbody tr th {\n",
              "        vertical-align: top;\n",
              "    }\n",
              "\n",
              "    .dataframe thead th {\n",
              "        text-align: right;\n",
              "    }\n",
              "</style>\n",
              "<table border=\"1\" class=\"dataframe\">\n",
              "  <thead>\n",
              "    <tr style=\"text-align: right;\">\n",
              "      <th></th>\n",
              "      <th>Demand</th>\n",
              "    </tr>\n",
              "  </thead>\n",
              "  <tbody>\n",
              "    <tr>\n",
              "      <th>0</th>\n",
              "      <td>914.000000</td>\n",
              "    </tr>\n",
              "    <tr>\n",
              "      <th>1</th>\n",
              "      <td>913.000000</td>\n",
              "    </tr>\n",
              "    <tr>\n",
              "      <th>2</th>\n",
              "      <td>986.000000</td>\n",
              "    </tr>\n",
              "    <tr>\n",
              "      <th>3</th>\n",
              "      <td>951.000000</td>\n",
              "    </tr>\n",
              "    <tr>\n",
              "      <th>4</th>\n",
              "      <td>770.000000</td>\n",
              "    </tr>\n",
              "    <tr>\n",
              "      <th>5</th>\n",
              "      <td>998.000000</td>\n",
              "    </tr>\n",
              "    <tr>\n",
              "      <th>6</th>\n",
              "      <td>917.000000</td>\n",
              "    </tr>\n",
              "    <tr>\n",
              "      <th>7</th>\n",
              "      <td>1269.000000</td>\n",
              "    </tr>\n",
              "    <tr>\n",
              "      <th>8</th>\n",
              "      <td>1285.000000</td>\n",
              "    </tr>\n",
              "    <tr>\n",
              "      <th>9</th>\n",
              "      <td>984.000000</td>\n",
              "    </tr>\n",
              "    <tr>\n",
              "      <th>10</th>\n",
              "      <td>976.000000</td>\n",
              "    </tr>\n",
              "    <tr>\n",
              "      <th>11</th>\n",
              "      <td>994.000000</td>\n",
              "    </tr>\n",
              "    <tr>\n",
              "      <th>12</th>\n",
              "      <td>515.000000</td>\n",
              "    </tr>\n",
              "    <tr>\n",
              "      <th>13</th>\n",
              "      <td>1100.000000</td>\n",
              "    </tr>\n",
              "    <tr>\n",
              "      <th>14</th>\n",
              "      <td>2322.000000</td>\n",
              "    </tr>\n",
              "    <tr>\n",
              "      <th>15</th>\n",
              "      <td>1410.000000</td>\n",
              "    </tr>\n",
              "    <tr>\n",
              "      <th>16</th>\n",
              "      <td>1644.000000</td>\n",
              "    </tr>\n",
              "    <tr>\n",
              "      <th>17</th>\n",
              "      <td>1561.000000</td>\n",
              "    </tr>\n",
              "    <tr>\n",
              "      <th>18</th>\n",
              "      <td>2050.000000</td>\n",
              "    </tr>\n",
              "    <tr>\n",
              "      <th>19</th>\n",
              "      <td>1464.000000</td>\n",
              "    </tr>\n",
              "    <tr>\n",
              "      <th>20</th>\n",
              "      <td>410.000000</td>\n",
              "    </tr>\n",
              "    <tr>\n",
              "      <th>21</th>\n",
              "      <td>1985.000000</td>\n",
              "    </tr>\n",
              "    <tr>\n",
              "      <th>22</th>\n",
              "      <td>636.000000</td>\n",
              "    </tr>\n",
              "    <tr>\n",
              "      <th>23</th>\n",
              "      <td>2135.000000</td>\n",
              "    </tr>\n",
              "    <tr>\n",
              "      <th>24</th>\n",
              "      <td>1279.000000</td>\n",
              "    </tr>\n",
              "    <tr>\n",
              "      <th>25</th>\n",
              "      <td>1409.000000</td>\n",
              "    </tr>\n",
              "    <tr>\n",
              "      <th>26</th>\n",
              "      <td>553.000000</td>\n",
              "    </tr>\n",
              "    <tr>\n",
              "      <th>27</th>\n",
              "      <td>2131.000000</td>\n",
              "    </tr>\n",
              "    <tr>\n",
              "      <th>28</th>\n",
              "      <td>1505.000000</td>\n",
              "    </tr>\n",
              "    <tr>\n",
              "      <th>29</th>\n",
              "      <td>1539.000000</td>\n",
              "    </tr>\n",
              "    <tr>\n",
              "      <th>30</th>\n",
              "      <td>2153.000000</td>\n",
              "    </tr>\n",
              "    <tr>\n",
              "      <th>31</th>\n",
              "      <td>2057.000000</td>\n",
              "    </tr>\n",
              "    <tr>\n",
              "      <th>32</th>\n",
              "      <td>1818.000000</td>\n",
              "    </tr>\n",
              "    <tr>\n",
              "      <th>33</th>\n",
              "      <td>657.373962</td>\n",
              "    </tr>\n",
              "    <tr>\n",
              "      <th>34</th>\n",
              "      <td>654.652710</td>\n",
              "    </tr>\n",
              "    <tr>\n",
              "      <th>35</th>\n",
              "      <td>648.582825</td>\n",
              "    </tr>\n",
              "    <tr>\n",
              "      <th>36</th>\n",
              "      <td>643.029419</td>\n",
              "    </tr>\n",
              "    <tr>\n",
              "      <th>37</th>\n",
              "      <td>639.724121</td>\n",
              "    </tr>\n",
              "    <tr>\n",
              "      <th>38</th>\n",
              "      <td>639.281189</td>\n",
              "    </tr>\n",
              "    <tr>\n",
              "      <th>39</th>\n",
              "      <td>639.225891</td>\n",
              "    </tr>\n",
              "    <tr>\n",
              "      <th>40</th>\n",
              "      <td>639.193115</td>\n",
              "    </tr>\n",
              "    <tr>\n",
              "      <th>41</th>\n",
              "      <td>639.180420</td>\n",
              "    </tr>\n",
              "    <tr>\n",
              "      <th>42</th>\n",
              "      <td>639.177979</td>\n",
              "    </tr>\n",
              "    <tr>\n",
              "      <th>43</th>\n",
              "      <td>639.177490</td>\n",
              "    </tr>\n",
              "    <tr>\n",
              "      <th>44</th>\n",
              "      <td>639.177368</td>\n",
              "    </tr>\n",
              "  </tbody>\n",
              "</table>\n",
              "</div>"
            ],
            "text/plain": [
              "         Demand\n",
              "0    914.000000\n",
              "1    913.000000\n",
              "2    986.000000\n",
              "3    951.000000\n",
              "4    770.000000\n",
              "5    998.000000\n",
              "6    917.000000\n",
              "7   1269.000000\n",
              "8   1285.000000\n",
              "9    984.000000\n",
              "10   976.000000\n",
              "11   994.000000\n",
              "12   515.000000\n",
              "13  1100.000000\n",
              "14  2322.000000\n",
              "15  1410.000000\n",
              "16  1644.000000\n",
              "17  1561.000000\n",
              "18  2050.000000\n",
              "19  1464.000000\n",
              "20   410.000000\n",
              "21  1985.000000\n",
              "22   636.000000\n",
              "23  2135.000000\n",
              "24  1279.000000\n",
              "25  1409.000000\n",
              "26   553.000000\n",
              "27  2131.000000\n",
              "28  1505.000000\n",
              "29  1539.000000\n",
              "30  2153.000000\n",
              "31  2057.000000\n",
              "32  1818.000000\n",
              "33   657.373962\n",
              "34   654.652710\n",
              "35   648.582825\n",
              "36   643.029419\n",
              "37   639.724121\n",
              "38   639.281189\n",
              "39   639.225891\n",
              "40   639.193115\n",
              "41   639.180420\n",
              "42   639.177979\n",
              "43   639.177490\n",
              "44   639.177368"
            ]
          },
          "execution_count": 17,
          "metadata": {},
          "output_type": "execute_result"
        }
      ],
      "source": [
        "df_lstm"
      ]
    },
    {
      "cell_type": "code",
      "execution_count": null,
      "id": "6081ee2c-8273-4967-b6fa-eedf4ff5ea2c",
      "metadata": {
        "id": "6081ee2c-8273-4967-b6fa-eedf4ff5ea2c",
        "outputId": "02ab12ba-2e69-4c55-ce05-43fc98af7533"
      },
      "outputs": [
        {
          "name": "stdout",
          "output_type": "stream",
          "text": [
            "The product has a decreasing trend with a tolerance of 20%.\n"
          ]
        }
      ],
      "source": [
        "df_lstm['Percentage Change'] = df_lstm['Demand'].pct_change() * 100\n",
        "\n",
        "tolerance = 20\n",
        "increasing_trend = ((df_lstm['Percentage Change'] >= -tolerance) & (df_lstm['Percentage Change'] <= tolerance)).all()\n",
        "\n",
        "if increasing_trend:\n",
        "    print(\"The product has an increasing trend with a tolerance of 20%.\")\n",
        "else:\n",
        "    print(\"The product has a decreasing trend with a tolerance of 20%.\")"
      ]
    },
    {
      "cell_type": "markdown",
      "id": "206b6865-bcb5-4f69-a2a3-8dc2063f6ff1",
      "metadata": {
        "id": "206b6865-bcb5-4f69-a2a3-8dc2063f6ff1"
      },
      "source": [
        "### Arima"
      ]
    },
    {
      "cell_type": "code",
      "execution_count": null,
      "id": "899e7c55-afa8-49d8-8587-be62cbaa4467",
      "metadata": {
        "id": "899e7c55-afa8-49d8-8587-be62cbaa4467"
      },
      "outputs": [],
      "source": [
        "from statsmodels.tsa.arima.model import ARIMA\n",
        "import statsmodels.api as sm\n",
        "import itertools"
      ]
    },
    {
      "cell_type": "code",
      "execution_count": null,
      "id": "ad47cd4f-1bea-4615-938c-b7236391bfb7",
      "metadata": {
        "id": "ad47cd4f-1bea-4615-938c-b7236391bfb7"
      },
      "outputs": [],
      "source": [
        "df_arima = df.copy()"
      ]
    },
    {
      "cell_type": "code",
      "execution_count": null,
      "id": "294c4496-0405-4d86-93e3-2aa7e09376f0",
      "metadata": {
        "id": "294c4496-0405-4d86-93e3-2aa7e09376f0",
        "outputId": "31e76666-b4d2-466c-90ca-7c159365acbc"
      },
      "outputs": [
        {
          "name": "stdout",
          "output_type": "stream",
          "text": [
            "Examples of parameter combinations for Seasonal ARIMA...\n",
            "SARIMAX: (0, 0, 1) x (0, 0, 1, 12)\n",
            "SARIMAX: (0, 0, 1) x (0, 1, 0, 12)\n",
            "SARIMAX: (0, 1, 0) x (0, 1, 1, 12)\n",
            "SARIMAX: (0, 1, 0) x (1, 0, 0, 12)\n"
          ]
        }
      ],
      "source": [
        "p = d = q = range(0, 2)\n",
        "pdq = list(itertools.product(p, d, q))\n",
        "seasonal_pdq = [(x[0], x[1], x[2], 12) for x in list(itertools.product(p, d, q))]\n",
        "print('Examples of parameter combinations for Seasonal ARIMA...')\n",
        "print('SARIMAX: {} x {}'.format(pdq[1], seasonal_pdq[1]))\n",
        "print('SARIMAX: {} x {}'.format(pdq[1], seasonal_pdq[2]))\n",
        "print('SARIMAX: {} x {}'.format(pdq[2], seasonal_pdq[3]))\n",
        "print('SARIMAX: {} x {}'.format(pdq[2], seasonal_pdq[4]))"
      ]
    },
    {
      "cell_type": "code",
      "execution_count": null,
      "id": "f4e26b74-e987-4414-8ae6-9c6388854f74",
      "metadata": {
        "id": "f4e26b74-e987-4414-8ae6-9c6388854f74"
      },
      "outputs": [],
      "source": [
        "x = df_arima['Demand'].values\n",
        "\n",
        "x = x.astype(np.float64)\n",
        "\n",
        "p = d = q = range(0, 2)\n",
        "pdq = list(itertools.product(p, d, q))\n",
        "seasonal_pdq = [(x[0], x[1], x[2], 12) for x in list(itertools.product(p, d, q))]\n",
        "\n",
        "x = np.asarray(x)\n",
        "\n",
        "best_aic = np.inf\n",
        "best_order = None\n",
        "best_seasonal_order = None"
      ]
    },
    {
      "cell_type": "code",
      "execution_count": null,
      "id": "594cb389-8ad8-4953-b429-89fa01d15d1e",
      "metadata": {
        "id": "594cb389-8ad8-4953-b429-89fa01d15d1e",
        "outputId": "776f8c2b-73f1-410c-89f4-93a783109b08"
      },
      "outputs": [
        {
          "name": "stdout",
          "output_type": "stream",
          "text": [
            "ARIMA(0, 0, 0)x(0, 0, 0, 12)12 - AIC:558.0734574963451\n",
            "ARIMA(0, 0, 0)x(0, 0, 1, 12)12 - AIC:343.8285739443737\n",
            "ARIMA(0, 0, 0)x(0, 1, 0, 12)12 - AIC:328.37533767061836\n",
            "ARIMA(0, 0, 0)x(0, 1, 1, 12)12 - AIC:133.00535753272123\n",
            "ARIMA(0, 0, 0)x(1, 0, 0, 12)12 - AIC:345.25540166892006\n"
          ]
        },
        {
          "name": "stderr",
          "output_type": "stream",
          "text": [
            "C:\\Users\\IDS\\AppData\\Local\\Programs\\Python\\Python311\\Lib\\site-packages\\statsmodels\\tsa\\statespace\\sarimax.py:866: UserWarning: Too few observations to estimate starting parameters for seasonal ARMA. All parameters except for variances will be set to zeros.\n",
            "  warn('Too few observations to estimate starting parameters%s.'\n",
            "C:\\Users\\IDS\\AppData\\Local\\Programs\\Python\\Python311\\Lib\\site-packages\\statsmodels\\base\\model.py:607: ConvergenceWarning: Maximum Likelihood optimization failed to converge. Check mle_retvals\n",
            "  warnings.warn(\"Maximum Likelihood optimization failed to \"\n"
          ]
        },
        {
          "name": "stdout",
          "output_type": "stream",
          "text": [
            "ARIMA(0, 0, 0)x(1, 0, 1, 12)12 - AIC:331.88786992175096\n",
            "ARIMA(0, 0, 0)x(1, 1, 0, 12)12 - AIC:147.6796467122927\n",
            "ARIMA(0, 0, 0)x(1, 1, 1, 12)12 - AIC:132.1840058374748\n",
            "ARIMA(0, 0, 1)x(0, 0, 0, 12)12 - AIC:526.7118882521207\n",
            "ARIMA(0, 0, 1)x(0, 0, 1, 12)12 - AIC:324.597357220957\n",
            "ARIMA(0, 0, 1)x(0, 1, 0, 12)12 - AIC:314.924683229278\n",
            "ARIMA(0, 0, 1)x(0, 1, 1, 12)12 - AIC:119.56996436620246\n",
            "ARIMA(0, 0, 1)x(1, 0, 0, 12)12 - AIC:347.2033222047412\n",
            "ARIMA(0, 0, 1)x(1, 0, 1, 12)12 - AIC:313.95730589741794\n",
            "ARIMA(0, 0, 1)x(1, 1, 0, 12)12 - AIC:148.9462284475791\n",
            "ARIMA(0, 0, 1)x(1, 1, 1, 12)12 - AIC:118.17018066114896\n",
            "ARIMA(0, 1, 0)x(0, 0, 0, 12)12 - AIC:498.36769419082594\n",
            "ARIMA(0, 1, 0)x(0, 0, 1, 12)12 - AIC:314.68237229500187\n",
            "ARIMA(0, 1, 0)x(0, 1, 0, 12)12 - AIC:323.4484915181951\n",
            "ARIMA(0, 1, 0)x(0, 1, 1, 12)12 - AIC:120.13021315622795\n",
            "ARIMA(0, 1, 0)x(1, 0, 0, 12)12 - AIC:331.07475686197324\n",
            "ARIMA(0, 1, 0)x(1, 0, 1, 12)12 - AIC:316.63944096215437\n",
            "ARIMA(0, 1, 0)x(1, 1, 0, 12)12 - AIC:131.79248881875623\n",
            "ARIMA(0, 1, 0)x(1, 1, 1, 12)12 - AIC:118.35844219258338\n",
            "ARIMA(0, 1, 1)x(0, 0, 0, 12)12 - AIC:465.9601429796517\n",
            "ARIMA(0, 1, 1)x(0, 0, 1, 12)12 - AIC:284.39160434500945\n",
            "ARIMA(0, 1, 1)x(0, 1, 0, 12)12 - AIC:295.74730527076343\n",
            "ARIMA(0, 1, 1)x(0, 1, 1, 12)12 - AIC:92.93672408006347\n",
            "ARIMA(0, 1, 1)x(1, 0, 0, 12)12 - AIC:320.55725965672985\n",
            "ARIMA(0, 1, 1)x(1, 0, 1, 12)12 - AIC:286.39147583606194\n",
            "ARIMA(0, 1, 1)x(1, 1, 0, 12)12 - AIC:129.47935190308687\n",
            "ARIMA(0, 1, 1)x(1, 1, 1, 12)12 - AIC:94.85519189088187\n",
            "ARIMA(1, 0, 0)x(0, 0, 0, 12)12 - AIC:513.8476706902163\n",
            "ARIMA(1, 0, 0)x(0, 0, 1, 12)12 - AIC:332.12136081689084\n",
            "ARIMA(1, 0, 0)x(0, 1, 0, 12)12 - AIC:330.2931982508164\n",
            "ARIMA(1, 0, 0)x(0, 1, 1, 12)12 - AIC:134.97022555129791\n"
          ]
        },
        {
          "name": "stderr",
          "output_type": "stream",
          "text": [
            "C:\\Users\\IDS\\AppData\\Local\\Programs\\Python\\Python311\\Lib\\site-packages\\statsmodels\\base\\model.py:607: ConvergenceWarning: Maximum Likelihood optimization failed to converge. Check mle_retvals\n",
            "  warnings.warn(\"Maximum Likelihood optimization failed to \"\n"
          ]
        },
        {
          "name": "stdout",
          "output_type": "stream",
          "text": [
            "ARIMA(1, 0, 0)x(1, 0, 0, 12)12 - AIC:331.5663806680466\n",
            "ARIMA(1, 0, 0)x(1, 0, 1, 12)12 - AIC:334.0437339846777\n",
            "ARIMA(1, 0, 0)x(1, 1, 0, 12)12 - AIC:132.4293296671807\n",
            "ARIMA(1, 0, 0)x(1, 1, 1, 12)12 - AIC:132.57896044443814\n",
            "ARIMA(1, 0, 1)x(0, 0, 0, 12)12 - AIC:478.6426591976069\n",
            "ARIMA(1, 0, 1)x(0, 0, 1, 12)12 - AIC:304.393869697864\n",
            "ARIMA(1, 0, 1)x(0, 1, 0, 12)12 - AIC:312.7347003835756\n",
            "ARIMA(1, 0, 1)x(0, 1, 1, 12)12 - AIC:119.68034986403717\n",
            "ARIMA(1, 0, 1)x(1, 0, 0, 12)12 - AIC:320.8306220653344\n",
            "ARIMA(1, 0, 1)x(1, 0, 1, 12)12 - AIC:306.3744156947465\n",
            "ARIMA(1, 0, 1)x(1, 1, 0, 12)12 - AIC:130.91076718528387\n"
          ]
        },
        {
          "name": "stderr",
          "output_type": "stream",
          "text": [
            "C:\\Users\\IDS\\AppData\\Local\\Programs\\Python\\Python311\\Lib\\site-packages\\statsmodels\\base\\model.py:607: ConvergenceWarning: Maximum Likelihood optimization failed to converge. Check mle_retvals\n",
            "  warnings.warn(\"Maximum Likelihood optimization failed to \"\n"
          ]
        },
        {
          "name": "stdout",
          "output_type": "stream",
          "text": [
            "ARIMA(1, 0, 1)x(1, 1, 1, 12)12 - AIC:118.11113319076613\n",
            "ARIMA(1, 1, 0)x(0, 0, 0, 12)12 - AIC:484.14441031653035\n",
            "ARIMA(1, 1, 0)x(0, 0, 1, 12)12 - AIC:307.60473106734634\n",
            "ARIMA(1, 1, 0)x(0, 1, 0, 12)12 - AIC:318.72380975775445\n",
            "ARIMA(1, 1, 0)x(0, 1, 1, 12)12 - AIC:119.28337635545728\n",
            "ARIMA(1, 1, 0)x(1, 0, 0, 12)12 - AIC:307.4883412795731\n",
            "ARIMA(1, 1, 0)x(1, 0, 1, 12)12 - AIC:309.5942795385015\n",
            "ARIMA(1, 1, 0)x(1, 1, 0, 12)12 - AIC:116.40234866317769\n",
            "ARIMA(1, 1, 0)x(1, 1, 1, 12)12 - AIC:118.10143285183965\n",
            "ARIMA(1, 1, 1)x(0, 0, 0, 12)12 - AIC:466.57601779554903\n",
            "ARIMA(1, 1, 1)x(0, 0, 1, 12)12 - AIC:284.80052726541055\n",
            "ARIMA(1, 1, 1)x(0, 1, 0, 12)12 - AIC:297.47553099458725\n",
            "ARIMA(1, 1, 1)x(0, 1, 1, 12)12 - AIC:92.91073819702169\n",
            "ARIMA(1, 1, 1)x(1, 0, 0, 12)12 - AIC:306.6923491903287\n",
            "ARIMA(1, 1, 1)x(1, 0, 1, 12)12 - AIC:285.6954073013599\n",
            "ARIMA(1, 1, 1)x(1, 1, 0, 12)12 - AIC:116.4777666078686\n",
            "ARIMA(1, 1, 1)x(1, 1, 1, 12)12 - AIC:94.83104408209127\n",
            "Best ARIMA model: ARIMA(1, 1, 1)x(0, 1, 1, 12)12 - AIC:92.91073819702169\n"
          ]
        }
      ],
      "source": [
        "for param in pdq:\n",
        "    for param_seasonal in seasonal_pdq:\n",
        "        try:\n",
        "            mod = sm.tsa.statespace.SARIMAX(x,\n",
        "                                            order=param,\n",
        "                                            seasonal_order=param_seasonal,\n",
        "                                            enforce_stationarity=False,\n",
        "                                            enforce_invertibility=False)\n",
        "            results = mod.fit()\n",
        "            if results.aic < best_aic:\n",
        "                best_aic = results.aic\n",
        "                best_order = param\n",
        "                best_seasonal_order = param_seasonal\n",
        "            print('ARIMA{}x{}12 - AIC:{}'.format(param, param_seasonal, results.aic))\n",
        "        except:\n",
        "            continue\n",
        "\n",
        "print(f\"Best ARIMA model: ARIMA{best_order}x{best_seasonal_order}12 - AIC:{best_aic}\")"
      ]
    },
    {
      "cell_type": "code",
      "execution_count": null,
      "id": "a68a07a4-c79f-478e-abf4-27a0224472c6",
      "metadata": {
        "id": "a68a07a4-c79f-478e-abf4-27a0224472c6",
        "outputId": "c7589336-d1c6-4c52-99e1-dbaffe5d3a4b"
      },
      "outputs": [
        {
          "name": "stdout",
          "output_type": "stream",
          "text": [
            "==============================================================================\n",
            "                 coef    std err          z      P>|z|      [0.025      0.975]\n",
            "------------------------------------------------------------------------------\n",
            "ar.L1         -0.2462      0.507     -0.485      0.627      -1.240       0.748\n",
            "ma.L1         -1.0000    263.140     -0.004      0.997    -516.745     514.745\n",
            "ma.S.L12      -1.0011    262.158     -0.004      0.997    -514.822     512.820\n",
            "sigma2      4.976e+04      0.005   9.16e+06      0.000    4.98e+04    4.98e+04\n",
            "==============================================================================\n"
          ]
        }
      ],
      "source": [
        "mod = sm.tsa.statespace.SARIMAX(x,\n",
        "                                order=best_order,\n",
        "                                seasonal_order=best_seasonal_order,\n",
        "                                enforce_stationarity=False,\n",
        "                                enforce_invertibility=False)\n",
        "results = mod.fit()\n",
        "print(results.summary().tables[1])"
      ]
    },
    {
      "cell_type": "code",
      "execution_count": null,
      "id": "8759a5d8-21e5-4cce-aaeb-9ae15e9588cb",
      "metadata": {
        "id": "8759a5d8-21e5-4cce-aaeb-9ae15e9588cb",
        "outputId": "8a5fc269-91b9-4a7a-c689-0c5922dec688"
      },
      "outputs": [
        {
          "name": "stdout",
          "output_type": "stream",
          "text": [
            "Forecasted values: [1869.00340187 1365.39676067 2036.46960862 1445.15267969 1859.21625046\n",
            " 1959.3603849  2177.50169434 1989.0500922  2049.75039991 2384.3459736\n",
            " 2274.85236353 1860.62404699]\n"
          ]
        }
      ],
      "source": [
        "forecast_steps = 12\n",
        "forecast = results.get_forecast(steps=forecast_steps)\n",
        "forecast_values = forecast.predicted_mean\n",
        "print(f\"Forecasted values: {forecast_values}\")"
      ]
    },
    {
      "cell_type": "code",
      "execution_count": null,
      "id": "9c8770d0-badd-4c88-9b4f-7dc99ed4ed85",
      "metadata": {
        "id": "9c8770d0-badd-4c88-9b4f-7dc99ed4ed85",
        "outputId": "9793f83b-b4e6-47cd-f43a-13637782ee0a"
      },
      "outputs": [
        {
          "name": "stdout",
          "output_type": "stream",
          "text": [
            "Mean Squared Error (MSE): 280288.691012746\n"
          ]
        }
      ],
      "source": [
        "actual_values = x[-forecast_steps:]\n",
        "mse = mean_squared_error(actual_values, forecast_values)\n",
        "print(f\"Mean Squared Error (MSE): {mse}\")"
      ]
    },
    {
      "cell_type": "code",
      "execution_count": null,
      "id": "dc7ad6d4-f1cf-42b5-9a9c-7782137b7a18",
      "metadata": {
        "id": "dc7ad6d4-f1cf-42b5-9a9c-7782137b7a18"
      },
      "outputs": [],
      "source": [
        "df_to_append = pd.DataFrame(columns=df_arima.columns)\n",
        "\n",
        "df_to_append['Demand'] = forecast_values\n",
        "\n",
        "for column in df_to_append.columns:\n",
        "    if column != 'Demand':\n",
        "        df_to_append[column] = 0\n",
        "\n",
        "df_svr = pd.concat([df_arima, df_to_append], ignore_index=True)"
      ]
    },
    {
      "cell_type": "code",
      "execution_count": null,
      "id": "b066289e-cced-4070-8ce9-b7f54b31b55e",
      "metadata": {
        "id": "b066289e-cced-4070-8ce9-b7f54b31b55e",
        "outputId": "92855a9d-a0a9-452a-efc8-38248fa0978c"
      },
      "outputs": [
        {
          "data": {
            "text/html": [
              "<div>\n",
              "<style scoped>\n",
              "    .dataframe tbody tr th:only-of-type {\n",
              "        vertical-align: middle;\n",
              "    }\n",
              "\n",
              "    .dataframe tbody tr th {\n",
              "        vertical-align: top;\n",
              "    }\n",
              "\n",
              "    .dataframe thead th {\n",
              "        text-align: right;\n",
              "    }\n",
              "</style>\n",
              "<table border=\"1\" class=\"dataframe\">\n",
              "  <thead>\n",
              "    <tr style=\"text-align: right;\">\n",
              "      <th></th>\n",
              "      <th>Demand</th>\n",
              "    </tr>\n",
              "  </thead>\n",
              "  <tbody>\n",
              "    <tr>\n",
              "      <th>0</th>\n",
              "      <td>914</td>\n",
              "    </tr>\n",
              "    <tr>\n",
              "      <th>25</th>\n",
              "      <td>913</td>\n",
              "    </tr>\n",
              "    <tr>\n",
              "      <th>19</th>\n",
              "      <td>986</td>\n",
              "    </tr>\n",
              "    <tr>\n",
              "      <th>20</th>\n",
              "      <td>951</td>\n",
              "    </tr>\n",
              "    <tr>\n",
              "      <th>21</th>\n",
              "      <td>770</td>\n",
              "    </tr>\n",
              "    <tr>\n",
              "      <th>22</th>\n",
              "      <td>998</td>\n",
              "    </tr>\n",
              "    <tr>\n",
              "      <th>23</th>\n",
              "      <td>917</td>\n",
              "    </tr>\n",
              "    <tr>\n",
              "      <th>24</th>\n",
              "      <td>1269</td>\n",
              "    </tr>\n",
              "    <tr>\n",
              "      <th>32</th>\n",
              "      <td>1285</td>\n",
              "    </tr>\n",
              "    <tr>\n",
              "      <th>26</th>\n",
              "      <td>984</td>\n",
              "    </tr>\n",
              "    <tr>\n",
              "      <th>27</th>\n",
              "      <td>976</td>\n",
              "    </tr>\n",
              "    <tr>\n",
              "      <th>28</th>\n",
              "      <td>994</td>\n",
              "    </tr>\n",
              "    <tr>\n",
              "      <th>29</th>\n",
              "      <td>515</td>\n",
              "    </tr>\n",
              "    <tr>\n",
              "      <th>30</th>\n",
              "      <td>1100</td>\n",
              "    </tr>\n",
              "    <tr>\n",
              "      <th>31</th>\n",
              "      <td>2322</td>\n",
              "    </tr>\n",
              "    <tr>\n",
              "      <th>17</th>\n",
              "      <td>1410</td>\n",
              "    </tr>\n",
              "    <tr>\n",
              "      <th>18</th>\n",
              "      <td>1644</td>\n",
              "    </tr>\n",
              "    <tr>\n",
              "      <th>15</th>\n",
              "      <td>1561</td>\n",
              "    </tr>\n",
              "    <tr>\n",
              "      <th>14</th>\n",
              "      <td>2050</td>\n",
              "    </tr>\n",
              "    <tr>\n",
              "      <th>13</th>\n",
              "      <td>1464</td>\n",
              "    </tr>\n",
              "    <tr>\n",
              "      <th>12</th>\n",
              "      <td>410</td>\n",
              "    </tr>\n",
              "    <tr>\n",
              "      <th>11</th>\n",
              "      <td>1985</td>\n",
              "    </tr>\n",
              "    <tr>\n",
              "      <th>10</th>\n",
              "      <td>636</td>\n",
              "    </tr>\n",
              "    <tr>\n",
              "      <th>9</th>\n",
              "      <td>2135</td>\n",
              "    </tr>\n",
              "    <tr>\n",
              "      <th>16</th>\n",
              "      <td>1279</td>\n",
              "    </tr>\n",
              "    <tr>\n",
              "      <th>8</th>\n",
              "      <td>1409</td>\n",
              "    </tr>\n",
              "    <tr>\n",
              "      <th>7</th>\n",
              "      <td>553</td>\n",
              "    </tr>\n",
              "    <tr>\n",
              "      <th>6</th>\n",
              "      <td>2131</td>\n",
              "    </tr>\n",
              "    <tr>\n",
              "      <th>5</th>\n",
              "      <td>1505</td>\n",
              "    </tr>\n",
              "    <tr>\n",
              "      <th>4</th>\n",
              "      <td>1539</td>\n",
              "    </tr>\n",
              "    <tr>\n",
              "      <th>3</th>\n",
              "      <td>2153</td>\n",
              "    </tr>\n",
              "    <tr>\n",
              "      <th>2</th>\n",
              "      <td>2057</td>\n",
              "    </tr>\n",
              "    <tr>\n",
              "      <th>1</th>\n",
              "      <td>1818</td>\n",
              "    </tr>\n",
              "  </tbody>\n",
              "</table>\n",
              "</div>"
            ],
            "text/plain": [
              "    Demand\n",
              "0      914\n",
              "25     913\n",
              "19     986\n",
              "20     951\n",
              "21     770\n",
              "22     998\n",
              "23     917\n",
              "24    1269\n",
              "32    1285\n",
              "26     984\n",
              "27     976\n",
              "28     994\n",
              "29     515\n",
              "30    1100\n",
              "31    2322\n",
              "17    1410\n",
              "18    1644\n",
              "15    1561\n",
              "14    2050\n",
              "13    1464\n",
              "12     410\n",
              "11    1985\n",
              "10     636\n",
              "9     2135\n",
              "16    1279\n",
              "8     1409\n",
              "7      553\n",
              "6     2131\n",
              "5     1505\n",
              "4     1539\n",
              "3     2153\n",
              "2     2057\n",
              "1     1818"
            ]
          },
          "execution_count": 28,
          "metadata": {},
          "output_type": "execute_result"
        }
      ],
      "source": [
        "df_arima"
      ]
    },
    {
      "cell_type": "code",
      "execution_count": null,
      "id": "7fece65c-c16f-480b-9a44-89a1eb025596",
      "metadata": {
        "id": "7fece65c-c16f-480b-9a44-89a1eb025596",
        "outputId": "9fafc68e-c029-4f07-8cf9-dc38bc65cedb"
      },
      "outputs": [
        {
          "data": {
            "image/png": "[encoded data removed]",
            "text/plain": [
              "<Figure size 1200x600 with 1 Axes>"
            ]
          },
          "metadata": {},
          "output_type": "display_data"
        }
      ],
      "source": [
        "plt.figure(figsize=(12, 6))\n",
        "plt.plot(df_svr.index, df_svr['Demand'], label='All Data', color='blue')\n",
        "plt.scatter(df_svr.index[-12:], df_svr['Demand'].tail(12), color='red', label='Last 12', s=100)\n",
        "\n",
        "plt.xlabel('Data')\n",
        "plt.ylabel('Demand')\n",
        "plt.title('Demand Variation')\n",
        "plt.legend()\n",
        "\n",
        "plt.show()"
      ]
    },
    {
      "cell_type": "code",
      "execution_count": null,
      "id": "7da69ed5-a4ae-4ce7-8169-8395f6d3d70f",
      "metadata": {
        "id": "7da69ed5-a4ae-4ce7-8169-8395f6d3d70f",
        "outputId": "9c8fec77-0f6a-4cde-b1c0-10900c9fb4f4"
      },
      "outputs": [
        {
          "name": "stdout",
          "output_type": "stream",
          "text": [
            "The product has a decreasing trend with a tolerance of 20%.\n"
          ]
        }
      ],
      "source": [
        "df_svr['Percentage Change'] = df_svr['Demand'].pct_change() * 100\n",
        "\n",
        "tolerance = 20\n",
        "increasing_trend = ((df_svr['Percentage Change'] >= -tolerance) & (df_svr['Percentage Change'] <= tolerance)).all()\n",
        "\n",
        "if increasing_trend:\n",
        "    print(\"The product has an increasing trend with a tolerance of 20%.\")\n",
        "else:\n",
        "    print(\"The product has a decreasing trend with a tolerance of 20%.\")"
      ]
    },
    {
      "cell_type": "code",
      "execution_count": null,
      "id": "8f023a34-f310-46c0-bc3e-c97c736f732d",
      "metadata": {
        "id": "8f023a34-f310-46c0-bc3e-c97c736f732d"
      },
      "outputs": [],
      "source": []
    }
  ],
  "metadata": {
    "kernelspec": {
      "display_name": "Python 3 (ipykernel)",
      "language": "python",
      "name": "python3"
    },
    "language_info": {
      "codemirror_mode": {
        "name": "ipython",
        "version": 3
      },
      "file_extension": ".py",
      "mimetype": "text/x-python",
      "name": "python",
      "nbconvert_exporter": "python",
      "pygments_lexer": "ipython3",
      "version": "3.11.6"
    },
    "colab": {
      "provenance": [],
      "include_colab_link": true
    }
  },
  "nbformat": 4,
  "nbformat_minor": 5
}