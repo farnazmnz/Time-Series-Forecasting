{
  "cells": [
    {
      "cell_type": "markdown",
      "metadata": {
        "id": "view-in-github",
        "colab_type": "text"
      },
      "source": [
        "<a href=\"https://colab.research.google.com/github/farnazmnz/Time-Series-Forecasting/blob/main/1_demand_garanty.ipynb\" target=\"_parent\"><img src=\"https://colab.research.google.com/assets/colab-badge.svg\" alt=\"Open In Colab\"/></a>"
      ]
    },
    {
      "cell_type": "code",
      "execution_count": null,
      "id": "4781814f-7817-4050-bfd7-aab84489af5f",
      "metadata": {
        "id": "4781814f-7817-4050-bfd7-aab84489af5f"
      },
      "outputs": [],
      "source": [
        "import pandas as pd"
      ]
    },
    {
      "cell_type": "code",
      "execution_count": null,
      "id": "fb3fcef7-8e84-4c5a-9e68-c76942265d19",
      "metadata": {
        "id": "fb3fcef7-8e84-4c5a-9e68-c76942265d19"
      },
      "outputs": [],
      "source": [
        "data = pd.read_excel('data_demand_garanti.xlsx')"
      ]
    },
    {
      "cell_type": "code",
      "execution_count": null,
      "id": "58346c59-d45b-47f5-826b-5136b8ca72d3",
      "metadata": {
        "id": "58346c59-d45b-47f5-826b-5136b8ca72d3",
        "outputId": "e9695226-e07d-460e-e404-157d4ed75d28"
      },
      "outputs": [
        {
          "data": {
            "text/html": [
              "<div>\n",
              "<style scoped>\n",
              "    .dataframe tbody tr th:only-of-type {\n",
              "        vertical-align: middle;\n",
              "    }\n",
              "\n",
              "    .dataframe tbody tr th {\n",
              "        vertical-align: top;\n",
              "    }\n",
              "\n",
              "    .dataframe thead th {\n",
              "        text-align: right;\n",
              "    }\n",
              "</style>\n",
              "<table border=\"1\" class=\"dataframe\">\n",
              "  <thead>\n",
              "    <tr style=\"text-align: right;\">\n",
              "      <th></th>\n",
              "      <th>Unnamed: 0</th>\n",
              "      <th>Date_x</th>\n",
              "      <th>GDS_x</th>\n",
              "      <th>PLN_GROUP_x</th>\n",
              "      <th>QUALITY_F_x</th>\n",
              "      <th>DES_EN_x</th>\n",
              "      <th>YYMM_x</th>\n",
              "      <th>Date &amp; GDS &amp; PLN</th>\n",
              "      <th>Demand</th>\n",
              "      <th>QTY_GARANTY_S</th>\n",
              "    </tr>\n",
              "  </thead>\n",
              "  <tbody>\n",
              "    <tr>\n",
              "      <th>0</th>\n",
              "      <td>0</td>\n",
              "      <td>0</td>\n",
              "      <td>3602006</td>\n",
              "      <td>VP</td>\n",
              "      <td>OEM/GS</td>\n",
              "      <td>TR</td>\n",
              "      <td>140001</td>\n",
              "      <td>OEM/GS-3602006-140001-VP</td>\n",
              "      <td>914</td>\n",
              "      <td>115</td>\n",
              "    </tr>\n",
              "    <tr>\n",
              "      <th>1</th>\n",
              "      <td>1</td>\n",
              "      <td>0</td>\n",
              "      <td>3602006</td>\n",
              "      <td>VP</td>\n",
              "      <td>OEM/GS</td>\n",
              "      <td>TR</td>\n",
              "      <td>140206</td>\n",
              "      <td>OEM/GS-3602006-140206-VP</td>\n",
              "      <td>1539</td>\n",
              "      <td>43</td>\n",
              "    </tr>\n",
              "    <tr>\n",
              "      <th>2</th>\n",
              "      <td>2</td>\n",
              "      <td>0</td>\n",
              "      <td>3602006</td>\n",
              "      <td>VP</td>\n",
              "      <td>OEM/GS</td>\n",
              "      <td>TR</td>\n",
              "      <td>140205</td>\n",
              "      <td>OEM/GS-3602006-140205-VP</td>\n",
              "      <td>1505</td>\n",
              "      <td>193</td>\n",
              "    </tr>\n",
              "    <tr>\n",
              "      <th>3</th>\n",
              "      <td>3</td>\n",
              "      <td>0</td>\n",
              "      <td>3602006</td>\n",
              "      <td>VP</td>\n",
              "      <td>OEM/GS</td>\n",
              "      <td>TR</td>\n",
              "      <td>140204</td>\n",
              "      <td>OEM/GS-3602006-140204-VP</td>\n",
              "      <td>2131</td>\n",
              "      <td>132</td>\n",
              "    </tr>\n",
              "    <tr>\n",
              "      <th>4</th>\n",
              "      <td>4</td>\n",
              "      <td>0</td>\n",
              "      <td>3602006</td>\n",
              "      <td>VP</td>\n",
              "      <td>OEM/GS</td>\n",
              "      <td>TR</td>\n",
              "      <td>140203</td>\n",
              "      <td>OEM/GS-3602006-140203-VP</td>\n",
              "      <td>553</td>\n",
              "      <td>158</td>\n",
              "    </tr>\n",
              "    <tr>\n",
              "      <th>...</th>\n",
              "      <td>...</td>\n",
              "      <td>...</td>\n",
              "      <td>...</td>\n",
              "      <td>...</td>\n",
              "      <td>...</td>\n",
              "      <td>...</td>\n",
              "      <td>...</td>\n",
              "      <td>...</td>\n",
              "      <td>...</td>\n",
              "      <td>...</td>\n",
              "    </tr>\n",
              "    <tr>\n",
              "      <th>2653</th>\n",
              "      <td>2653</td>\n",
              "      <td>108</td>\n",
              "      <td>5402114</td>\n",
              "      <td>SP</td>\n",
              "      <td>OEM/GS</td>\n",
              "      <td>PC</td>\n",
              "      <td>140010</td>\n",
              "      <td>OEM/GS-5402114-140010-SP</td>\n",
              "      <td>93</td>\n",
              "      <td>1</td>\n",
              "    </tr>\n",
              "    <tr>\n",
              "      <th>2654</th>\n",
              "      <td>2654</td>\n",
              "      <td>108</td>\n",
              "      <td>5402114</td>\n",
              "      <td>SP</td>\n",
              "      <td>OEM/GS</td>\n",
              "      <td>PC</td>\n",
              "      <td>140009</td>\n",
              "      <td>OEM/GS-5402114-140009-SP</td>\n",
              "      <td>69</td>\n",
              "      <td>2</td>\n",
              "    </tr>\n",
              "    <tr>\n",
              "      <th>2655</th>\n",
              "      <td>2655</td>\n",
              "      <td>108</td>\n",
              "      <td>5402114</td>\n",
              "      <td>SP</td>\n",
              "      <td>OEM/GS</td>\n",
              "      <td>PC</td>\n",
              "      <td>140008</td>\n",
              "      <td>OEM/GS-5402114-140008-SP</td>\n",
              "      <td>45</td>\n",
              "      <td>1</td>\n",
              "    </tr>\n",
              "    <tr>\n",
              "      <th>2656</th>\n",
              "      <td>2656</td>\n",
              "      <td>108</td>\n",
              "      <td>5402114</td>\n",
              "      <td>SP</td>\n",
              "      <td>OEM/GS</td>\n",
              "      <td>PC</td>\n",
              "      <td>140007</td>\n",
              "      <td>OEM/GS-5402114-140007-SP</td>\n",
              "      <td>9</td>\n",
              "      <td>1</td>\n",
              "    </tr>\n",
              "    <tr>\n",
              "      <th>2657</th>\n",
              "      <td>2657</td>\n",
              "      <td>108</td>\n",
              "      <td>5402114</td>\n",
              "      <td>SP</td>\n",
              "      <td>OEM/GS</td>\n",
              "      <td>PC</td>\n",
              "      <td>140107</td>\n",
              "      <td>OEM/GS-5402114-140107-SP</td>\n",
              "      <td>124</td>\n",
              "      <td>10</td>\n",
              "    </tr>\n",
              "  </tbody>\n",
              "</table>\n",
              "<p>2658 rows × 10 columns</p>\n",
              "</div>"
            ],
            "text/plain": [
              "      Unnamed: 0  Date_x    GDS_x PLN_GROUP_x QUALITY_F_x DES_EN_x  YYMM_x  \\\n",
              "0              0       0  3602006          VP      OEM/GS       TR  140001   \n",
              "1              1       0  3602006          VP      OEM/GS       TR  140206   \n",
              "2              2       0  3602006          VP      OEM/GS       TR  140205   \n",
              "3              3       0  3602006          VP      OEM/GS       TR  140204   \n",
              "4              4       0  3602006          VP      OEM/GS       TR  140203   \n",
              "...          ...     ...      ...         ...         ...      ...     ...   \n",
              "2653        2653     108  5402114          SP      OEM/GS       PC  140010   \n",
              "2654        2654     108  5402114          SP      OEM/GS       PC  140009   \n",
              "2655        2655     108  5402114          SP      OEM/GS       PC  140008   \n",
              "2656        2656     108  5402114          SP      OEM/GS       PC  140007   \n",
              "2657        2657     108  5402114          SP      OEM/GS       PC  140107   \n",
              "\n",
              "              Date & GDS & PLN  Demand  QTY_GARANTY_S  \n",
              "0     OEM/GS-3602006-140001-VP     914            115  \n",
              "1     OEM/GS-3602006-140206-VP    1539             43  \n",
              "2     OEM/GS-3602006-140205-VP    1505            193  \n",
              "3     OEM/GS-3602006-140204-VP    2131            132  \n",
              "4     OEM/GS-3602006-140203-VP     553            158  \n",
              "...                        ...     ...            ...  \n",
              "2653  OEM/GS-5402114-140010-SP      93              1  \n",
              "2654  OEM/GS-5402114-140009-SP      69              2  \n",
              "2655  OEM/GS-5402114-140008-SP      45              1  \n",
              "2656  OEM/GS-5402114-140007-SP       9              1  \n",
              "2657  OEM/GS-5402114-140107-SP     124             10  \n",
              "\n",
              "[2658 rows x 10 columns]"
            ]
          },
          "execution_count": 3,
          "metadata": {},
          "output_type": "execute_result"
        }
      ],
      "source": [
        "data"
      ]
    },
    {
      "cell_type": "code",
      "execution_count": null,
      "id": "b8f2b552-0398-410c-bb3e-107d8a4db512",
      "metadata": {
        "id": "b8f2b552-0398-410c-bb3e-107d8a4db512",
        "outputId": "5fc7bcf3-ead1-45d9-d90c-9bb3d5697651"
      },
      "outputs": [
        {
          "data": {
            "text/plain": [
              "Date_x\n",
              "0      30\n",
              "80     30\n",
              "42     30\n",
              "46     30\n",
              "50     30\n",
              "       ..\n",
              "32      2\n",
              "70      1\n",
              "73      1\n",
              "103     1\n",
              "53      1\n",
              "Name: count, Length: 107, dtype: int64"
            ]
          },
          "execution_count": 4,
          "metadata": {},
          "output_type": "execute_result"
        }
      ],
      "source": [
        "data['Date_x'].value_counts()"
      ]
    },
    {
      "cell_type": "code",
      "execution_count": null,
      "id": "4d9b10c3-44d9-4e2a-a111-63757083e0b0",
      "metadata": {
        "id": "4d9b10c3-44d9-4e2a-a111-63757083e0b0"
      },
      "outputs": [],
      "source": [
        "dfs = {}\n",
        "\n",
        "for i in range(0, 103):\n",
        "    dfs[i] = data[data['Date_x'] == i]"
      ]
    },
    {
      "cell_type": "code",
      "execution_count": null,
      "id": "8ae1cc10-6123-459d-b74f-d85e01cc4bb3",
      "metadata": {
        "id": "8ae1cc10-6123-459d-b74f-d85e01cc4bb3"
      },
      "outputs": [],
      "source": [
        "dfs[80] = dfs[80].sort_values(by='YYMM_x', ascending=True)"
      ]
    },
    {
      "cell_type": "code",
      "execution_count": null,
      "id": "3dd24c40-4a25-4a6b-8e94-632121b34311",
      "metadata": {
        "id": "3dd24c40-4a25-4a6b-8e94-632121b34311"
      },
      "outputs": [],
      "source": [
        "df = dfs[80]"
      ]
    },
    {
      "cell_type": "code",
      "execution_count": null,
      "id": "c902495c-de28-4d11-9d7b-40c56c8c3c39",
      "metadata": {
        "id": "c902495c-de28-4d11-9d7b-40c56c8c3c39"
      },
      "outputs": [],
      "source": [
        "df = df.drop(columns=['Unnamed: 0' ,'Date_x' ,'GDS_x' ,'PLN_GROUP_x' ,'QUALITY_F_x' ,'DES_EN_x' ,'YYMM_x', 'Date & GDS & PLN'])"
      ]
    },
    {
      "cell_type": "code",
      "execution_count": null,
      "id": "75ffcd07-c6c8-40a4-97a1-933a358291cc",
      "metadata": {
        "id": "75ffcd07-c6c8-40a4-97a1-933a358291cc",
        "outputId": "b83bda8d-802d-4691-e5c3-5de2db87be7b"
      },
      "outputs": [
        {
          "data": {
            "text/html": [
              "<div>\n",
              "<style scoped>\n",
              "    .dataframe tbody tr th:only-of-type {\n",
              "        vertical-align: middle;\n",
              "    }\n",
              "\n",
              "    .dataframe tbody tr th {\n",
              "        vertical-align: top;\n",
              "    }\n",
              "\n",
              "    .dataframe thead th {\n",
              "        text-align: right;\n",
              "    }\n",
              "</style>\n",
              "<table border=\"1\" class=\"dataframe\">\n",
              "  <thead>\n",
              "    <tr style=\"text-align: right;\">\n",
              "      <th></th>\n",
              "      <th>Demand</th>\n",
              "      <th>QTY_GARANTY_S</th>\n",
              "    </tr>\n",
              "  </thead>\n",
              "  <tbody>\n",
              "    <tr>\n",
              "      <th>1912</th>\n",
              "      <td>4224</td>\n",
              "      <td>138</td>\n",
              "    </tr>\n",
              "    <tr>\n",
              "      <th>1913</th>\n",
              "      <td>5804</td>\n",
              "      <td>144</td>\n",
              "    </tr>\n",
              "    <tr>\n",
              "      <th>1914</th>\n",
              "      <td>4933</td>\n",
              "      <td>164</td>\n",
              "    </tr>\n",
              "    <tr>\n",
              "      <th>1915</th>\n",
              "      <td>4447</td>\n",
              "      <td>178</td>\n",
              "    </tr>\n",
              "    <tr>\n",
              "      <th>1916</th>\n",
              "      <td>6769</td>\n",
              "      <td>160</td>\n",
              "    </tr>\n",
              "    <tr>\n",
              "      <th>1918</th>\n",
              "      <td>7820</td>\n",
              "      <td>179</td>\n",
              "    </tr>\n",
              "    <tr>\n",
              "      <th>1925</th>\n",
              "      <td>7837</td>\n",
              "      <td>122</td>\n",
              "    </tr>\n",
              "    <tr>\n",
              "      <th>1919</th>\n",
              "      <td>5078</td>\n",
              "      <td>145</td>\n",
              "    </tr>\n",
              "    <tr>\n",
              "      <th>1920</th>\n",
              "      <td>12516</td>\n",
              "      <td>188</td>\n",
              "    </tr>\n",
              "    <tr>\n",
              "      <th>1921</th>\n",
              "      <td>22610</td>\n",
              "      <td>428</td>\n",
              "    </tr>\n",
              "    <tr>\n",
              "      <th>1922</th>\n",
              "      <td>3335</td>\n",
              "      <td>380</td>\n",
              "    </tr>\n",
              "    <tr>\n",
              "      <th>1909</th>\n",
              "      <td>15394</td>\n",
              "      <td>244</td>\n",
              "    </tr>\n",
              "    <tr>\n",
              "      <th>1923</th>\n",
              "      <td>10041</td>\n",
              "      <td>170</td>\n",
              "    </tr>\n",
              "    <tr>\n",
              "      <th>1924</th>\n",
              "      <td>4191</td>\n",
              "      <td>178</td>\n",
              "    </tr>\n",
              "    <tr>\n",
              "      <th>1910</th>\n",
              "      <td>14640</td>\n",
              "      <td>171</td>\n",
              "    </tr>\n",
              "    <tr>\n",
              "      <th>1917</th>\n",
              "      <td>5592</td>\n",
              "      <td>156</td>\n",
              "    </tr>\n",
              "    <tr>\n",
              "      <th>1908</th>\n",
              "      <td>9487</td>\n",
              "      <td>213</td>\n",
              "    </tr>\n",
              "    <tr>\n",
              "      <th>1905</th>\n",
              "      <td>9705</td>\n",
              "      <td>213</td>\n",
              "    </tr>\n",
              "    <tr>\n",
              "      <th>1926</th>\n",
              "      <td>6813</td>\n",
              "      <td>179</td>\n",
              "    </tr>\n",
              "    <tr>\n",
              "      <th>1911</th>\n",
              "      <td>8671</td>\n",
              "      <td>317</td>\n",
              "    </tr>\n",
              "    <tr>\n",
              "      <th>1906</th>\n",
              "      <td>8831</td>\n",
              "      <td>372</td>\n",
              "    </tr>\n",
              "    <tr>\n",
              "      <th>1904</th>\n",
              "      <td>7311</td>\n",
              "      <td>589</td>\n",
              "    </tr>\n",
              "    <tr>\n",
              "      <th>1903</th>\n",
              "      <td>16950</td>\n",
              "      <td>544</td>\n",
              "    </tr>\n",
              "    <tr>\n",
              "      <th>1900</th>\n",
              "      <td>13480</td>\n",
              "      <td>338</td>\n",
              "    </tr>\n",
              "    <tr>\n",
              "      <th>1902</th>\n",
              "      <td>10110</td>\n",
              "      <td>206</td>\n",
              "    </tr>\n",
              "    <tr>\n",
              "      <th>1901</th>\n",
              "      <td>5565</td>\n",
              "      <td>218</td>\n",
              "    </tr>\n",
              "    <tr>\n",
              "      <th>1907</th>\n",
              "      <td>13225</td>\n",
              "      <td>213</td>\n",
              "    </tr>\n",
              "    <tr>\n",
              "      <th>1899</th>\n",
              "      <td>28079</td>\n",
              "      <td>221</td>\n",
              "    </tr>\n",
              "    <tr>\n",
              "      <th>1898</th>\n",
              "      <td>12696</td>\n",
              "      <td>262</td>\n",
              "    </tr>\n",
              "    <tr>\n",
              "      <th>1897</th>\n",
              "      <td>18083</td>\n",
              "      <td>60</td>\n",
              "    </tr>\n",
              "  </tbody>\n",
              "</table>\n",
              "</div>"
            ],
            "text/plain": [
              "      Demand  QTY_GARANTY_S\n",
              "1912    4224            138\n",
              "1913    5804            144\n",
              "1914    4933            164\n",
              "1915    4447            178\n",
              "1916    6769            160\n",
              "1918    7820            179\n",
              "1925    7837            122\n",
              "1919    5078            145\n",
              "1920   12516            188\n",
              "1921   22610            428\n",
              "1922    3335            380\n",
              "1909   15394            244\n",
              "1923   10041            170\n",
              "1924    4191            178\n",
              "1910   14640            171\n",
              "1917    5592            156\n",
              "1908    9487            213\n",
              "1905    9705            213\n",
              "1926    6813            179\n",
              "1911    8671            317\n",
              "1906    8831            372\n",
              "1904    7311            589\n",
              "1903   16950            544\n",
              "1900   13480            338\n",
              "1902   10110            206\n",
              "1901    5565            218\n",
              "1907   13225            213\n",
              "1899   28079            221\n",
              "1898   12696            262\n",
              "1897   18083             60"
            ]
          },
          "execution_count": 9,
          "metadata": {},
          "output_type": "execute_result"
        }
      ],
      "source": [
        "df"
      ]
    },
    {
      "cell_type": "code",
      "execution_count": null,
      "id": "167c6226-1014-481c-bd9d-1e1da823215a",
      "metadata": {
        "id": "167c6226-1014-481c-bd9d-1e1da823215a"
      },
      "outputs": [],
      "source": [
        "from sklearn.model_selection import train_test_split\n",
        "from sklearn.metrics import mean_squared_error, accuracy_score\n",
        "import matplotlib.pyplot as plt\n",
        "import numpy as np"
      ]
    },
    {
      "cell_type": "markdown",
      "id": "98addfec-2cad-461c-afdd-a6455b9a4aff",
      "metadata": {
        "id": "98addfec-2cad-461c-afdd-a6455b9a4aff"
      },
      "source": [
        "### LSTM"
      ]
    },
    {
      "cell_type": "code",
      "execution_count": null,
      "id": "9dd952c9-a557-4664-abec-0cd225f42c57",
      "metadata": {
        "id": "9dd952c9-a557-4664-abec-0cd225f42c57"
      },
      "outputs": [],
      "source": [
        "from tensorflow.keras.models import Sequential\n",
        "from tensorflow.keras.layers import LSTM, Dense\n",
        "from keras.layers import BatchNormalization, Activation\n",
        "from keras.regularizers import l2\n",
        "from tensorflow.keras.optimizers import Adam"
      ]
    },
    {
      "cell_type": "code",
      "execution_count": null,
      "id": "2039ab97-8c91-4b66-9e45-e7954a489837",
      "metadata": {
        "id": "2039ab97-8c91-4b66-9e45-e7954a489837"
      },
      "outputs": [],
      "source": [
        "df_lstm = df.copy()"
      ]
    },
    {
      "cell_type": "code",
      "execution_count": null,
      "id": "7739044b-1603-4247-84c5-2224cc948d83",
      "metadata": {
        "id": "7739044b-1603-4247-84c5-2224cc948d83",
        "outputId": "10e69877-e5f5-44bf-a07d-503605490262"
      },
      "outputs": [
        {
          "name": "stderr",
          "output_type": "stream",
          "text": [
            "C:\\Users\\IDS\\AppData\\Local\\Programs\\Python\\Python311\\Lib\\site-packages\\keras\\src\\layers\\rnn\\rnn.py:205: UserWarning: Do not pass an `input_shape`/`input_dim` argument to a layer. When using Sequential models, prefer using an `Input(shape)` object as the first layer in the model instead.\n",
            "  super().__init__(**kwargs)\n"
          ]
        },
        {
          "name": "stdout",
          "output_type": "stream",
          "text": [
            "Epoch 1/20\n",
            "\u001b[1m1/1\u001b[0m \u001b[32m━━━━━━━━━━━━━━━━━━━━\u001b[0m\u001b[37m\u001b[0m \u001b[1m9s\u001b[0m 9s/step - loss: 95718360.0000\n",
            "Epoch 2/20\n",
            "\u001b[1m1/1\u001b[0m \u001b[32m━━━━━━━━━━━━━━━━━━━━\u001b[0m\u001b[37m\u001b[0m \u001b[1m0s\u001b[0m 44ms/step - loss: 95716376.0000\n",
            "Epoch 3/20\n",
            "\u001b[1m1/1\u001b[0m \u001b[32m━━━━━━━━━━━━━━━━━━━━\u001b[0m\u001b[37m\u001b[0m \u001b[1m0s\u001b[0m 44ms/step - loss: 95714920.0000\n",
            "Epoch 4/20\n",
            "\u001b[1m1/1\u001b[0m \u001b[32m━━━━━━━━━━━━━━━━━━━━\u001b[0m\u001b[37m\u001b[0m \u001b[1m0s\u001b[0m 54ms/step - loss: 95713920.0000\n",
            "Epoch 5/20\n",
            "\u001b[1m1/1\u001b[0m \u001b[32m━━━━━━━━━━━━━━━━━━━━\u001b[0m\u001b[37m\u001b[0m \u001b[1m0s\u001b[0m 42ms/step - loss: 95712960.0000\n",
            "Epoch 6/20\n",
            "\u001b[1m1/1\u001b[0m \u001b[32m━━━━━━━━━━━━━━━━━━━━\u001b[0m\u001b[37m\u001b[0m \u001b[1m0s\u001b[0m 51ms/step - loss: 95712040.0000\n",
            "Epoch 7/20\n",
            "\u001b[1m1/1\u001b[0m \u001b[32m━━━━━━━━━━━━━━━━━━━━\u001b[0m\u001b[37m\u001b[0m \u001b[1m0s\u001b[0m 67ms/step - loss: 95711104.0000\n",
            "Epoch 8/20\n",
            "\u001b[1m1/1\u001b[0m \u001b[32m━━━━━━━━━━━━━━━━━━━━\u001b[0m\u001b[37m\u001b[0m \u001b[1m0s\u001b[0m 75ms/step - loss: 95710360.0000\n",
            "Epoch 9/20\n",
            "\u001b[1m1/1\u001b[0m \u001b[32m━━━━━━━━━━━━━━━━━━━━\u001b[0m\u001b[37m\u001b[0m \u001b[1m0s\u001b[0m 71ms/step - loss: 95709768.0000\n",
            "Epoch 10/20\n",
            "\u001b[1m1/1\u001b[0m \u001b[32m━━━━━━━━━━━━━━━━━━━━\u001b[0m\u001b[37m\u001b[0m \u001b[1m0s\u001b[0m 73ms/step - loss: 95709400.0000\n",
            "Epoch 11/20\n",
            "\u001b[1m1/1\u001b[0m \u001b[32m━━━━━━━━━━━━━━━━━━━━\u001b[0m\u001b[37m\u001b[0m \u001b[1m0s\u001b[0m 70ms/step - loss: 95708096.0000\n",
            "Epoch 12/20\n",
            "\u001b[1m1/1\u001b[0m \u001b[32m━━━━━━━━━━━━━━━━━━━━\u001b[0m\u001b[37m\u001b[0m \u001b[1m0s\u001b[0m 67ms/step - loss: 95706584.0000\n",
            "Epoch 13/20\n",
            "\u001b[1m1/1\u001b[0m \u001b[32m━━━━━━━━━━━━━━━━━━━━\u001b[0m\u001b[37m\u001b[0m \u001b[1m0s\u001b[0m 69ms/step - loss: 95705248.0000\n",
            "Epoch 14/20\n",
            "\u001b[1m1/1\u001b[0m \u001b[32m━━━━━━━━━━━━━━━━━━━━\u001b[0m\u001b[37m\u001b[0m \u001b[1m0s\u001b[0m 80ms/step - loss: 95704064.0000\n",
            "Epoch 15/20\n",
            "\u001b[1m1/1\u001b[0m \u001b[32m━━━━━━━━━━━━━━━━━━━━\u001b[0m\u001b[37m\u001b[0m \u001b[1m0s\u001b[0m 68ms/step - loss: 95702976.0000\n",
            "Epoch 16/20\n",
            "\u001b[1m1/1\u001b[0m \u001b[32m━━━━━━━━━━━━━━━━━━━━\u001b[0m\u001b[37m\u001b[0m \u001b[1m0s\u001b[0m 93ms/step - loss: 95701952.0000\n",
            "Epoch 17/20\n",
            "\u001b[1m1/1\u001b[0m \u001b[32m━━━━━━━━━━━━━━━━━━━━\u001b[0m\u001b[37m\u001b[0m \u001b[1m0s\u001b[0m 89ms/step - loss: 95701000.0000\n",
            "Epoch 18/20\n",
            "\u001b[1m1/1\u001b[0m \u001b[32m━━━━━━━━━━━━━━━━━━━━\u001b[0m\u001b[37m\u001b[0m \u001b[1m0s\u001b[0m 52ms/step - loss: 95700096.0000\n",
            "Epoch 19/20\n",
            "\u001b[1m1/1\u001b[0m \u001b[32m━━━━━━━━━━━━━━━━━━━━\u001b[0m\u001b[37m\u001b[0m \u001b[1m0s\u001b[0m 74ms/step - loss: 95699176.0000\n",
            "Epoch 20/20\n",
            "\u001b[1m1/1\u001b[0m \u001b[32m━━━━━━━━━━━━━━━━━━━━\u001b[0m\u001b[37m\u001b[0m \u001b[1m0s\u001b[0m 55ms/step - loss: 95698216.0000\n",
            "\u001b[1m1/1\u001b[0m \u001b[32m━━━━━━━━━━━━━━━━━━━━\u001b[0m\u001b[37m\u001b[0m \u001b[1m1s\u001b[0m 691ms/step\n",
            "Mean Squared Error: 293906248.7788019\n"
          ]
        }
      ],
      "source": [
        "features = df_lstm.drop(columns=['Demand']).values\n",
        "target = df_lstm['Demand'].values\n",
        "\n",
        "X_train, X_test, y_train, y_test = train_test_split(features, target, test_size=0.2, random_state=42)\n",
        "\n",
        "X_train = np.reshape(X_train, (X_train.shape[0], 1, X_train.shape[1]))\n",
        "X_test = np.reshape(X_test, (X_test.shape[0], 1, X_test.shape[1]))\n",
        "\n",
        "model_lstm = Sequential()\n",
        "model_lstm.add(LSTM(units=128, return_sequences=True, input_shape=(X_train.shape[1], 1)))\n",
        "model_lstm.add(BatchNormalization())\n",
        "model_lstm.add(LSTM(units=64, return_sequences=True))\n",
        "model_lstm.add(BatchNormalization())\n",
        "model_lstm.add(LSTM(units=32))\n",
        "model_lstm.add(Dense(units=1, kernel_regularizer=l2(0.001)))\n",
        "model_lstm.add(Activation('linear'))\n",
        "\n",
        "model_lstm.compile(optimizer=Adam(learning_rate=0.001), loss='mean_squared_error')\n",
        "\n",
        "model_lstm.fit(X_train, y_train, epochs=20, batch_size=32, verbose=1)\n",
        "\n",
        "predictions = model_lstm.predict(X_test)\n",
        "mse = mean_squared_error(y_test, predictions)\n",
        "print(\"Mean Squared Error:\", mse)"
      ]
    },
    {
      "cell_type": "code",
      "execution_count": null,
      "id": "fb807e5b-123f-402d-af53-957b7754ca58",
      "metadata": {
        "id": "fb807e5b-123f-402d-af53-957b7754ca58",
        "outputId": "09c10e9e-93b7-4287-e66f-1b6a6da5553c"
      },
      "outputs": [
        {
          "name": "stdout",
          "output_type": "stream",
          "text": [
            "\u001b[1m1/1\u001b[0m \u001b[32m━━━━━━━━━━━━━━━━━━━━\u001b[0m\u001b[37m\u001b[0m \u001b[1m1s\u001b[0m 922ms/step\n",
            "Next 12 Predictions: [0.12607765 0.12447542 0.12380762 0.12216701 0.1224152  0.12420557\n",
            " 0.12593774 0.1258185  0.12587132 0.12578496 0.12524357 0.12002958]\n"
          ]
        }
      ],
      "source": [
        "next_12_data = df_lstm.iloc[-12:].drop(columns=['Demand']).values\n",
        "next_12_data = np.reshape(next_12_data, (next_12_data.shape[0], 1, next_12_data.shape[1]))\n",
        "next_12_predictions = model_lstm.predict(next_12_data).flatten()\n",
        "print(\"Next 12 Predictions:\", next_12_predictions)"
      ]
    },
    {
      "cell_type": "code",
      "execution_count": null,
      "id": "e3f690f0-e7ba-4594-9db3-b8ca785bac15",
      "metadata": {
        "id": "e3f690f0-e7ba-4594-9db3-b8ca785bac15"
      },
      "outputs": [],
      "source": [
        "df_to_append = pd.DataFrame(columns=df_lstm.columns)\n",
        "df_to_append['Demand'] = next_12_predictions.flatten()\n",
        "for column in df_to_append.columns:\n",
        "    if column != 'Demand':\n",
        "        df_to_append[column] = 0\n",
        "df_lstm = pd.concat([df_lstm, df_to_append], ignore_index=True)"
      ]
    },
    {
      "cell_type": "code",
      "execution_count": null,
      "id": "df14c78b-2b88-408d-9523-d1cf41efa712",
      "metadata": {
        "id": "df14c78b-2b88-408d-9523-d1cf41efa712",
        "outputId": "fa14a8bb-ac87-4262-f412-f5fc677479cf"
      },
      "outputs": [
        {
          "data": {
            "image/png": "[encoded data removed]",
            "text/plain": [
              "<Figure size 1200x600 with 1 Axes>"
            ]
          },
          "metadata": {},
          "output_type": "display_data"
        }
      ],
      "source": [
        "plt.figure(figsize=(12, 6))\n",
        "plt.plot(df_lstm.index, df_lstm['Demand'], label='All Data', color='blue')\n",
        "plt.scatter(df_lstm.index[-12:], df_lstm['Demand'].tail(12), color='red', label='Last 12', s=100)\n",
        "plt.xlabel('Data')\n",
        "plt.ylabel('Demand')\n",
        "plt.title('Demand Variation')\n",
        "plt.legend()\n",
        "plt.show()"
      ]
    },
    {
      "cell_type": "code",
      "execution_count": null,
      "id": "8ea82b6a-2f5e-4634-96f5-62497b6cf1c1",
      "metadata": {
        "id": "8ea82b6a-2f5e-4634-96f5-62497b6cf1c1",
        "outputId": "241363f5-51f7-49d7-8f01-0a12f5cdf051"
      },
      "outputs": [
        {
          "name": "stdout",
          "output_type": "stream",
          "text": [
            "The product has a decreasing trend with a tolerance of 20%.\n"
          ]
        }
      ],
      "source": [
        "df_lstm['Percentage Change'] = df_lstm['Demand'].pct_change() * 100\n",
        "\n",
        "tolerance = 20\n",
        "increasing_trend = ((df_lstm['Percentage Change'] >= -tolerance) & (df_lstm['Percentage Change'] <= tolerance)).all()\n",
        "\n",
        "if increasing_trend:\n",
        "    print(\"The product has an increasing trend with a tolerance of 20%.\")\n",
        "else:\n",
        "    print(\"The product has a decreasing trend with a tolerance of 20%.\")"
      ]
    },
    {
      "cell_type": "markdown",
      "id": "a07462a1-9935-4a15-82ec-954c144a4748",
      "metadata": {
        "id": "a07462a1-9935-4a15-82ec-954c144a4748"
      },
      "source": [
        "### LinearRegression"
      ]
    },
    {
      "cell_type": "code",
      "execution_count": null,
      "id": "3dbe8c4f-6359-420c-ad6e-1d9eb15715ee",
      "metadata": {
        "id": "3dbe8c4f-6359-420c-ad6e-1d9eb15715ee"
      },
      "outputs": [],
      "source": [
        "from sklearn.linear_model import LinearRegression"
      ]
    },
    {
      "cell_type": "code",
      "execution_count": null,
      "id": "94915703-2a90-4a95-9ff4-f29ebebd47ee",
      "metadata": {
        "id": "94915703-2a90-4a95-9ff4-f29ebebd47ee"
      },
      "outputs": [],
      "source": [
        "df_lr = df.copy()"
      ]
    },
    {
      "cell_type": "code",
      "execution_count": null,
      "id": "649b883d-5567-4e3a-b9a4-43cc1531b476",
      "metadata": {
        "id": "649b883d-5567-4e3a-b9a4-43cc1531b476",
        "outputId": "8359e4b2-7d06-4ca3-9c6e-5f1b2b0b1001"
      },
      "outputs": [
        {
          "name": "stdout",
          "output_type": "stream",
          "text": [
            "Mean Squared Error: 97091269.8689844\n"
          ]
        }
      ],
      "source": [
        "features = df_lr.drop(columns=['Demand'])\n",
        "target = df_lr['Demand'].values\n",
        "\n",
        "X_train, X_test, y_train, y_test = train_test_split(features, target, test_size=0.2, random_state=42)\n",
        "\n",
        "model_lr = LinearRegression()\n",
        "\n",
        "model_lr.fit(X_train, y_train)\n",
        "\n",
        "predictions = model_lr.predict(X_test)\n",
        "\n",
        "mse = mean_squared_error(y_test, predictions)\n",
        "\n",
        "print(\"Mean Squared Error:\", mse)"
      ]
    },
    {
      "cell_type": "code",
      "execution_count": null,
      "id": "e05e2aa9-b65c-4fff-b33e-e4b2b455ca80",
      "metadata": {
        "id": "e05e2aa9-b65c-4fff-b33e-e4b2b455ca80",
        "outputId": "dd1b0995-72b1-4caa-a955-853a9ca3ac5f"
      },
      "outputs": [
        {
          "name": "stdout",
          "output_type": "stream",
          "text": [
            "Next 12 Predictions: [ 8640.15625176  9180.1502471   9395.36524525 10244.48623793\n",
            " 10068.40123945  9262.3232464   8745.80725085  8792.76325044\n",
            "  8773.19825061  8804.50225034  8964.93524896  8174.50925577]\n"
          ]
        }
      ],
      "source": [
        "next_12_data = df_lr.iloc[-12:].drop(columns=['Demand'])\n",
        "next_12_predictions = model_lr.predict(next_12_data)\n",
        "print(\"Next 12 Predictions:\", next_12_predictions)"
      ]
    },
    {
      "cell_type": "code",
      "execution_count": null,
      "id": "ac41de6f-620b-4adf-a091-4212042f02a8",
      "metadata": {
        "id": "ac41de6f-620b-4adf-a091-4212042f02a8"
      },
      "outputs": [],
      "source": [
        "df_to_append = pd.DataFrame(columns=df_lr.columns)\n",
        "\n",
        "df_to_append['Demand'] = next_12_predictions\n",
        "\n",
        "for column in df_to_append.columns:\n",
        "    if column != 'Demand':\n",
        "        df_to_append[column] = 0\n",
        "\n",
        "df_lr = pd.concat([df_lr, df_to_append], ignore_index=True)"
      ]
    },
    {
      "cell_type": "code",
      "execution_count": null,
      "id": "ef4e0e2e-32c2-4df8-9c0d-17ee2b9394a5",
      "metadata": {
        "id": "ef4e0e2e-32c2-4df8-9c0d-17ee2b9394a5",
        "outputId": "f563dbf0-4b05-42d6-9081-dd625bba96eb"
      },
      "outputs": [
        {
          "data": {
            "image/png": "[encoded data removed]",
            "text/plain": [
              "<Figure size 1200x600 with 1 Axes>"
            ]
          },
          "metadata": {},
          "output_type": "display_data"
        }
      ],
      "source": [
        "plt.figure(figsize=(12, 6))\n",
        "plt.plot(df_lr.index, df_lr['Demand'], label='All Data', color='blue')\n",
        "plt.scatter(df_lr.index[-12:], df_lr['Demand'].tail(12), color='red', label='Last 12', s=100)\n",
        "\n",
        "plt.xlabel('Data')\n",
        "plt.ylabel('Demand')\n",
        "plt.title('Demand Variation')\n",
        "plt.legend()\n",
        "\n",
        "plt.show()"
      ]
    },
    {
      "cell_type": "code",
      "execution_count": null,
      "id": "fc5e57f4-835b-4d24-b5be-f98977ef0b93",
      "metadata": {
        "id": "fc5e57f4-835b-4d24-b5be-f98977ef0b93",
        "outputId": "4addf471-42e4-4cee-f0de-0e7f49dc4b64"
      },
      "outputs": [
        {
          "data": {
            "text/html": [
              "<div>\n",
              "<style scoped>\n",
              "    .dataframe tbody tr th:only-of-type {\n",
              "        vertical-align: middle;\n",
              "    }\n",
              "\n",
              "    .dataframe tbody tr th {\n",
              "        vertical-align: top;\n",
              "    }\n",
              "\n",
              "    .dataframe thead th {\n",
              "        text-align: right;\n",
              "    }\n",
              "</style>\n",
              "<table border=\"1\" class=\"dataframe\">\n",
              "  <thead>\n",
              "    <tr style=\"text-align: right;\">\n",
              "      <th></th>\n",
              "      <th>Demand</th>\n",
              "      <th>QTY_GARANTY_S</th>\n",
              "    </tr>\n",
              "  </thead>\n",
              "  <tbody>\n",
              "    <tr>\n",
              "      <th>0</th>\n",
              "      <td>4224.000000</td>\n",
              "      <td>138</td>\n",
              "    </tr>\n",
              "    <tr>\n",
              "      <th>1</th>\n",
              "      <td>5804.000000</td>\n",
              "      <td>144</td>\n",
              "    </tr>\n",
              "    <tr>\n",
              "      <th>2</th>\n",
              "      <td>4933.000000</td>\n",
              "      <td>164</td>\n",
              "    </tr>\n",
              "    <tr>\n",
              "      <th>3</th>\n",
              "      <td>4447.000000</td>\n",
              "      <td>178</td>\n",
              "    </tr>\n",
              "    <tr>\n",
              "      <th>4</th>\n",
              "      <td>6769.000000</td>\n",
              "      <td>160</td>\n",
              "    </tr>\n",
              "    <tr>\n",
              "      <th>5</th>\n",
              "      <td>7820.000000</td>\n",
              "      <td>179</td>\n",
              "    </tr>\n",
              "    <tr>\n",
              "      <th>6</th>\n",
              "      <td>7837.000000</td>\n",
              "      <td>122</td>\n",
              "    </tr>\n",
              "    <tr>\n",
              "      <th>7</th>\n",
              "      <td>5078.000000</td>\n",
              "      <td>145</td>\n",
              "    </tr>\n",
              "    <tr>\n",
              "      <th>8</th>\n",
              "      <td>12516.000000</td>\n",
              "      <td>188</td>\n",
              "    </tr>\n",
              "    <tr>\n",
              "      <th>9</th>\n",
              "      <td>22610.000000</td>\n",
              "      <td>428</td>\n",
              "    </tr>\n",
              "    <tr>\n",
              "      <th>10</th>\n",
              "      <td>3335.000000</td>\n",
              "      <td>380</td>\n",
              "    </tr>\n",
              "    <tr>\n",
              "      <th>11</th>\n",
              "      <td>15394.000000</td>\n",
              "      <td>244</td>\n",
              "    </tr>\n",
              "    <tr>\n",
              "      <th>12</th>\n",
              "      <td>10041.000000</td>\n",
              "      <td>170</td>\n",
              "    </tr>\n",
              "    <tr>\n",
              "      <th>13</th>\n",
              "      <td>4191.000000</td>\n",
              "      <td>178</td>\n",
              "    </tr>\n",
              "    <tr>\n",
              "      <th>14</th>\n",
              "      <td>14640.000000</td>\n",
              "      <td>171</td>\n",
              "    </tr>\n",
              "    <tr>\n",
              "      <th>15</th>\n",
              "      <td>5592.000000</td>\n",
              "      <td>156</td>\n",
              "    </tr>\n",
              "    <tr>\n",
              "      <th>16</th>\n",
              "      <td>9487.000000</td>\n",
              "      <td>213</td>\n",
              "    </tr>\n",
              "    <tr>\n",
              "      <th>17</th>\n",
              "      <td>9705.000000</td>\n",
              "      <td>213</td>\n",
              "    </tr>\n",
              "    <tr>\n",
              "      <th>18</th>\n",
              "      <td>6813.000000</td>\n",
              "      <td>179</td>\n",
              "    </tr>\n",
              "    <tr>\n",
              "      <th>19</th>\n",
              "      <td>8671.000000</td>\n",
              "      <td>317</td>\n",
              "    </tr>\n",
              "    <tr>\n",
              "      <th>20</th>\n",
              "      <td>8831.000000</td>\n",
              "      <td>372</td>\n",
              "    </tr>\n",
              "    <tr>\n",
              "      <th>21</th>\n",
              "      <td>7311.000000</td>\n",
              "      <td>589</td>\n",
              "    </tr>\n",
              "    <tr>\n",
              "      <th>22</th>\n",
              "      <td>16950.000000</td>\n",
              "      <td>544</td>\n",
              "    </tr>\n",
              "    <tr>\n",
              "      <th>23</th>\n",
              "      <td>13480.000000</td>\n",
              "      <td>338</td>\n",
              "    </tr>\n",
              "    <tr>\n",
              "      <th>24</th>\n",
              "      <td>10110.000000</td>\n",
              "      <td>206</td>\n",
              "    </tr>\n",
              "    <tr>\n",
              "      <th>25</th>\n",
              "      <td>5565.000000</td>\n",
              "      <td>218</td>\n",
              "    </tr>\n",
              "    <tr>\n",
              "      <th>26</th>\n",
              "      <td>13225.000000</td>\n",
              "      <td>213</td>\n",
              "    </tr>\n",
              "    <tr>\n",
              "      <th>27</th>\n",
              "      <td>28079.000000</td>\n",
              "      <td>221</td>\n",
              "    </tr>\n",
              "    <tr>\n",
              "      <th>28</th>\n",
              "      <td>12696.000000</td>\n",
              "      <td>262</td>\n",
              "    </tr>\n",
              "    <tr>\n",
              "      <th>29</th>\n",
              "      <td>18083.000000</td>\n",
              "      <td>60</td>\n",
              "    </tr>\n",
              "    <tr>\n",
              "      <th>30</th>\n",
              "      <td>8640.156252</td>\n",
              "      <td>0</td>\n",
              "    </tr>\n",
              "    <tr>\n",
              "      <th>31</th>\n",
              "      <td>9180.150247</td>\n",
              "      <td>0</td>\n",
              "    </tr>\n",
              "    <tr>\n",
              "      <th>32</th>\n",
              "      <td>9395.365245</td>\n",
              "      <td>0</td>\n",
              "    </tr>\n",
              "    <tr>\n",
              "      <th>33</th>\n",
              "      <td>10244.486238</td>\n",
              "      <td>0</td>\n",
              "    </tr>\n",
              "    <tr>\n",
              "      <th>34</th>\n",
              "      <td>10068.401239</td>\n",
              "      <td>0</td>\n",
              "    </tr>\n",
              "    <tr>\n",
              "      <th>35</th>\n",
              "      <td>9262.323246</td>\n",
              "      <td>0</td>\n",
              "    </tr>\n",
              "    <tr>\n",
              "      <th>36</th>\n",
              "      <td>8745.807251</td>\n",
              "      <td>0</td>\n",
              "    </tr>\n",
              "    <tr>\n",
              "      <th>37</th>\n",
              "      <td>8792.763250</td>\n",
              "      <td>0</td>\n",
              "    </tr>\n",
              "    <tr>\n",
              "      <th>38</th>\n",
              "      <td>8773.198251</td>\n",
              "      <td>0</td>\n",
              "    </tr>\n",
              "    <tr>\n",
              "      <th>39</th>\n",
              "      <td>8804.502250</td>\n",
              "      <td>0</td>\n",
              "    </tr>\n",
              "    <tr>\n",
              "      <th>40</th>\n",
              "      <td>8964.935249</td>\n",
              "      <td>0</td>\n",
              "    </tr>\n",
              "    <tr>\n",
              "      <th>41</th>\n",
              "      <td>8174.509256</td>\n",
              "      <td>0</td>\n",
              "    </tr>\n",
              "  </tbody>\n",
              "</table>\n",
              "</div>"
            ],
            "text/plain": [
              "          Demand  QTY_GARANTY_S\n",
              "0    4224.000000            138\n",
              "1    5804.000000            144\n",
              "2    4933.000000            164\n",
              "3    4447.000000            178\n",
              "4    6769.000000            160\n",
              "5    7820.000000            179\n",
              "6    7837.000000            122\n",
              "7    5078.000000            145\n",
              "8   12516.000000            188\n",
              "9   22610.000000            428\n",
              "10   3335.000000            380\n",
              "11  15394.000000            244\n",
              "12  10041.000000            170\n",
              "13   4191.000000            178\n",
              "14  14640.000000            171\n",
              "15   5592.000000            156\n",
              "16   9487.000000            213\n",
              "17   9705.000000            213\n",
              "18   6813.000000            179\n",
              "19   8671.000000            317\n",
              "20   8831.000000            372\n",
              "21   7311.000000            589\n",
              "22  16950.000000            544\n",
              "23  13480.000000            338\n",
              "24  10110.000000            206\n",
              "25   5565.000000            218\n",
              "26  13225.000000            213\n",
              "27  28079.000000            221\n",
              "28  12696.000000            262\n",
              "29  18083.000000             60\n",
              "30   8640.156252              0\n",
              "31   9180.150247              0\n",
              "32   9395.365245              0\n",
              "33  10244.486238              0\n",
              "34  10068.401239              0\n",
              "35   9262.323246              0\n",
              "36   8745.807251              0\n",
              "37   8792.763250              0\n",
              "38   8773.198251              0\n",
              "39   8804.502250              0\n",
              "40   8964.935249              0\n",
              "41   8174.509256              0"
            ]
          },
          "execution_count": 24,
          "metadata": {},
          "output_type": "execute_result"
        }
      ],
      "source": [
        "df_lr"
      ]
    },
    {
      "cell_type": "code",
      "execution_count": null,
      "id": "5c4448b1-79c3-46e6-914b-782df3f824a4",
      "metadata": {
        "id": "5c4448b1-79c3-46e6-914b-782df3f824a4",
        "outputId": "a0df66cf-dd81-4d83-df4a-cca4359faa4e"
      },
      "outputs": [
        {
          "name": "stdout",
          "output_type": "stream",
          "text": [
            "The product has a decreasing trend with a tolerance of 20%.\n"
          ]
        }
      ],
      "source": [
        "df_lr['Percentage Change'] = df_lr['Demand'].pct_change() * 100\n",
        "\n",
        "tolerance = 20\n",
        "increasing_trend = ((df_lr['Percentage Change'] >= -tolerance) & (df_lr['Percentage Change'] <= tolerance)).all()\n",
        "\n",
        "if increasing_trend:\n",
        "    print(\"The product has an increasing trend with a tolerance of 20%.\")\n",
        "else:\n",
        "    print(\"The product has a decreasing trend with a tolerance of 20%.\")"
      ]
    },
    {
      "cell_type": "markdown",
      "id": "d91cc7fa-6527-46ff-bf89-71400ab659fe",
      "metadata": {
        "id": "d91cc7fa-6527-46ff-bf89-71400ab659fe"
      },
      "source": [
        "# SVR"
      ]
    },
    {
      "cell_type": "code",
      "execution_count": null,
      "id": "ef4d7323-4cb3-402b-9999-603191906dbb",
      "metadata": {
        "id": "ef4d7323-4cb3-402b-9999-603191906dbb",
        "outputId": "73756dcc-72fe-4986-eb69-0140b0b2376b"
      },
      "outputs": [
        {
          "name": "stdout",
          "output_type": "stream",
          "text": [
            "Mean Squared Error: 105948294.34060948\n"
          ]
        }
      ],
      "source": [
        "from sklearn.svm import SVR\n",
        "\n",
        "df_svr = df.copy()\n",
        "\n",
        "features = df_svr.drop(columns=['Demand'])\n",
        "target = df_svr['Demand']\n",
        "\n",
        "X_train, X_test, y_train, y_test = train_test_split(features, target, test_size=0.2, random_state=42)\n",
        "\n",
        "model_svr = SVR(kernel='linear')\n",
        "\n",
        "model_svr.fit(X_train, y_train)\n",
        "\n",
        "predictions = model_svr.predict(X_test)\n",
        "\n",
        "mse = mean_squared_error(y_test, predictions)\n",
        "\n",
        "print(\"Mean Squared Error:\", mse)"
      ]
    },
    {
      "cell_type": "code",
      "execution_count": null,
      "id": "4f417eff-5fb3-404b-95cc-e1a536b4427d",
      "metadata": {
        "id": "4f417eff-5fb3-404b-95cc-e1a536b4427d",
        "outputId": "639c8c5e-2824-4482-fee8-cf4cbb5fb6a1"
      },
      "outputs": [
        {
          "name": "stdout",
          "output_type": "stream",
          "text": [
            "Next 12 Predictions: [7819.9        8542.93419689 8831.1        9968.04507772 9732.27305699\n",
            " 8652.9611399  7961.36321244 8024.2357513  7998.0388601  8039.95388601\n",
            " 8254.76839378 7196.41398964]\n"
          ]
        }
      ],
      "source": [
        "next_12_data = df_svr.iloc[-12:].drop(columns=['Demand'])\n",
        "next_12_predictions = model_svr.predict(next_12_data)\n",
        "print(\"Next 12 Predictions:\", next_12_predictions)"
      ]
    },
    {
      "cell_type": "code",
      "execution_count": null,
      "id": "e65f0df0-0ff6-403e-91c5-5b3785b18c08",
      "metadata": {
        "id": "e65f0df0-0ff6-403e-91c5-5b3785b18c08"
      },
      "outputs": [],
      "source": [
        "df_to_append = pd.DataFrame(columns=df_svr.columns)\n",
        "\n",
        "df_to_append['Demand'] = next_12_predictions\n",
        "\n",
        "for column in df_to_append.columns:\n",
        "    if column != 'Demand':\n",
        "        df_to_append[column] = 0\n",
        "\n",
        "df_svr = pd.concat([df_svr, df_to_append], ignore_index=True)"
      ]
    },
    {
      "cell_type": "code",
      "execution_count": null,
      "id": "06671c18-a0a6-4838-8ae2-4639da369834",
      "metadata": {
        "id": "06671c18-a0a6-4838-8ae2-4639da369834",
        "outputId": "4c06731c-47a8-4b40-d226-4fcf4f32d951"
      },
      "outputs": [
        {
          "data": {
            "text/html": [
              "<div>\n",
              "<style scoped>\n",
              "    .dataframe tbody tr th:only-of-type {\n",
              "        vertical-align: middle;\n",
              "    }\n",
              "\n",
              "    .dataframe tbody tr th {\n",
              "        vertical-align: top;\n",
              "    }\n",
              "\n",
              "    .dataframe thead th {\n",
              "        text-align: right;\n",
              "    }\n",
              "</style>\n",
              "<table border=\"1\" class=\"dataframe\">\n",
              "  <thead>\n",
              "    <tr style=\"text-align: right;\">\n",
              "      <th></th>\n",
              "      <th>Demand</th>\n",
              "      <th>QTY_GARANTY_S</th>\n",
              "    </tr>\n",
              "  </thead>\n",
              "  <tbody>\n",
              "    <tr>\n",
              "      <th>0</th>\n",
              "      <td>4224.000000</td>\n",
              "      <td>138</td>\n",
              "    </tr>\n",
              "    <tr>\n",
              "      <th>1</th>\n",
              "      <td>5804.000000</td>\n",
              "      <td>144</td>\n",
              "    </tr>\n",
              "    <tr>\n",
              "      <th>2</th>\n",
              "      <td>4933.000000</td>\n",
              "      <td>164</td>\n",
              "    </tr>\n",
              "    <tr>\n",
              "      <th>3</th>\n",
              "      <td>4447.000000</td>\n",
              "      <td>178</td>\n",
              "    </tr>\n",
              "    <tr>\n",
              "      <th>4</th>\n",
              "      <td>6769.000000</td>\n",
              "      <td>160</td>\n",
              "    </tr>\n",
              "    <tr>\n",
              "      <th>5</th>\n",
              "      <td>7820.000000</td>\n",
              "      <td>179</td>\n",
              "    </tr>\n",
              "    <tr>\n",
              "      <th>6</th>\n",
              "      <td>7837.000000</td>\n",
              "      <td>122</td>\n",
              "    </tr>\n",
              "    <tr>\n",
              "      <th>7</th>\n",
              "      <td>5078.000000</td>\n",
              "      <td>145</td>\n",
              "    </tr>\n",
              "    <tr>\n",
              "      <th>8</th>\n",
              "      <td>12516.000000</td>\n",
              "      <td>188</td>\n",
              "    </tr>\n",
              "    <tr>\n",
              "      <th>9</th>\n",
              "      <td>22610.000000</td>\n",
              "      <td>428</td>\n",
              "    </tr>\n",
              "    <tr>\n",
              "      <th>10</th>\n",
              "      <td>3335.000000</td>\n",
              "      <td>380</td>\n",
              "    </tr>\n",
              "    <tr>\n",
              "      <th>11</th>\n",
              "      <td>15394.000000</td>\n",
              "      <td>244</td>\n",
              "    </tr>\n",
              "    <tr>\n",
              "      <th>12</th>\n",
              "      <td>10041.000000</td>\n",
              "      <td>170</td>\n",
              "    </tr>\n",
              "    <tr>\n",
              "      <th>13</th>\n",
              "      <td>4191.000000</td>\n",
              "      <td>178</td>\n",
              "    </tr>\n",
              "    <tr>\n",
              "      <th>14</th>\n",
              "      <td>14640.000000</td>\n",
              "      <td>171</td>\n",
              "    </tr>\n",
              "    <tr>\n",
              "      <th>15</th>\n",
              "      <td>5592.000000</td>\n",
              "      <td>156</td>\n",
              "    </tr>\n",
              "    <tr>\n",
              "      <th>16</th>\n",
              "      <td>9487.000000</td>\n",
              "      <td>213</td>\n",
              "    </tr>\n",
              "    <tr>\n",
              "      <th>17</th>\n",
              "      <td>9705.000000</td>\n",
              "      <td>213</td>\n",
              "    </tr>\n",
              "    <tr>\n",
              "      <th>18</th>\n",
              "      <td>6813.000000</td>\n",
              "      <td>179</td>\n",
              "    </tr>\n",
              "    <tr>\n",
              "      <th>19</th>\n",
              "      <td>8671.000000</td>\n",
              "      <td>317</td>\n",
              "    </tr>\n",
              "    <tr>\n",
              "      <th>20</th>\n",
              "      <td>8831.000000</td>\n",
              "      <td>372</td>\n",
              "    </tr>\n",
              "    <tr>\n",
              "      <th>21</th>\n",
              "      <td>7311.000000</td>\n",
              "      <td>589</td>\n",
              "    </tr>\n",
              "    <tr>\n",
              "      <th>22</th>\n",
              "      <td>16950.000000</td>\n",
              "      <td>544</td>\n",
              "    </tr>\n",
              "    <tr>\n",
              "      <th>23</th>\n",
              "      <td>13480.000000</td>\n",
              "      <td>338</td>\n",
              "    </tr>\n",
              "    <tr>\n",
              "      <th>24</th>\n",
              "      <td>10110.000000</td>\n",
              "      <td>206</td>\n",
              "    </tr>\n",
              "    <tr>\n",
              "      <th>25</th>\n",
              "      <td>5565.000000</td>\n",
              "      <td>218</td>\n",
              "    </tr>\n",
              "    <tr>\n",
              "      <th>26</th>\n",
              "      <td>13225.000000</td>\n",
              "      <td>213</td>\n",
              "    </tr>\n",
              "    <tr>\n",
              "      <th>27</th>\n",
              "      <td>28079.000000</td>\n",
              "      <td>221</td>\n",
              "    </tr>\n",
              "    <tr>\n",
              "      <th>28</th>\n",
              "      <td>12696.000000</td>\n",
              "      <td>262</td>\n",
              "    </tr>\n",
              "    <tr>\n",
              "      <th>29</th>\n",
              "      <td>18083.000000</td>\n",
              "      <td>60</td>\n",
              "    </tr>\n",
              "    <tr>\n",
              "      <th>30</th>\n",
              "      <td>7819.900000</td>\n",
              "      <td>0</td>\n",
              "    </tr>\n",
              "    <tr>\n",
              "      <th>31</th>\n",
              "      <td>8542.934197</td>\n",
              "      <td>0</td>\n",
              "    </tr>\n",
              "    <tr>\n",
              "      <th>32</th>\n",
              "      <td>8831.100000</td>\n",
              "      <td>0</td>\n",
              "    </tr>\n",
              "    <tr>\n",
              "      <th>33</th>\n",
              "      <td>9968.045078</td>\n",
              "      <td>0</td>\n",
              "    </tr>\n",
              "    <tr>\n",
              "      <th>34</th>\n",
              "      <td>9732.273057</td>\n",
              "      <td>0</td>\n",
              "    </tr>\n",
              "    <tr>\n",
              "      <th>35</th>\n",
              "      <td>8652.961140</td>\n",
              "      <td>0</td>\n",
              "    </tr>\n",
              "    <tr>\n",
              "      <th>36</th>\n",
              "      <td>7961.363212</td>\n",
              "      <td>0</td>\n",
              "    </tr>\n",
              "    <tr>\n",
              "      <th>37</th>\n",
              "      <td>8024.235751</td>\n",
              "      <td>0</td>\n",
              "    </tr>\n",
              "    <tr>\n",
              "      <th>38</th>\n",
              "      <td>7998.038860</td>\n",
              "      <td>0</td>\n",
              "    </tr>\n",
              "    <tr>\n",
              "      <th>39</th>\n",
              "      <td>8039.953886</td>\n",
              "      <td>0</td>\n",
              "    </tr>\n",
              "    <tr>\n",
              "      <th>40</th>\n",
              "      <td>8254.768394</td>\n",
              "      <td>0</td>\n",
              "    </tr>\n",
              "    <tr>\n",
              "      <th>41</th>\n",
              "      <td>7196.413990</td>\n",
              "      <td>0</td>\n",
              "    </tr>\n",
              "  </tbody>\n",
              "</table>\n",
              "</div>"
            ],
            "text/plain": [
              "          Demand  QTY_GARANTY_S\n",
              "0    4224.000000            138\n",
              "1    5804.000000            144\n",
              "2    4933.000000            164\n",
              "3    4447.000000            178\n",
              "4    6769.000000            160\n",
              "5    7820.000000            179\n",
              "6    7837.000000            122\n",
              "7    5078.000000            145\n",
              "8   12516.000000            188\n",
              "9   22610.000000            428\n",
              "10   3335.000000            380\n",
              "11  15394.000000            244\n",
              "12  10041.000000            170\n",
              "13   4191.000000            178\n",
              "14  14640.000000            171\n",
              "15   5592.000000            156\n",
              "16   9487.000000            213\n",
              "17   9705.000000            213\n",
              "18   6813.000000            179\n",
              "19   8671.000000            317\n",
              "20   8831.000000            372\n",
              "21   7311.000000            589\n",
              "22  16950.000000            544\n",
              "23  13480.000000            338\n",
              "24  10110.000000            206\n",
              "25   5565.000000            218\n",
              "26  13225.000000            213\n",
              "27  28079.000000            221\n",
              "28  12696.000000            262\n",
              "29  18083.000000             60\n",
              "30   7819.900000              0\n",
              "31   8542.934197              0\n",
              "32   8831.100000              0\n",
              "33   9968.045078              0\n",
              "34   9732.273057              0\n",
              "35   8652.961140              0\n",
              "36   7961.363212              0\n",
              "37   8024.235751              0\n",
              "38   7998.038860              0\n",
              "39   8039.953886              0\n",
              "40   8254.768394              0\n",
              "41   7196.413990              0"
            ]
          },
          "execution_count": 31,
          "metadata": {},
          "output_type": "execute_result"
        }
      ],
      "source": [
        "df_svr"
      ]
    },
    {
      "cell_type": "code",
      "execution_count": null,
      "id": "58916651-1358-4408-93d3-b420ee1b82dd",
      "metadata": {
        "id": "58916651-1358-4408-93d3-b420ee1b82dd",
        "outputId": "67827264-68b5-4580-947f-45da44679825"
      },
      "outputs": [
        {
          "data": {
            "image/png": "[encoded data removed]",
            "text/plain": [
              "<Figure size 1200x600 with 1 Axes>"
            ]
          },
          "metadata": {},
          "output_type": "display_data"
        }
      ],
      "source": [
        "plt.figure(figsize=(12, 6))\n",
        "plt.plot(df_svr.index, df_svr['Demand'], label='All Data', color='blue')\n",
        "plt.scatter(df_svr.index[-12:], df_svr['Demand'].tail(12), color='red', label='Last 12', s=100)\n",
        "\n",
        "plt.xlabel('Data')\n",
        "plt.ylabel('Demand')\n",
        "plt.title('Demand Variation')\n",
        "plt.legend()\n",
        "\n",
        "plt.show()"
      ]
    },
    {
      "cell_type": "code",
      "execution_count": null,
      "id": "f1716c8c-33cd-4120-86ed-4da1f8ff5bd1",
      "metadata": {
        "id": "f1716c8c-33cd-4120-86ed-4da1f8ff5bd1",
        "outputId": "45cec961-5050-436a-8d8b-670a08a07488"
      },
      "outputs": [
        {
          "name": "stdout",
          "output_type": "stream",
          "text": [
            "The product has a decreasing trend with a tolerance of 20%.\n"
          ]
        }
      ],
      "source": [
        "df_svr['Percentage Change'] = df_svr['Demand'].pct_change() * 100\n",
        "\n",
        "tolerance = 20\n",
        "increasing_trend = ((df_svr['Percentage Change'] >= -tolerance) & (df_svr['Percentage Change'] <= tolerance)).all()\n",
        "\n",
        "if increasing_trend:\n",
        "    print(\"The product has an increasing trend with a tolerance of 20%.\")\n",
        "else:\n",
        "    print(\"The product has a decreasing trend with a tolerance of 20%.\")"
      ]
    },
    {
      "cell_type": "markdown",
      "id": "b0b40210-dfaf-4b6b-bbff-c1b44bf69af9",
      "metadata": {
        "id": "b0b40210-dfaf-4b6b-bbff-c1b44bf69af9"
      },
      "source": [
        "### DecisionTreeRegressor"
      ]
    },
    {
      "cell_type": "code",
      "execution_count": null,
      "id": "c6107e4a-09fe-4b7f-b6cf-709cd7724281",
      "metadata": {
        "id": "c6107e4a-09fe-4b7f-b6cf-709cd7724281"
      },
      "outputs": [],
      "source": []
    },
    {
      "cell_type": "code",
      "execution_count": null,
      "id": "87ef80f6-0850-487d-b293-3207a246c39a",
      "metadata": {
        "id": "87ef80f6-0850-487d-b293-3207a246c39a"
      },
      "outputs": [],
      "source": []
    },
    {
      "cell_type": "code",
      "execution_count": null,
      "id": "add5c632-3cf6-4c86-af0c-e3be84b73444",
      "metadata": {
        "id": "add5c632-3cf6-4c86-af0c-e3be84b73444",
        "outputId": "d00b3e62-da47-4988-b22c-c23d6659ea85"
      },
      "outputs": [
        {
          "name": "stdout",
          "output_type": "stream",
          "text": [
            "Mean Squared Error: 73766340.56832686\n"
          ]
        }
      ],
      "source": [
        "from sklearn.tree import DecisionTreeRegressor\n",
        "\n",
        "df_dt = df.copy()\n",
        "\n",
        "features = df_svr[['QTY_GARANTY_S']]\n",
        "target = df_svr['Demand']\n",
        "\n",
        "X_train, X_test, y_train, y_test = train_test_split(features, target, test_size=0.2, random_state=42)\n",
        "\n",
        "model_dt = DecisionTreeRegressor()\n",
        "\n",
        "model_dt.fit(X_train, y_train)\n",
        "\n",
        "predictions = model_dt.predict(X_test)\n",
        "\n",
        "mse = mean_squared_error(y_test, predictions)\n",
        "\n",
        "print(\"Mean Squared Error:\", mse)"
      ]
    },
    {
      "cell_type": "code",
      "execution_count": null,
      "id": "57a20df4-86d0-456c-ad07-3ff25950ac14",
      "metadata": {
        "id": "57a20df4-86d0-456c-ad07-3ff25950ac14",
        "outputId": "d6b4ad2a-0006-47aa-d78c-304ca40db32f"
      },
      "outputs": [
        {
          "name": "stdout",
          "output_type": "stream",
          "text": [
            "Next 12 Predictions: [ 7316.5        13480.          8831.          7311.\n",
            " 16950.         13480.         10110.         28079.\n",
            "  9596.         28079.         12696.          8516.21336788]\n"
          ]
        }
      ],
      "source": [
        "next_12_data = df_dt.iloc[-12:][['QTY_GARANTY_S']]\n",
        "next_12_predictions = model_dt.predict(next_12_data)\n",
        "print(\"Next 12 Predictions:\", next_12_predictions)"
      ]
    },
    {
      "cell_type": "code",
      "execution_count": null,
      "id": "012c3554-67b8-4119-a98d-0bf787f82075",
      "metadata": {
        "id": "012c3554-67b8-4119-a98d-0bf787f82075"
      },
      "outputs": [],
      "source": [
        "df_to_append = pd.DataFrame(columns=df_dt.columns)\n",
        "\n",
        "df_to_append['Demand'] = next_12_predictions\n",
        "\n",
        "for column in df_to_append.columns:\n",
        "    if column != 'Demand':\n",
        "        df_to_append[column] = 0\n",
        "\n",
        "df_dt = pd.concat([df_dt, df_to_append], ignore_index=True)"
      ]
    },
    {
      "cell_type": "code",
      "execution_count": null,
      "id": "7ab4c95a-3f09-44db-bb15-3a10a1d5a938",
      "metadata": {
        "id": "7ab4c95a-3f09-44db-bb15-3a10a1d5a938",
        "outputId": "44ee0a14-c458-4ac9-9adf-1633829d949e"
      },
      "outputs": [
        {
          "data": {
            "text/html": [
              "<div>\n",
              "<style scoped>\n",
              "    .dataframe tbody tr th:only-of-type {\n",
              "        vertical-align: middle;\n",
              "    }\n",
              "\n",
              "    .dataframe tbody tr th {\n",
              "        vertical-align: top;\n",
              "    }\n",
              "\n",
              "    .dataframe thead th {\n",
              "        text-align: right;\n",
              "    }\n",
              "</style>\n",
              "<table border=\"1\" class=\"dataframe\">\n",
              "  <thead>\n",
              "    <tr style=\"text-align: right;\">\n",
              "      <th></th>\n",
              "      <th>Demand</th>\n",
              "      <th>QTY_GARANTY_S</th>\n",
              "    </tr>\n",
              "  </thead>\n",
              "  <tbody>\n",
              "    <tr>\n",
              "      <th>0</th>\n",
              "      <td>4224.000000</td>\n",
              "      <td>138</td>\n",
              "    </tr>\n",
              "    <tr>\n",
              "      <th>1</th>\n",
              "      <td>5804.000000</td>\n",
              "      <td>144</td>\n",
              "    </tr>\n",
              "    <tr>\n",
              "      <th>2</th>\n",
              "      <td>4933.000000</td>\n",
              "      <td>164</td>\n",
              "    </tr>\n",
              "    <tr>\n",
              "      <th>3</th>\n",
              "      <td>4447.000000</td>\n",
              "      <td>178</td>\n",
              "    </tr>\n",
              "    <tr>\n",
              "      <th>4</th>\n",
              "      <td>6769.000000</td>\n",
              "      <td>160</td>\n",
              "    </tr>\n",
              "    <tr>\n",
              "      <th>5</th>\n",
              "      <td>7820.000000</td>\n",
              "      <td>179</td>\n",
              "    </tr>\n",
              "    <tr>\n",
              "      <th>6</th>\n",
              "      <td>7837.000000</td>\n",
              "      <td>122</td>\n",
              "    </tr>\n",
              "    <tr>\n",
              "      <th>7</th>\n",
              "      <td>5078.000000</td>\n",
              "      <td>145</td>\n",
              "    </tr>\n",
              "    <tr>\n",
              "      <th>8</th>\n",
              "      <td>12516.000000</td>\n",
              "      <td>188</td>\n",
              "    </tr>\n",
              "    <tr>\n",
              "      <th>9</th>\n",
              "      <td>22610.000000</td>\n",
              "      <td>428</td>\n",
              "    </tr>\n",
              "    <tr>\n",
              "      <th>10</th>\n",
              "      <td>3335.000000</td>\n",
              "      <td>380</td>\n",
              "    </tr>\n",
              "    <tr>\n",
              "      <th>11</th>\n",
              "      <td>15394.000000</td>\n",
              "      <td>244</td>\n",
              "    </tr>\n",
              "    <tr>\n",
              "      <th>12</th>\n",
              "      <td>10041.000000</td>\n",
              "      <td>170</td>\n",
              "    </tr>\n",
              "    <tr>\n",
              "      <th>13</th>\n",
              "      <td>4191.000000</td>\n",
              "      <td>178</td>\n",
              "    </tr>\n",
              "    <tr>\n",
              "      <th>14</th>\n",
              "      <td>14640.000000</td>\n",
              "      <td>171</td>\n",
              "    </tr>\n",
              "    <tr>\n",
              "      <th>15</th>\n",
              "      <td>5592.000000</td>\n",
              "      <td>156</td>\n",
              "    </tr>\n",
              "    <tr>\n",
              "      <th>16</th>\n",
              "      <td>9487.000000</td>\n",
              "      <td>213</td>\n",
              "    </tr>\n",
              "    <tr>\n",
              "      <th>17</th>\n",
              "      <td>9705.000000</td>\n",
              "      <td>213</td>\n",
              "    </tr>\n",
              "    <tr>\n",
              "      <th>18</th>\n",
              "      <td>6813.000000</td>\n",
              "      <td>179</td>\n",
              "    </tr>\n",
              "    <tr>\n",
              "      <th>19</th>\n",
              "      <td>8671.000000</td>\n",
              "      <td>317</td>\n",
              "    </tr>\n",
              "    <tr>\n",
              "      <th>20</th>\n",
              "      <td>8831.000000</td>\n",
              "      <td>372</td>\n",
              "    </tr>\n",
              "    <tr>\n",
              "      <th>21</th>\n",
              "      <td>7311.000000</td>\n",
              "      <td>589</td>\n",
              "    </tr>\n",
              "    <tr>\n",
              "      <th>22</th>\n",
              "      <td>16950.000000</td>\n",
              "      <td>544</td>\n",
              "    </tr>\n",
              "    <tr>\n",
              "      <th>23</th>\n",
              "      <td>13480.000000</td>\n",
              "      <td>338</td>\n",
              "    </tr>\n",
              "    <tr>\n",
              "      <th>24</th>\n",
              "      <td>10110.000000</td>\n",
              "      <td>206</td>\n",
              "    </tr>\n",
              "    <tr>\n",
              "      <th>25</th>\n",
              "      <td>5565.000000</td>\n",
              "      <td>218</td>\n",
              "    </tr>\n",
              "    <tr>\n",
              "      <th>26</th>\n",
              "      <td>13225.000000</td>\n",
              "      <td>213</td>\n",
              "    </tr>\n",
              "    <tr>\n",
              "      <th>27</th>\n",
              "      <td>28079.000000</td>\n",
              "      <td>221</td>\n",
              "    </tr>\n",
              "    <tr>\n",
              "      <th>28</th>\n",
              "      <td>12696.000000</td>\n",
              "      <td>262</td>\n",
              "    </tr>\n",
              "    <tr>\n",
              "      <th>29</th>\n",
              "      <td>18083.000000</td>\n",
              "      <td>60</td>\n",
              "    </tr>\n",
              "    <tr>\n",
              "      <th>30</th>\n",
              "      <td>7316.500000</td>\n",
              "      <td>0</td>\n",
              "    </tr>\n",
              "    <tr>\n",
              "      <th>31</th>\n",
              "      <td>13480.000000</td>\n",
              "      <td>0</td>\n",
              "    </tr>\n",
              "    <tr>\n",
              "      <th>32</th>\n",
              "      <td>8831.000000</td>\n",
              "      <td>0</td>\n",
              "    </tr>\n",
              "    <tr>\n",
              "      <th>33</th>\n",
              "      <td>7311.000000</td>\n",
              "      <td>0</td>\n",
              "    </tr>\n",
              "    <tr>\n",
              "      <th>34</th>\n",
              "      <td>16950.000000</td>\n",
              "      <td>0</td>\n",
              "    </tr>\n",
              "    <tr>\n",
              "      <th>35</th>\n",
              "      <td>13480.000000</td>\n",
              "      <td>0</td>\n",
              "    </tr>\n",
              "    <tr>\n",
              "      <th>36</th>\n",
              "      <td>10110.000000</td>\n",
              "      <td>0</td>\n",
              "    </tr>\n",
              "    <tr>\n",
              "      <th>37</th>\n",
              "      <td>28079.000000</td>\n",
              "      <td>0</td>\n",
              "    </tr>\n",
              "    <tr>\n",
              "      <th>38</th>\n",
              "      <td>9596.000000</td>\n",
              "      <td>0</td>\n",
              "    </tr>\n",
              "    <tr>\n",
              "      <th>39</th>\n",
              "      <td>28079.000000</td>\n",
              "      <td>0</td>\n",
              "    </tr>\n",
              "    <tr>\n",
              "      <th>40</th>\n",
              "      <td>12696.000000</td>\n",
              "      <td>0</td>\n",
              "    </tr>\n",
              "    <tr>\n",
              "      <th>41</th>\n",
              "      <td>8516.213368</td>\n",
              "      <td>0</td>\n",
              "    </tr>\n",
              "  </tbody>\n",
              "</table>\n",
              "</div>"
            ],
            "text/plain": [
              "          Demand  QTY_GARANTY_S\n",
              "0    4224.000000            138\n",
              "1    5804.000000            144\n",
              "2    4933.000000            164\n",
              "3    4447.000000            178\n",
              "4    6769.000000            160\n",
              "5    7820.000000            179\n",
              "6    7837.000000            122\n",
              "7    5078.000000            145\n",
              "8   12516.000000            188\n",
              "9   22610.000000            428\n",
              "10   3335.000000            380\n",
              "11  15394.000000            244\n",
              "12  10041.000000            170\n",
              "13   4191.000000            178\n",
              "14  14640.000000            171\n",
              "15   5592.000000            156\n",
              "16   9487.000000            213\n",
              "17   9705.000000            213\n",
              "18   6813.000000            179\n",
              "19   8671.000000            317\n",
              "20   8831.000000            372\n",
              "21   7311.000000            589\n",
              "22  16950.000000            544\n",
              "23  13480.000000            338\n",
              "24  10110.000000            206\n",
              "25   5565.000000            218\n",
              "26  13225.000000            213\n",
              "27  28079.000000            221\n",
              "28  12696.000000            262\n",
              "29  18083.000000             60\n",
              "30   7316.500000              0\n",
              "31  13480.000000              0\n",
              "32   8831.000000              0\n",
              "33   7311.000000              0\n",
              "34  16950.000000              0\n",
              "35  13480.000000              0\n",
              "36  10110.000000              0\n",
              "37  28079.000000              0\n",
              "38   9596.000000              0\n",
              "39  28079.000000              0\n",
              "40  12696.000000              0\n",
              "41   8516.213368              0"
            ]
          },
          "execution_count": 44,
          "metadata": {},
          "output_type": "execute_result"
        }
      ],
      "source": [
        "df_dt"
      ]
    },
    {
      "cell_type": "code",
      "execution_count": null,
      "id": "f46f3f99-f5be-4ae4-a36f-c181257be558",
      "metadata": {
        "id": "f46f3f99-f5be-4ae4-a36f-c181257be558",
        "outputId": "06f3ed6c-8739-4725-b671-47a9263ce188"
      },
      "outputs": [
        {
          "data": {
            "image/png": "[encoded data removed]",
            "text/plain": [
              "<Figure size 1200x600 with 1 Axes>"
            ]
          },
          "metadata": {},
          "output_type": "display_data"
        }
      ],
      "source": [
        "plt.figure(figsize=(12, 6))\n",
        "plt.plot(df_dt.index, df_dt['Demand'], label='All Data', color='blue')\n",
        "plt.scatter(df_dt.index[-12:], df_dt['Demand'].tail(12), color='red', label='Last 12', s=100)\n",
        "\n",
        "plt.xlabel('Data')\n",
        "plt.ylabel('Demand')\n",
        "plt.title('Demand Variation')\n",
        "plt.legend()\n",
        "\n",
        "plt.show()"
      ]
    },
    {
      "cell_type": "code",
      "execution_count": null,
      "id": "0dddc191-ecd9-4bc7-ada4-7939f5778921",
      "metadata": {
        "id": "0dddc191-ecd9-4bc7-ada4-7939f5778921",
        "outputId": "2f905ff7-f0b3-48e3-bb98-0badad06f7fa"
      },
      "outputs": [
        {
          "name": "stdout",
          "output_type": "stream",
          "text": [
            "The product has a decreasing trend with a tolerance of 20%.\n"
          ]
        }
      ],
      "source": [
        "df_dt['Percentage Change'] = df_dt['Demand'].pct_change() * 100\n",
        "\n",
        "tolerance = 20\n",
        "increasing_trend = ((df_dt['Percentage Change'] >= -tolerance) & (df_dt['Percentage Change'] <= tolerance)).all()\n",
        "\n",
        "if increasing_trend:\n",
        "    print(\"The product has an increasing trend with a tolerance of 20%.\")\n",
        "else:\n",
        "    print(\"The product has a decreasing trend with a tolerance of 20%.\")"
      ]
    },
    {
      "cell_type": "markdown",
      "id": "258d7f1f-6614-4007-b379-6fc03b4e755c",
      "metadata": {
        "id": "258d7f1f-6614-4007-b379-6fc03b4e755c"
      },
      "source": [
        "### RandomForestRegressor"
      ]
    },
    {
      "cell_type": "code",
      "execution_count": null,
      "id": "6c3ce09a-f056-46b9-a5e5-96e33751d5a4",
      "metadata": {
        "id": "6c3ce09a-f056-46b9-a5e5-96e33751d5a4",
        "outputId": "5e390ca2-77b1-4951-fb08-515ea1f63867"
      },
      "outputs": [
        {
          "name": "stdout",
          "output_type": "stream",
          "text": [
            "Mean Squared Error: 125638584.15939279\n"
          ]
        }
      ],
      "source": [
        "from sklearn.ensemble import RandomForestRegressor\n",
        "\n",
        "df_rf = df.copy()\n",
        "\n",
        "features = df_rf.drop(columns=['Demand'])\n",
        "target = df_rf['Demand']\n",
        "\n",
        "X_train, X_test, y_train, y_test = train_test_split(features, target, test_size=0.2, random_state=42)\n",
        "\n",
        "model_rf = RandomForestRegressor()\n",
        "\n",
        "model_rf.fit(X_train, y_train)\n",
        "\n",
        "predictions = model_rf.predict(X_test)\n",
        "\n",
        "mse = mean_squared_error(y_test, predictions)\n",
        "\n",
        "print(\"Mean Squared Error:\", mse)"
      ]
    },
    {
      "cell_type": "code",
      "execution_count": null,
      "id": "cd93eb73-8fba-4d53-b576-486ffa814147",
      "metadata": {
        "id": "cd93eb73-8fba-4d53-b576-486ffa814147",
        "outputId": "4583bebe-3f4c-4b57-bc05-a1c38c35047d"
      },
      "outputs": [
        {
          "name": "stdout",
          "output_type": "stream",
          "text": [
            "Next 12 Predictions: [ 6854.45283333  9566.14        7735.29        9335.98\n",
            " 13480.75        8479.69       10351.44233333  7261.096\n",
            " 11065.176       7261.096      12564.18       14303.87      ]\n"
          ]
        }
      ],
      "source": [
        "next_12_data = df_rf.iloc[-12:].drop(columns=['Demand'])\n",
        "next_12_predictions = model_rf.predict(next_12_data)\n",
        "print(\"Next 12 Predictions:\", next_12_predictions)"
      ]
    },
    {
      "cell_type": "code",
      "execution_count": null,
      "id": "a16b6e53-b6ca-4cbf-adfb-4e5675def506",
      "metadata": {
        "id": "a16b6e53-b6ca-4cbf-adfb-4e5675def506"
      },
      "outputs": [],
      "source": [
        "df_to_append = pd.DataFrame(columns=df_rf.columns)\n",
        "\n",
        "df_to_append['Demand'] = next_12_predictions\n",
        "\n",
        "for column in df_to_append.columns:\n",
        "    if column != 'Demand':\n",
        "        df_to_append[column] = 0\n",
        "\n",
        "df_rf = pd.concat([df_rf, df_to_append], ignore_index=True)"
      ]
    },
    {
      "cell_type": "code",
      "execution_count": null,
      "id": "c493b27b-02a8-4f72-9ea0-413d22f8be8a",
      "metadata": {
        "id": "c493b27b-02a8-4f72-9ea0-413d22f8be8a",
        "outputId": "5d69e5b5-f6dd-4482-846a-e83ea05193ff"
      },
      "outputs": [
        {
          "data": {
            "image/png": "[encoded data removed]",
            "text/plain": [
              "<Figure size 1200x600 with 1 Axes>"
            ]
          },
          "metadata": {},
          "output_type": "display_data"
        }
      ],
      "source": [
        "plt.figure(figsize=(12, 6))\n",
        "plt.plot(df_rf.index, df_rf['Demand'], label='All Data', color='blue')\n",
        "plt.scatter(df_rf.index[-12:], df_rf['Demand'].tail(12), color='red', label='Last 12', s=100)\n",
        "\n",
        "plt.xlabel('Data')\n",
        "plt.ylabel('Demand')\n",
        "plt.title('Demand Variation')\n",
        "plt.legend()\n",
        "\n",
        "plt.show()"
      ]
    },
    {
      "cell_type": "code",
      "execution_count": null,
      "id": "678204f1-fb63-4002-a599-401e49b7fff0",
      "metadata": {
        "id": "678204f1-fb63-4002-a599-401e49b7fff0",
        "outputId": "97b2ba5a-b991-433d-a2ad-5b0d50a2d02c"
      },
      "outputs": [
        {
          "name": "stdout",
          "output_type": "stream",
          "text": [
            "The product has a decreasing trend with a tolerance of 20%.\n"
          ]
        }
      ],
      "source": [
        "df_rf['Percentage Change'] = df_rf['Demand'].pct_change() * 100\n",
        "\n",
        "tolerance = 20\n",
        "increasing_trend = ((df_rf['Percentage Change'] >= -tolerance) & (df_rf['Percentage Change'] <= tolerance)).all()\n",
        "\n",
        "if increasing_trend:\n",
        "    print(\"The product has an increasing trend with a tolerance of 20%.\")\n",
        "else:\n",
        "    print(\"The product has a decreasing trend with a tolerance of 20%.\")"
      ]
    },
    {
      "cell_type": "code",
      "execution_count": null,
      "id": "a077e0c0-8099-4e5f-9f21-6f30ac48e22e",
      "metadata": {
        "id": "a077e0c0-8099-4e5f-9f21-6f30ac48e22e"
      },
      "outputs": [],
      "source": []
    }
  ],
  "metadata": {
    "kernelspec": {
      "display_name": "Python 3 (ipykernel)",
      "language": "python",
      "name": "python3"
    },
    "language_info": {
      "codemirror_mode": {
        "name": "ipython",
        "version": 3
      },
      "file_extension": ".py",
      "mimetype": "text/x-python",
      "name": "python",
      "nbconvert_exporter": "python",
      "pygments_lexer": "ipython3",
      "version": "3.11.6"
    },
    "colab": {
      "provenance": [],
      "include_colab_link": true
    }
  },
  "nbformat": 4,
  "nbformat_minor": 5
}