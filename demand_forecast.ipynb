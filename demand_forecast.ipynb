{
  "cells": [
    {
      "cell_type": "markdown",
      "metadata": {
        "id": "view-in-github",
        "colab_type": "text"
      },
      "source": [
        "<a href=\"https://colab.research.google.com/github/farnazmnz/Time-Series-Forecasting/blob/main/demand_forecast.ipynb\" target=\"_parent\"><img src=\"https://colab.research.google.com/assets/colab-badge.svg\" alt=\"Open In Colab\"/></a>"
      ]
    },
    {
      "cell_type": "code",
      "execution_count": null,
      "id": "f4623e49-a87d-4fb3-9f38-3506a5371d0a",
      "metadata": {
        "id": "f4623e49-a87d-4fb3-9f38-3506a5371d0a"
      },
      "outputs": [],
      "source": [
        "import pandas as pd"
      ]
    },
    {
      "cell_type": "code",
      "execution_count": null,
      "id": "caa4cc5f-155c-40af-beb8-3f570683faf5",
      "metadata": {
        "id": "caa4cc5f-155c-40af-beb8-3f570683faf5"
      },
      "outputs": [],
      "source": [
        "data = pd.read_csv('Data.csv')"
      ]
    },
    {
      "cell_type": "code",
      "execution_count": null,
      "id": "7c090ec6-835c-46e5-8d85-93b0a7e7f784",
      "metadata": {
        "id": "7c090ec6-835c-46e5-8d85-93b0a7e7f784",
        "outputId": "c53ebb58-08e7-4292-dae1-38b34ea386dd"
      },
      "outputs": [
        {
          "data": {
            "text/html": [
              "<div>\n",
              "<style scoped>\n",
              "    .dataframe tbody tr th:only-of-type {\n",
              "        vertical-align: middle;\n",
              "    }\n",
              "\n",
              "    .dataframe tbody tr th {\n",
              "        vertical-align: top;\n",
              "    }\n",
              "\n",
              "    .dataframe thead th {\n",
              "        text-align: right;\n",
              "    }\n",
              "</style>\n",
              "<table border=\"1\" class=\"dataframe\">\n",
              "  <thead>\n",
              "    <tr style=\"text-align: right;\">\n",
              "      <th></th>\n",
              "      <th>Unnamed: 0</th>\n",
              "      <th>Date_x</th>\n",
              "      <th>GDS_x</th>\n",
              "      <th>PLN_GROUP_x</th>\n",
              "      <th>QUALITY_F_x</th>\n",
              "      <th>DES_EN_x</th>\n",
              "      <th>YYMM_x</th>\n",
              "      <th>Date &amp; GDS &amp; PLN</th>\n",
              "      <th>Demand</th>\n",
              "      <th>QTY_GARANTY_S</th>\n",
              "      <th>INVENTORY_QTY</th>\n",
              "      <th>KHARID</th>\n",
              "    </tr>\n",
              "  </thead>\n",
              "  <tbody>\n",
              "    <tr>\n",
              "      <th>0</th>\n",
              "      <td>0</td>\n",
              "      <td>28</td>\n",
              "      <td>16201007</td>\n",
              "      <td>BP</td>\n",
              "      <td>GS</td>\n",
              "      <td>SBS</td>\n",
              "      <td>140206</td>\n",
              "      <td>GS-16201007-140206-BP</td>\n",
              "      <td>58964</td>\n",
              "      <td>134</td>\n",
              "      <td>38297</td>\n",
              "      <td>41000</td>\n",
              "    </tr>\n",
              "    <tr>\n",
              "      <th>1</th>\n",
              "      <td>1</td>\n",
              "      <td>28</td>\n",
              "      <td>16201007</td>\n",
              "      <td>BP</td>\n",
              "      <td>GS</td>\n",
              "      <td>SBS</td>\n",
              "      <td>140205</td>\n",
              "      <td>GS-16201007-140205-BP</td>\n",
              "      <td>57489</td>\n",
              "      <td>493</td>\n",
              "      <td>44956</td>\n",
              "      <td>47200</td>\n",
              "    </tr>\n",
              "    <tr>\n",
              "      <th>2</th>\n",
              "      <td>2</td>\n",
              "      <td>28</td>\n",
              "      <td>16201007</td>\n",
              "      <td>BP</td>\n",
              "      <td>GS</td>\n",
              "      <td>SBS</td>\n",
              "      <td>140204</td>\n",
              "      <td>GS-16201007-140204-BP</td>\n",
              "      <td>58544</td>\n",
              "      <td>475</td>\n",
              "      <td>19138</td>\n",
              "      <td>68000</td>\n",
              "    </tr>\n",
              "    <tr>\n",
              "      <th>3</th>\n",
              "      <td>3</td>\n",
              "      <td>28</td>\n",
              "      <td>16201007</td>\n",
              "      <td>BP</td>\n",
              "      <td>GS</td>\n",
              "      <td>SBS</td>\n",
              "      <td>140203</td>\n",
              "      <td>GS-16201007-140203-BP</td>\n",
              "      <td>74039</td>\n",
              "      <td>461</td>\n",
              "      <td>29285</td>\n",
              "      <td>46750</td>\n",
              "    </tr>\n",
              "    <tr>\n",
              "      <th>4</th>\n",
              "      <td>4</td>\n",
              "      <td>28</td>\n",
              "      <td>16201007</td>\n",
              "      <td>BP</td>\n",
              "      <td>GS</td>\n",
              "      <td>SBS</td>\n",
              "      <td>140202</td>\n",
              "      <td>GS-16201007-140202-BP</td>\n",
              "      <td>51043</td>\n",
              "      <td>474</td>\n",
              "      <td>1764</td>\n",
              "      <td>37300</td>\n",
              "    </tr>\n",
              "    <tr>\n",
              "      <th>...</th>\n",
              "      <td>...</td>\n",
              "      <td>...</td>\n",
              "      <td>...</td>\n",
              "      <td>...</td>\n",
              "      <td>...</td>\n",
              "      <td>...</td>\n",
              "      <td>...</td>\n",
              "      <td>...</td>\n",
              "      <td>...</td>\n",
              "      <td>...</td>\n",
              "      <td>...</td>\n",
              "      <td>...</td>\n",
              "    </tr>\n",
              "    <tr>\n",
              "      <th>157</th>\n",
              "      <td>157</td>\n",
              "      <td>102</td>\n",
              "      <td>2705004</td>\n",
              "      <td>BP</td>\n",
              "      <td>OEM</td>\n",
              "      <td>SBS</td>\n",
              "      <td>140006</td>\n",
              "      <td>OEM-2705004-140006-BP</td>\n",
              "      <td>8446</td>\n",
              "      <td>569</td>\n",
              "      <td>17917</td>\n",
              "      <td>1200</td>\n",
              "    </tr>\n",
              "    <tr>\n",
              "      <th>158</th>\n",
              "      <td>158</td>\n",
              "      <td>102</td>\n",
              "      <td>2705004</td>\n",
              "      <td>BP</td>\n",
              "      <td>OEM</td>\n",
              "      <td>SBS</td>\n",
              "      <td>140008</td>\n",
              "      <td>OEM-2705004-140008-BP</td>\n",
              "      <td>7217</td>\n",
              "      <td>538</td>\n",
              "      <td>3180</td>\n",
              "      <td>3000</td>\n",
              "    </tr>\n",
              "    <tr>\n",
              "      <th>159</th>\n",
              "      <td>159</td>\n",
              "      <td>102</td>\n",
              "      <td>2705004</td>\n",
              "      <td>BP</td>\n",
              "      <td>OEM</td>\n",
              "      <td>SBS</td>\n",
              "      <td>140009</td>\n",
              "      <td>OEM-2705004-140009-BP</td>\n",
              "      <td>8198</td>\n",
              "      <td>556</td>\n",
              "      <td>1279</td>\n",
              "      <td>2100</td>\n",
              "    </tr>\n",
              "    <tr>\n",
              "      <th>160</th>\n",
              "      <td>160</td>\n",
              "      <td>102</td>\n",
              "      <td>2705004</td>\n",
              "      <td>BP</td>\n",
              "      <td>OEM</td>\n",
              "      <td>SBS</td>\n",
              "      <td>140010</td>\n",
              "      <td>OEM-2705004-140010-BP</td>\n",
              "      <td>8505</td>\n",
              "      <td>597</td>\n",
              "      <td>587</td>\n",
              "      <td>2330</td>\n",
              "    </tr>\n",
              "    <tr>\n",
              "      <th>161</th>\n",
              "      <td>161</td>\n",
              "      <td>102</td>\n",
              "      <td>2705004</td>\n",
              "      <td>BP</td>\n",
              "      <td>OEM</td>\n",
              "      <td>SBS</td>\n",
              "      <td>140011</td>\n",
              "      <td>OEM-2705004-140011-BP</td>\n",
              "      <td>5253</td>\n",
              "      <td>545</td>\n",
              "      <td>472</td>\n",
              "      <td>20215</td>\n",
              "    </tr>\n",
              "  </tbody>\n",
              "</table>\n",
              "<p>162 rows × 12 columns</p>\n",
              "</div>"
            ],
            "text/plain": [
              "     Unnamed: 0  Date_x     GDS_x PLN_GROUP_x QUALITY_F_x DES_EN_x  YYMM_x  \\\n",
              "0             0      28  16201007          BP          GS      SBS  140206   \n",
              "1             1      28  16201007          BP          GS      SBS  140205   \n",
              "2             2      28  16201007          BP          GS      SBS  140204   \n",
              "3             3      28  16201007          BP          GS      SBS  140203   \n",
              "4             4      28  16201007          BP          GS      SBS  140202   \n",
              "..          ...     ...       ...         ...         ...      ...     ...   \n",
              "157         157     102   2705004          BP         OEM      SBS  140006   \n",
              "158         158     102   2705004          BP         OEM      SBS  140008   \n",
              "159         159     102   2705004          BP         OEM      SBS  140009   \n",
              "160         160     102   2705004          BP         OEM      SBS  140010   \n",
              "161         161     102   2705004          BP         OEM      SBS  140011   \n",
              "\n",
              "          Date & GDS & PLN  Demand  QTY_GARANTY_S  INVENTORY_QTY  KHARID  \n",
              "0    GS-16201007-140206-BP   58964            134          38297   41000  \n",
              "1    GS-16201007-140205-BP   57489            493          44956   47200  \n",
              "2    GS-16201007-140204-BP   58544            475          19138   68000  \n",
              "3    GS-16201007-140203-BP   74039            461          29285   46750  \n",
              "4    GS-16201007-140202-BP   51043            474           1764   37300  \n",
              "..                     ...     ...            ...            ...     ...  \n",
              "157  OEM-2705004-140006-BP    8446            569          17917    1200  \n",
              "158  OEM-2705004-140008-BP    7217            538           3180    3000  \n",
              "159  OEM-2705004-140009-BP    8198            556           1279    2100  \n",
              "160  OEM-2705004-140010-BP    8505            597            587    2330  \n",
              "161  OEM-2705004-140011-BP    5253            545            472   20215  \n",
              "\n",
              "[162 rows x 12 columns]"
            ]
          },
          "execution_count": 3,
          "metadata": {},
          "output_type": "execute_result"
        }
      ],
      "source": [
        "data"
      ]
    },
    {
      "cell_type": "code",
      "execution_count": null,
      "id": "e23c704a-d448-48b6-9592-892bd92d13c7",
      "metadata": {
        "id": "e23c704a-d448-48b6-9592-892bd92d13c7",
        "outputId": "1a834cbb-7fb5-4b97-8178-317240de3074"
      },
      "outputs": [
        {
          "data": {
            "text/plain": [
              "Date_x\n",
              "35     25\n",
              "68     20\n",
              "28     19\n",
              "50     19\n",
              "56     18\n",
              "49     16\n",
              "102    16\n",
              "85     13\n",
              "57     12\n",
              "41      4\n",
              "Name: count, dtype: int64"
            ]
          },
          "execution_count": 4,
          "metadata": {},
          "output_type": "execute_result"
        }
      ],
      "source": [
        "data['Date_x'].value_counts()"
      ]
    },
    {
      "cell_type": "code",
      "execution_count": null,
      "id": "6acdb046-e540-4678-89bf-018e0a78415d",
      "metadata": {
        "id": "6acdb046-e540-4678-89bf-018e0a78415d"
      },
      "outputs": [],
      "source": [
        "dfs = {}\n",
        "\n",
        "for i in range(28, 103):\n",
        "    dfs[i] = data[data['Date_x'] == i]"
      ]
    },
    {
      "cell_type": "code",
      "execution_count": null,
      "id": "ceb0edb0-e72d-4295-b546-2ed8eddf6937",
      "metadata": {
        "id": "ceb0edb0-e72d-4295-b546-2ed8eddf6937"
      },
      "outputs": [],
      "source": [
        "dfs[68] = dfs[68].sort_values(by='YYMM_x', ascending=True)"
      ]
    },
    {
      "cell_type": "code",
      "execution_count": null,
      "id": "90945b9a-fc9c-4334-8645-1158eb4c8dcb",
      "metadata": {
        "id": "90945b9a-fc9c-4334-8645-1158eb4c8dcb"
      },
      "outputs": [],
      "source": [
        "df = dfs[68]"
      ]
    },
    {
      "cell_type": "code",
      "execution_count": null,
      "id": "2d875277-d169-47cc-8818-363de1a8f1d6",
      "metadata": {
        "id": "2d875277-d169-47cc-8818-363de1a8f1d6"
      },
      "outputs": [],
      "source": [
        "df = df.drop(columns=['Unnamed: 0' ,'Date_x' ,'GDS_x' ,'PLN_GROUP_x' ,'QUALITY_F_x' ,'DES_EN_x' ,'YYMM_x', 'Date & GDS & PLN'])"
      ]
    },
    {
      "cell_type": "code",
      "execution_count": null,
      "id": "58e710ed-93cb-499c-b9db-b5dcfebec3c8",
      "metadata": {
        "id": "58e710ed-93cb-499c-b9db-b5dcfebec3c8",
        "outputId": "72c422d0-8ae7-49a2-ae92-d80c3755425e"
      },
      "outputs": [
        {
          "data": {
            "text/html": [
              "<div>\n",
              "<style scoped>\n",
              "    .dataframe tbody tr th:only-of-type {\n",
              "        vertical-align: middle;\n",
              "    }\n",
              "\n",
              "    .dataframe tbody tr th {\n",
              "        vertical-align: top;\n",
              "    }\n",
              "\n",
              "    .dataframe thead th {\n",
              "        text-align: right;\n",
              "    }\n",
              "</style>\n",
              "<table border=\"1\" class=\"dataframe\">\n",
              "  <thead>\n",
              "    <tr style=\"text-align: right;\">\n",
              "      <th></th>\n",
              "      <th>Demand</th>\n",
              "      <th>QTY_GARANTY_S</th>\n",
              "      <th>INVENTORY_QTY</th>\n",
              "      <th>KHARID</th>\n",
              "    </tr>\n",
              "  </thead>\n",
              "  <tbody>\n",
              "    <tr>\n",
              "      <th>124</th>\n",
              "      <td>6399</td>\n",
              "      <td>185</td>\n",
              "      <td>142794</td>\n",
              "      <td>1651</td>\n",
              "    </tr>\n",
              "    <tr>\n",
              "      <th>122</th>\n",
              "      <td>11328</td>\n",
              "      <td>275</td>\n",
              "      <td>130951</td>\n",
              "      <td>2304</td>\n",
              "    </tr>\n",
              "    <tr>\n",
              "      <th>126</th>\n",
              "      <td>7950</td>\n",
              "      <td>272</td>\n",
              "      <td>121503</td>\n",
              "      <td>1593</td>\n",
              "    </tr>\n",
              "    <tr>\n",
              "      <th>127</th>\n",
              "      <td>16489</td>\n",
              "      <td>281</td>\n",
              "      <td>117251</td>\n",
              "      <td>12515</td>\n",
              "    </tr>\n",
              "    <tr>\n",
              "      <th>128</th>\n",
              "      <td>13807</td>\n",
              "      <td>385</td>\n",
              "      <td>117261</td>\n",
              "      <td>25798</td>\n",
              "    </tr>\n",
              "    <tr>\n",
              "      <th>129</th>\n",
              "      <td>10212</td>\n",
              "      <td>152</td>\n",
              "      <td>74196</td>\n",
              "      <td>23076</td>\n",
              "    </tr>\n",
              "    <tr>\n",
              "      <th>130</th>\n",
              "      <td>10323</td>\n",
              "      <td>240</td>\n",
              "      <td>93883</td>\n",
              "      <td>21939</td>\n",
              "    </tr>\n",
              "    <tr>\n",
              "      <th>131</th>\n",
              "      <td>16393</td>\n",
              "      <td>330</td>\n",
              "      <td>99863</td>\n",
              "      <td>2256</td>\n",
              "    </tr>\n",
              "    <tr>\n",
              "      <th>123</th>\n",
              "      <td>13338</td>\n",
              "      <td>429</td>\n",
              "      <td>78643</td>\n",
              "      <td>19712</td>\n",
              "    </tr>\n",
              "    <tr>\n",
              "      <th>113</th>\n",
              "      <td>19585</td>\n",
              "      <td>391</td>\n",
              "      <td>40055</td>\n",
              "      <td>13161</td>\n",
              "    </tr>\n",
              "    <tr>\n",
              "      <th>115</th>\n",
              "      <td>15986</td>\n",
              "      <td>359</td>\n",
              "      <td>37015</td>\n",
              "      <td>6653</td>\n",
              "    </tr>\n",
              "    <tr>\n",
              "      <th>116</th>\n",
              "      <td>17869</td>\n",
              "      <td>237</td>\n",
              "      <td>30731</td>\n",
              "      <td>7795</td>\n",
              "    </tr>\n",
              "    <tr>\n",
              "      <th>114</th>\n",
              "      <td>17781</td>\n",
              "      <td>219</td>\n",
              "      <td>16979</td>\n",
              "      <td>2688</td>\n",
              "    </tr>\n",
              "    <tr>\n",
              "      <th>117</th>\n",
              "      <td>16930</td>\n",
              "      <td>379</td>\n",
              "      <td>6488</td>\n",
              "      <td>1255</td>\n",
              "    </tr>\n",
              "    <tr>\n",
              "      <th>121</th>\n",
              "      <td>10198</td>\n",
              "      <td>326</td>\n",
              "      <td>3865</td>\n",
              "      <td>2220</td>\n",
              "    </tr>\n",
              "    <tr>\n",
              "      <th>132</th>\n",
              "      <td>18967</td>\n",
              "      <td>474</td>\n",
              "      <td>3881</td>\n",
              "      <td>2197</td>\n",
              "    </tr>\n",
              "    <tr>\n",
              "      <th>125</th>\n",
              "      <td>8266</td>\n",
              "      <td>461</td>\n",
              "      <td>101</td>\n",
              "      <td>3136</td>\n",
              "    </tr>\n",
              "    <tr>\n",
              "      <th>120</th>\n",
              "      <td>8303</td>\n",
              "      <td>475</td>\n",
              "      <td>3180</td>\n",
              "      <td>6487</td>\n",
              "    </tr>\n",
              "    <tr>\n",
              "      <th>118</th>\n",
              "      <td>12685</td>\n",
              "      <td>493</td>\n",
              "      <td>7435</td>\n",
              "      <td>23301</td>\n",
              "    </tr>\n",
              "    <tr>\n",
              "      <th>119</th>\n",
              "      <td>14163</td>\n",
              "      <td>134</td>\n",
              "      <td>33872</td>\n",
              "      <td>37212</td>\n",
              "    </tr>\n",
              "  </tbody>\n",
              "</table>\n",
              "</div>"
            ],
            "text/plain": [
              "     Demand  QTY_GARANTY_S  INVENTORY_QTY  KHARID\n",
              "124    6399            185         142794    1651\n",
              "122   11328            275         130951    2304\n",
              "126    7950            272         121503    1593\n",
              "127   16489            281         117251   12515\n",
              "128   13807            385         117261   25798\n",
              "129   10212            152          74196   23076\n",
              "130   10323            240          93883   21939\n",
              "131   16393            330          99863    2256\n",
              "123   13338            429          78643   19712\n",
              "113   19585            391          40055   13161\n",
              "115   15986            359          37015    6653\n",
              "116   17869            237          30731    7795\n",
              "114   17781            219          16979    2688\n",
              "117   16930            379           6488    1255\n",
              "121   10198            326           3865    2220\n",
              "132   18967            474           3881    2197\n",
              "125    8266            461            101    3136\n",
              "120    8303            475           3180    6487\n",
              "118   12685            493           7435   23301\n",
              "119   14163            134          33872   37212"
            ]
          },
          "execution_count": 9,
          "metadata": {},
          "output_type": "execute_result"
        }
      ],
      "source": [
        "df"
      ]
    },
    {
      "cell_type": "code",
      "execution_count": null,
      "id": "867321fd-a7b4-444f-b403-b5d69a64219f",
      "metadata": {
        "id": "867321fd-a7b4-444f-b403-b5d69a64219f"
      },
      "outputs": [],
      "source": [
        "from sklearn.model_selection import train_test_split\n",
        "from sklearn.metrics import mean_squared_error, accuracy_score\n",
        "import matplotlib.pyplot as plt"
      ]
    },
    {
      "cell_type": "markdown",
      "id": "b37428e6-08a4-493c-a440-e595b1538f08",
      "metadata": {
        "id": "b37428e6-08a4-493c-a440-e595b1538f08"
      },
      "source": [
        "### LinearRegression"
      ]
    },
    {
      "cell_type": "code",
      "execution_count": null,
      "id": "03e2069e-a401-4fa5-b5d9-f98b7d0f7618",
      "metadata": {
        "id": "03e2069e-a401-4fa5-b5d9-f98b7d0f7618"
      },
      "outputs": [],
      "source": [
        "from sklearn.linear_model import LinearRegression"
      ]
    },
    {
      "cell_type": "code",
      "execution_count": null,
      "id": "4ab173ca-729b-459b-b3c6-061ab430be04",
      "metadata": {
        "id": "4ab173ca-729b-459b-b3c6-061ab430be04"
      },
      "outputs": [],
      "source": [
        "df_lr = df.copy()"
      ]
    },
    {
      "cell_type": "code",
      "execution_count": null,
      "id": "1ba5f11f-222b-484b-98af-0f972055a8c3",
      "metadata": {
        "id": "1ba5f11f-222b-484b-98af-0f972055a8c3"
      },
      "outputs": [],
      "source": [
        "features = df_lr[['QTY_GARANTY_S', 'INVENTORY_QTY', 'KHARID']]\n",
        "target = df_lr['Demand']"
      ]
    },
    {
      "cell_type": "code",
      "execution_count": null,
      "id": "9f3008aa-9dc0-49bf-b76a-1054c8adc57f",
      "metadata": {
        "id": "9f3008aa-9dc0-49bf-b76a-1054c8adc57f"
      },
      "outputs": [],
      "source": [
        "X_train, X_test, y_train, y_test = train_test_split(features, target, test_size=0.2, random_state=42)"
      ]
    },
    {
      "cell_type": "code",
      "execution_count": null,
      "id": "6409dded-28dd-41f1-b675-084a54cf2352",
      "metadata": {
        "id": "6409dded-28dd-41f1-b675-084a54cf2352"
      },
      "outputs": [],
      "source": [
        "model_lr = LinearRegression()"
      ]
    },
    {
      "cell_type": "code",
      "execution_count": null,
      "id": "9ad26c7a-29e1-4216-9286-8ff52c61d627",
      "metadata": {
        "id": "9ad26c7a-29e1-4216-9286-8ff52c61d627",
        "outputId": "f8a18562-11da-4942-d192-0feaeaf99887"
      },
      "outputs": [
        {
          "data": {
            "text/html": [
              "<style>#sk-container-id-1 {color: black;}#sk-container-id-1 pre{padding: 0;}#sk-container-id-1 div.sk-toggleable {background-color: white;}#sk-container-id-1 label.sk-toggleable__label {cursor: pointer;display: block;width: 100%;margin-bottom: 0;padding: 0.3em;box-sizing: border-box;text-align: center;}#sk-container-id-1 label.sk-toggleable__label-arrow:before {content: \"▸\";float: left;margin-right: 0.25em;color: #696969;}#sk-container-id-1 label.sk-toggleable__label-arrow:hover:before {color: black;}#sk-container-id-1 div.sk-estimator:hover label.sk-toggleable__label-arrow:before {color: black;}#sk-container-id-1 div.sk-toggleable__content {max-height: 0;max-width: 0;overflow: hidden;text-align: left;background-color: #f0f8ff;}#sk-container-id-1 div.sk-toggleable__content pre {margin: 0.2em;color: black;border-radius: 0.25em;background-color: #f0f8ff;}#sk-container-id-1 input.sk-toggleable__control:checked~div.sk-toggleable__content {max-height: 200px;max-width: 100%;overflow: auto;}#sk-container-id-1 input.sk-toggleable__control:checked~label.sk-toggleable__label-arrow:before {content: \"▾\";}#sk-container-id-1 div.sk-estimator input.sk-toggleable__control:checked~label.sk-toggleable__label {background-color: #d4ebff;}#sk-container-id-1 div.sk-label input.sk-toggleable__control:checked~label.sk-toggleable__label {background-color: #d4ebff;}#sk-container-id-1 input.sk-hidden--visually {border: 0;clip: rect(1px 1px 1px 1px);clip: rect(1px, 1px, 1px, 1px);height: 1px;margin: -1px;overflow: hidden;padding: 0;position: absolute;width: 1px;}#sk-container-id-1 div.sk-estimator {font-family: monospace;background-color: #f0f8ff;border: 1px dotted black;border-radius: 0.25em;box-sizing: border-box;margin-bottom: 0.5em;}#sk-container-id-1 div.sk-estimator:hover {background-color: #d4ebff;}#sk-container-id-1 div.sk-parallel-item::after {content: \"\";width: 100%;border-bottom: 1px solid gray;flex-grow: 1;}#sk-container-id-1 div.sk-label:hover label.sk-toggleable__label {background-color: #d4ebff;}#sk-container-id-1 div.sk-serial::before {content: \"\";position: absolute;border-left: 1px solid gray;box-sizing: border-box;top: 0;bottom: 0;left: 50%;z-index: 0;}#sk-container-id-1 div.sk-serial {display: flex;flex-direction: column;align-items: center;background-color: white;padding-right: 0.2em;padding-left: 0.2em;position: relative;}#sk-container-id-1 div.sk-item {position: relative;z-index: 1;}#sk-container-id-1 div.sk-parallel {display: flex;align-items: stretch;justify-content: center;background-color: white;position: relative;}#sk-container-id-1 div.sk-item::before, #sk-container-id-1 div.sk-parallel-item::before {content: \"\";position: absolute;border-left: 1px solid gray;box-sizing: border-box;top: 0;bottom: 0;left: 50%;z-index: -1;}#sk-container-id-1 div.sk-parallel-item {display: flex;flex-direction: column;z-index: 1;position: relative;background-color: white;}#sk-container-id-1 div.sk-parallel-item:first-child::after {align-self: flex-end;width: 50%;}#sk-container-id-1 div.sk-parallel-item:last-child::after {align-self: flex-start;width: 50%;}#sk-container-id-1 div.sk-parallel-item:only-child::after {width: 0;}#sk-container-id-1 div.sk-dashed-wrapped {border: 1px dashed gray;margin: 0 0.4em 0.5em 0.4em;box-sizing: border-box;padding-bottom: 0.4em;background-color: white;}#sk-container-id-1 div.sk-label label {font-family: monospace;font-weight: bold;display: inline-block;line-height: 1.2em;}#sk-container-id-1 div.sk-label-container {text-align: center;}#sk-container-id-1 div.sk-container {/* jupyter's `normalize.less` sets `[hidden] { display: none; }` but bootstrap.min.css set `[hidden] { display: none !important; }` so we also need the `!important` here to be able to override the default hidden behavior on the sphinx rendered scikit-learn.org. See: https://github.com/scikit-learn/scikit-learn/issues/21755 */display: inline-block !important;position: relative;}#sk-container-id-1 div.sk-text-repr-fallback {display: none;}</style><div id=\"sk-container-id-1\" class=\"sk-top-container\"><div class=\"sk-text-repr-fallback\"><pre>LinearRegression()</pre><b>In a Jupyter environment, please rerun this cell to show the HTML representation or trust the notebook. <br />On GitHub, the HTML representation is unable to render, please try loading this page with nbviewer.org.</b></div><div class=\"sk-container\" hidden><div class=\"sk-item\"><div class=\"sk-estimator sk-toggleable\"><input class=\"sk-toggleable__control sk-hidden--visually\" id=\"sk-estimator-id-1\" type=\"checkbox\" checked><label for=\"sk-estimator-id-1\" class=\"sk-toggleable__label sk-toggleable__label-arrow\">LinearRegression</label><div class=\"sk-toggleable__content\"><pre>LinearRegression()</pre></div></div></div></div></div>"
            ],
            "text/plain": [
              "LinearRegression()"
            ]
          },
          "execution_count": 16,
          "metadata": {},
          "output_type": "execute_result"
        }
      ],
      "source": [
        "model_lr.fit(X_train, y_train)"
      ]
    },
    {
      "cell_type": "code",
      "execution_count": null,
      "id": "70e271bb-c584-4475-a18e-918d02766c7d",
      "metadata": {
        "id": "70e271bb-c584-4475-a18e-918d02766c7d"
      },
      "outputs": [],
      "source": [
        "predictions = model_lr.predict(X_test)"
      ]
    },
    {
      "cell_type": "code",
      "execution_count": null,
      "id": "7fea8007-f509-4221-962a-d4072e3c90e3",
      "metadata": {
        "id": "7fea8007-f509-4221-962a-d4072e3c90e3",
        "outputId": "c7c8d625-bd90-4bd0-9a0f-0dee0df69b12"
      },
      "outputs": [
        {
          "name": "stdout",
          "output_type": "stream",
          "text": [
            "Mean Squared Error: 27958249.055320695\n"
          ]
        }
      ],
      "source": [
        "mse = mean_squared_error(y_test, predictions)\n",
        "\n",
        "print(\"Mean Squared Error:\", mse)"
      ]
    },
    {
      "cell_type": "code",
      "execution_count": null,
      "id": "cfaeeeb2-6393-4a46-9c2d-64f78319c595",
      "metadata": {
        "id": "cfaeeeb2-6393-4a46-9c2d-64f78319c595",
        "outputId": "503c67cc-92c8-4476-f294-031dc27c7e7c"
      },
      "outputs": [
        {
          "name": "stdout",
          "output_type": "stream",
          "text": [
            "Next 12 Predictions: [13217.69979981 13862.97148972 14125.64601791 14421.46544819\n",
            " 14730.39474773 14535.13871117 14650.78754652 14336.6898155\n",
            " 14379.99067529 14234.29921801 13730.43036645 13870.36493176]\n"
          ]
        }
      ],
      "source": [
        "next_12_data = df_lr.iloc[-12:][['QTY_GARANTY_S', 'INVENTORY_QTY', 'KHARID']]\n",
        "next_12_predictions = model_lr.predict(next_12_data)\n",
        "print(\"Next 12 Predictions:\", next_12_predictions)"
      ]
    },
    {
      "cell_type": "code",
      "execution_count": null,
      "id": "da554ff5-92ce-4b5d-97b5-8bba73580e45",
      "metadata": {
        "id": "da554ff5-92ce-4b5d-97b5-8bba73580e45"
      },
      "outputs": [],
      "source": [
        "df_to_append = pd.DataFrame(columns=df_lr.columns)\n",
        "\n",
        "df_to_append['Demand'] = next_12_predictions\n",
        "\n",
        "for column in df_to_append.columns:\n",
        "    if column != 'Demand':\n",
        "        df_to_append[column] = 0\n",
        "\n",
        "df_lr = pd.concat([df_lr, df_to_append], ignore_index=True)"
      ]
    },
    {
      "cell_type": "code",
      "execution_count": null,
      "id": "d8542736-265a-4d34-8f38-511af09172fe",
      "metadata": {
        "id": "d8542736-265a-4d34-8f38-511af09172fe",
        "outputId": "460cf6d4-64a2-46ca-e537-805bbcee59f3"
      },
      "outputs": [
        {
          "data": {
            "text/html": [
              "<div>\n",
              "<style scoped>\n",
              "    .dataframe tbody tr th:only-of-type {\n",
              "        vertical-align: middle;\n",
              "    }\n",
              "\n",
              "    .dataframe tbody tr th {\n",
              "        vertical-align: top;\n",
              "    }\n",
              "\n",
              "    .dataframe thead th {\n",
              "        text-align: right;\n",
              "    }\n",
              "</style>\n",
              "<table border=\"1\" class=\"dataframe\">\n",
              "  <thead>\n",
              "    <tr style=\"text-align: right;\">\n",
              "      <th></th>\n",
              "      <th>Demand</th>\n",
              "      <th>QTY_GARANTY_S</th>\n",
              "      <th>INVENTORY_QTY</th>\n",
              "      <th>KHARID</th>\n",
              "    </tr>\n",
              "  </thead>\n",
              "  <tbody>\n",
              "    <tr>\n",
              "      <th>0</th>\n",
              "      <td>6399.000000</td>\n",
              "      <td>185</td>\n",
              "      <td>142794</td>\n",
              "      <td>1651</td>\n",
              "    </tr>\n",
              "    <tr>\n",
              "      <th>1</th>\n",
              "      <td>11328.000000</td>\n",
              "      <td>275</td>\n",
              "      <td>130951</td>\n",
              "      <td>2304</td>\n",
              "    </tr>\n",
              "    <tr>\n",
              "      <th>2</th>\n",
              "      <td>7950.000000</td>\n",
              "      <td>272</td>\n",
              "      <td>121503</td>\n",
              "      <td>1593</td>\n",
              "    </tr>\n",
              "    <tr>\n",
              "      <th>3</th>\n",
              "      <td>16489.000000</td>\n",
              "      <td>281</td>\n",
              "      <td>117251</td>\n",
              "      <td>12515</td>\n",
              "    </tr>\n",
              "    <tr>\n",
              "      <th>4</th>\n",
              "      <td>13807.000000</td>\n",
              "      <td>385</td>\n",
              "      <td>117261</td>\n",
              "      <td>25798</td>\n",
              "    </tr>\n",
              "    <tr>\n",
              "      <th>5</th>\n",
              "      <td>10212.000000</td>\n",
              "      <td>152</td>\n",
              "      <td>74196</td>\n",
              "      <td>23076</td>\n",
              "    </tr>\n",
              "    <tr>\n",
              "      <th>6</th>\n",
              "      <td>10323.000000</td>\n",
              "      <td>240</td>\n",
              "      <td>93883</td>\n",
              "      <td>21939</td>\n",
              "    </tr>\n",
              "    <tr>\n",
              "      <th>7</th>\n",
              "      <td>16393.000000</td>\n",
              "      <td>330</td>\n",
              "      <td>99863</td>\n",
              "      <td>2256</td>\n",
              "    </tr>\n",
              "    <tr>\n",
              "      <th>8</th>\n",
              "      <td>13338.000000</td>\n",
              "      <td>429</td>\n",
              "      <td>78643</td>\n",
              "      <td>19712</td>\n",
              "    </tr>\n",
              "    <tr>\n",
              "      <th>9</th>\n",
              "      <td>19585.000000</td>\n",
              "      <td>391</td>\n",
              "      <td>40055</td>\n",
              "      <td>13161</td>\n",
              "    </tr>\n",
              "    <tr>\n",
              "      <th>10</th>\n",
              "      <td>15986.000000</td>\n",
              "      <td>359</td>\n",
              "      <td>37015</td>\n",
              "      <td>6653</td>\n",
              "    </tr>\n",
              "    <tr>\n",
              "      <th>11</th>\n",
              "      <td>17869.000000</td>\n",
              "      <td>237</td>\n",
              "      <td>30731</td>\n",
              "      <td>7795</td>\n",
              "    </tr>\n",
              "    <tr>\n",
              "      <th>12</th>\n",
              "      <td>17781.000000</td>\n",
              "      <td>219</td>\n",
              "      <td>16979</td>\n",
              "      <td>2688</td>\n",
              "    </tr>\n",
              "    <tr>\n",
              "      <th>13</th>\n",
              "      <td>16930.000000</td>\n",
              "      <td>379</td>\n",
              "      <td>6488</td>\n",
              "      <td>1255</td>\n",
              "    </tr>\n",
              "    <tr>\n",
              "      <th>14</th>\n",
              "      <td>10198.000000</td>\n",
              "      <td>326</td>\n",
              "      <td>3865</td>\n",
              "      <td>2220</td>\n",
              "    </tr>\n",
              "    <tr>\n",
              "      <th>15</th>\n",
              "      <td>18967.000000</td>\n",
              "      <td>474</td>\n",
              "      <td>3881</td>\n",
              "      <td>2197</td>\n",
              "    </tr>\n",
              "    <tr>\n",
              "      <th>16</th>\n",
              "      <td>8266.000000</td>\n",
              "      <td>461</td>\n",
              "      <td>101</td>\n",
              "      <td>3136</td>\n",
              "    </tr>\n",
              "    <tr>\n",
              "      <th>17</th>\n",
              "      <td>8303.000000</td>\n",
              "      <td>475</td>\n",
              "      <td>3180</td>\n",
              "      <td>6487</td>\n",
              "    </tr>\n",
              "    <tr>\n",
              "      <th>18</th>\n",
              "      <td>12685.000000</td>\n",
              "      <td>493</td>\n",
              "      <td>7435</td>\n",
              "      <td>23301</td>\n",
              "    </tr>\n",
              "    <tr>\n",
              "      <th>19</th>\n",
              "      <td>14163.000000</td>\n",
              "      <td>134</td>\n",
              "      <td>33872</td>\n",
              "      <td>37212</td>\n",
              "    </tr>\n",
              "    <tr>\n",
              "      <th>20</th>\n",
              "      <td>13217.699800</td>\n",
              "      <td>0</td>\n",
              "      <td>0</td>\n",
              "      <td>0</td>\n",
              "    </tr>\n",
              "    <tr>\n",
              "      <th>21</th>\n",
              "      <td>13862.971490</td>\n",
              "      <td>0</td>\n",
              "      <td>0</td>\n",
              "      <td>0</td>\n",
              "    </tr>\n",
              "    <tr>\n",
              "      <th>22</th>\n",
              "      <td>14125.646018</td>\n",
              "      <td>0</td>\n",
              "      <td>0</td>\n",
              "      <td>0</td>\n",
              "    </tr>\n",
              "    <tr>\n",
              "      <th>23</th>\n",
              "      <td>14421.465448</td>\n",
              "      <td>0</td>\n",
              "      <td>0</td>\n",
              "      <td>0</td>\n",
              "    </tr>\n",
              "    <tr>\n",
              "      <th>24</th>\n",
              "      <td>14730.394748</td>\n",
              "      <td>0</td>\n",
              "      <td>0</td>\n",
              "      <td>0</td>\n",
              "    </tr>\n",
              "    <tr>\n",
              "      <th>25</th>\n",
              "      <td>14535.138711</td>\n",
              "      <td>0</td>\n",
              "      <td>0</td>\n",
              "      <td>0</td>\n",
              "    </tr>\n",
              "    <tr>\n",
              "      <th>26</th>\n",
              "      <td>14650.787547</td>\n",
              "      <td>0</td>\n",
              "      <td>0</td>\n",
              "      <td>0</td>\n",
              "    </tr>\n",
              "    <tr>\n",
              "      <th>27</th>\n",
              "      <td>14336.689815</td>\n",
              "      <td>0</td>\n",
              "      <td>0</td>\n",
              "      <td>0</td>\n",
              "    </tr>\n",
              "    <tr>\n",
              "      <th>28</th>\n",
              "      <td>14379.990675</td>\n",
              "      <td>0</td>\n",
              "      <td>0</td>\n",
              "      <td>0</td>\n",
              "    </tr>\n",
              "    <tr>\n",
              "      <th>29</th>\n",
              "      <td>14234.299218</td>\n",
              "      <td>0</td>\n",
              "      <td>0</td>\n",
              "      <td>0</td>\n",
              "    </tr>\n",
              "    <tr>\n",
              "      <th>30</th>\n",
              "      <td>13730.430366</td>\n",
              "      <td>0</td>\n",
              "      <td>0</td>\n",
              "      <td>0</td>\n",
              "    </tr>\n",
              "    <tr>\n",
              "      <th>31</th>\n",
              "      <td>13870.364932</td>\n",
              "      <td>0</td>\n",
              "      <td>0</td>\n",
              "      <td>0</td>\n",
              "    </tr>\n",
              "  </tbody>\n",
              "</table>\n",
              "</div>"
            ],
            "text/plain": [
              "          Demand  QTY_GARANTY_S  INVENTORY_QTY  KHARID\n",
              "0    6399.000000            185         142794    1651\n",
              "1   11328.000000            275         130951    2304\n",
              "2    7950.000000            272         121503    1593\n",
              "3   16489.000000            281         117251   12515\n",
              "4   13807.000000            385         117261   25798\n",
              "5   10212.000000            152          74196   23076\n",
              "6   10323.000000            240          93883   21939\n",
              "7   16393.000000            330          99863    2256\n",
              "8   13338.000000            429          78643   19712\n",
              "9   19585.000000            391          40055   13161\n",
              "10  15986.000000            359          37015    6653\n",
              "11  17869.000000            237          30731    7795\n",
              "12  17781.000000            219          16979    2688\n",
              "13  16930.000000            379           6488    1255\n",
              "14  10198.000000            326           3865    2220\n",
              "15  18967.000000            474           3881    2197\n",
              "16   8266.000000            461            101    3136\n",
              "17   8303.000000            475           3180    6487\n",
              "18  12685.000000            493           7435   23301\n",
              "19  14163.000000            134          33872   37212\n",
              "20  13217.699800              0              0       0\n",
              "21  13862.971490              0              0       0\n",
              "22  14125.646018              0              0       0\n",
              "23  14421.465448              0              0       0\n",
              "24  14730.394748              0              0       0\n",
              "25  14535.138711              0              0       0\n",
              "26  14650.787547              0              0       0\n",
              "27  14336.689815              0              0       0\n",
              "28  14379.990675              0              0       0\n",
              "29  14234.299218              0              0       0\n",
              "30  13730.430366              0              0       0\n",
              "31  13870.364932              0              0       0"
            ]
          },
          "execution_count": 21,
          "metadata": {},
          "output_type": "execute_result"
        }
      ],
      "source": [
        "df_lr"
      ]
    },
    {
      "cell_type": "code",
      "execution_count": null,
      "id": "283799d5-4925-4bdd-b93e-017fd22094af",
      "metadata": {
        "id": "283799d5-4925-4bdd-b93e-017fd22094af",
        "outputId": "1aa06ac5-2016-4f13-be12-a3219ec5deb0"
      },
      "outputs": [
        {
          "data": {
            "image/png": "[encoded data removed]",
            "text/plain": [
              "<Figure size 1200x600 with 1 Axes>"
            ]
          },
          "metadata": {},
          "output_type": "display_data"
        }
      ],
      "source": [
        "plt.figure(figsize=(12, 6))\n",
        "plt.plot(df_lr.index, df_lr['Demand'], label='All Data', color='blue')\n",
        "plt.scatter(df_lr.index[-12:], df_lr['Demand'].tail(12), color='red', label='Last 12', s=100)\n",
        "\n",
        "plt.xlabel('Data')\n",
        "plt.ylabel('Demand')\n",
        "plt.title('Demand Variation')\n",
        "plt.legend()\n",
        "\n",
        "plt.show()"
      ]
    },
    {
      "cell_type": "code",
      "execution_count": null,
      "id": "615a7e4a-27b9-4dfb-85cf-efb9b2eb0df1",
      "metadata": {
        "id": "615a7e4a-27b9-4dfb-85cf-efb9b2eb0df1",
        "outputId": "6b4a0fcb-dbb1-467a-d8b1-1da3d1327021"
      },
      "outputs": [
        {
          "name": "stdout",
          "output_type": "stream",
          "text": [
            "The product has a decreasing trend with a tolerance of 20%.\n"
          ]
        }
      ],
      "source": [
        "df_lr['Percentage Change'] = df_lr['Demand'].pct_change() * 100\n",
        "\n",
        "tolerance = 20\n",
        "increasing_trend = ((df_lr['Percentage Change'] >= -tolerance) & (df_lr['Percentage Change'] <= tolerance)).all()\n",
        "\n",
        "if increasing_trend:\n",
        "    print(\"The product has an increasing trend with a tolerance of 20%.\")\n",
        "else:\n",
        "    print(\"The product has a decreasing trend with a tolerance of 20%.\")"
      ]
    },
    {
      "cell_type": "markdown",
      "id": "e5941047-8457-42f9-b947-22b8b76065cc",
      "metadata": {
        "id": "e5941047-8457-42f9-b947-22b8b76065cc"
      },
      "source": [
        "### SVR"
      ]
    },
    {
      "cell_type": "code",
      "execution_count": null,
      "id": "4b67e2d9-f69f-47a9-b2c0-1576791d4c79",
      "metadata": {
        "id": "4b67e2d9-f69f-47a9-b2c0-1576791d4c79"
      },
      "outputs": [],
      "source": [
        "from sklearn.svm import SVR"
      ]
    },
    {
      "cell_type": "code",
      "execution_count": null,
      "id": "f315de4e-df5e-4973-b6ef-1181c60ac5c8",
      "metadata": {
        "id": "f315de4e-df5e-4973-b6ef-1181c60ac5c8"
      },
      "outputs": [],
      "source": [
        "df_svr = df.copy()"
      ]
    },
    {
      "cell_type": "code",
      "execution_count": null,
      "id": "01c1dea5-1c7b-4362-8ae1-819edde53b40",
      "metadata": {
        "id": "01c1dea5-1c7b-4362-8ae1-819edde53b40"
      },
      "outputs": [],
      "source": [
        "features = df_svr[['QTY_GARANTY_S', 'INVENTORY_QTY', 'KHARID']]\n",
        "target = df_svr['Demand']"
      ]
    },
    {
      "cell_type": "code",
      "execution_count": null,
      "id": "21ff6d0f-245f-4c37-946c-088d416a6abe",
      "metadata": {
        "id": "21ff6d0f-245f-4c37-946c-088d416a6abe"
      },
      "outputs": [],
      "source": [
        "X_train, X_test, y_train, y_test = train_test_split(features, target, test_size=0.2, random_state=42)"
      ]
    },
    {
      "cell_type": "code",
      "execution_count": null,
      "id": "1e8fc8e0-e72a-4156-ae02-62e3b1356ee8",
      "metadata": {
        "id": "1e8fc8e0-e72a-4156-ae02-62e3b1356ee8"
      },
      "outputs": [],
      "source": [
        "model_svr = SVR(kernel='linear')"
      ]
    },
    {
      "cell_type": "code",
      "execution_count": null,
      "id": "e6ebc059-e99b-407a-b369-6fe62e535c25",
      "metadata": {
        "id": "e6ebc059-e99b-407a-b369-6fe62e535c25",
        "outputId": "f1cb2838-5356-4511-ab8a-750de03ceb81"
      },
      "outputs": [
        {
          "data": {
            "text/html": [
              "<style>#sk-container-id-2 {color: black;}#sk-container-id-2 pre{padding: 0;}#sk-container-id-2 div.sk-toggleable {background-color: white;}#sk-container-id-2 label.sk-toggleable__label {cursor: pointer;display: block;width: 100%;margin-bottom: 0;padding: 0.3em;box-sizing: border-box;text-align: center;}#sk-container-id-2 label.sk-toggleable__label-arrow:before {content: \"▸\";float: left;margin-right: 0.25em;color: #696969;}#sk-container-id-2 label.sk-toggleable__label-arrow:hover:before {color: black;}#sk-container-id-2 div.sk-estimator:hover label.sk-toggleable__label-arrow:before {color: black;}#sk-container-id-2 div.sk-toggleable__content {max-height: 0;max-width: 0;overflow: hidden;text-align: left;background-color: #f0f8ff;}#sk-container-id-2 div.sk-toggleable__content pre {margin: 0.2em;color: black;border-radius: 0.25em;background-color: #f0f8ff;}#sk-container-id-2 input.sk-toggleable__control:checked~div.sk-toggleable__content {max-height: 200px;max-width: 100%;overflow: auto;}#sk-container-id-2 input.sk-toggleable__control:checked~label.sk-toggleable__label-arrow:before {content: \"▾\";}#sk-container-id-2 div.sk-estimator input.sk-toggleable__control:checked~label.sk-toggleable__label {background-color: #d4ebff;}#sk-container-id-2 div.sk-label input.sk-toggleable__control:checked~label.sk-toggleable__label {background-color: #d4ebff;}#sk-container-id-2 input.sk-hidden--visually {border: 0;clip: rect(1px 1px 1px 1px);clip: rect(1px, 1px, 1px, 1px);height: 1px;margin: -1px;overflow: hidden;padding: 0;position: absolute;width: 1px;}#sk-container-id-2 div.sk-estimator {font-family: monospace;background-color: #f0f8ff;border: 1px dotted black;border-radius: 0.25em;box-sizing: border-box;margin-bottom: 0.5em;}#sk-container-id-2 div.sk-estimator:hover {background-color: #d4ebff;}#sk-container-id-2 div.sk-parallel-item::after {content: \"\";width: 100%;border-bottom: 1px solid gray;flex-grow: 1;}#sk-container-id-2 div.sk-label:hover label.sk-toggleable__label {background-color: #d4ebff;}#sk-container-id-2 div.sk-serial::before {content: \"\";position: absolute;border-left: 1px solid gray;box-sizing: border-box;top: 0;bottom: 0;left: 50%;z-index: 0;}#sk-container-id-2 div.sk-serial {display: flex;flex-direction: column;align-items: center;background-color: white;padding-right: 0.2em;padding-left: 0.2em;position: relative;}#sk-container-id-2 div.sk-item {position: relative;z-index: 1;}#sk-container-id-2 div.sk-parallel {display: flex;align-items: stretch;justify-content: center;background-color: white;position: relative;}#sk-container-id-2 div.sk-item::before, #sk-container-id-2 div.sk-parallel-item::before {content: \"\";position: absolute;border-left: 1px solid gray;box-sizing: border-box;top: 0;bottom: 0;left: 50%;z-index: -1;}#sk-container-id-2 div.sk-parallel-item {display: flex;flex-direction: column;z-index: 1;position: relative;background-color: white;}#sk-container-id-2 div.sk-parallel-item:first-child::after {align-self: flex-end;width: 50%;}#sk-container-id-2 div.sk-parallel-item:last-child::after {align-self: flex-start;width: 50%;}#sk-container-id-2 div.sk-parallel-item:only-child::after {width: 0;}#sk-container-id-2 div.sk-dashed-wrapped {border: 1px dashed gray;margin: 0 0.4em 0.5em 0.4em;box-sizing: border-box;padding-bottom: 0.4em;background-color: white;}#sk-container-id-2 div.sk-label label {font-family: monospace;font-weight: bold;display: inline-block;line-height: 1.2em;}#sk-container-id-2 div.sk-label-container {text-align: center;}#sk-container-id-2 div.sk-container {/* jupyter's `normalize.less` sets `[hidden] { display: none; }` but bootstrap.min.css set `[hidden] { display: none !important; }` so we also need the `!important` here to be able to override the default hidden behavior on the sphinx rendered scikit-learn.org. See: https://github.com/scikit-learn/scikit-learn/issues/21755 */display: inline-block !important;position: relative;}#sk-container-id-2 div.sk-text-repr-fallback {display: none;}</style><div id=\"sk-container-id-2\" class=\"sk-top-container\"><div class=\"sk-text-repr-fallback\"><pre>SVR(kernel=&#x27;linear&#x27;)</pre><b>In a Jupyter environment, please rerun this cell to show the HTML representation or trust the notebook. <br />On GitHub, the HTML representation is unable to render, please try loading this page with nbviewer.org.</b></div><div class=\"sk-container\" hidden><div class=\"sk-item\"><div class=\"sk-estimator sk-toggleable\"><input class=\"sk-toggleable__control sk-hidden--visually\" id=\"sk-estimator-id-2\" type=\"checkbox\" checked><label for=\"sk-estimator-id-2\" class=\"sk-toggleable__label sk-toggleable__label-arrow\">SVR</label><div class=\"sk-toggleable__content\"><pre>SVR(kernel=&#x27;linear&#x27;)</pre></div></div></div></div></div>"
            ],
            "text/plain": [
              "SVR(kernel='linear')"
            ]
          },
          "execution_count": 28,
          "metadata": {},
          "output_type": "execute_result"
        }
      ],
      "source": [
        "model_svr.fit(X_train, y_train)"
      ]
    },
    {
      "cell_type": "code",
      "execution_count": null,
      "id": "39a8748d-c4fc-4860-b8a6-4396d2e60a62",
      "metadata": {
        "id": "39a8748d-c4fc-4860-b8a6-4396d2e60a62"
      },
      "outputs": [],
      "source": [
        "predictions = model_svr.predict(X_test)"
      ]
    },
    {
      "cell_type": "code",
      "execution_count": null,
      "id": "6660d15f-1b6c-4716-9dc1-7e77d77b4d78",
      "metadata": {
        "id": "6660d15f-1b6c-4716-9dc1-7e77d77b4d78",
        "outputId": "e571e46b-9d31-43d6-b1df-c85127effa57"
      },
      "outputs": [
        {
          "name": "stdout",
          "output_type": "stream",
          "text": [
            "Mean Squared Error: 49721028.91475572\n"
          ]
        }
      ],
      "source": [
        "mse = mean_squared_error(y_test, predictions)\n",
        "\n",
        "print(\"Mean Squared Error:\", mse)"
      ]
    },
    {
      "cell_type": "code",
      "execution_count": null,
      "id": "3a4f2f54-10bc-439f-aada-ea8bdc10264f",
      "metadata": {
        "id": "3a4f2f54-10bc-439f-aada-ea8bdc10264f",
        "outputId": "20fb6fb8-507b-4dbc-d5eb-9738a4b9db1f"
      },
      "outputs": [
        {
          "name": "stdout",
          "output_type": "stream",
          "text": [
            "Next 12 Predictions: [13190.16906736 14626.69723413 15732.33510778 16844.94499204\n",
            " 17727.91443441 16401.70464251 16828.91567037 15375.50988815\n",
            " 15420.95900919 14864.66839418 12671.42628953 14363.15655515]\n"
          ]
        }
      ],
      "source": [
        "next_12_data = df_svr.iloc[-12:][['QTY_GARANTY_S', 'INVENTORY_QTY', 'KHARID']]\n",
        "next_12_predictions = model_svr.predict(next_12_data)\n",
        "print(\"Next 12 Predictions:\", next_12_predictions)"
      ]
    },
    {
      "cell_type": "code",
      "execution_count": null,
      "id": "46013fe4-504b-4422-9bef-146f3e12aade",
      "metadata": {
        "id": "46013fe4-504b-4422-9bef-146f3e12aade"
      },
      "outputs": [],
      "source": [
        "df_to_append = pd.DataFrame(columns=df_svr.columns)\n",
        "\n",
        "df_to_append['Demand'] = next_12_predictions\n",
        "\n",
        "for column in df_to_append.columns:\n",
        "    if column != 'Demand':\n",
        "        df_to_append[column] = 0\n",
        "\n",
        "df_svr = pd.concat([df_svr, df_to_append], ignore_index=True)"
      ]
    },
    {
      "cell_type": "code",
      "execution_count": null,
      "id": "e0026e68-1b64-4d93-8378-10a3b567cc66",
      "metadata": {
        "id": "e0026e68-1b64-4d93-8378-10a3b567cc66",
        "outputId": "cf2ef099-56c6-4668-eff8-a18458bd73f2"
      },
      "outputs": [
        {
          "data": {
            "text/html": [
              "<div>\n",
              "<style scoped>\n",
              "    .dataframe tbody tr th:only-of-type {\n",
              "        vertical-align: middle;\n",
              "    }\n",
              "\n",
              "    .dataframe tbody tr th {\n",
              "        vertical-align: top;\n",
              "    }\n",
              "\n",
              "    .dataframe thead th {\n",
              "        text-align: right;\n",
              "    }\n",
              "</style>\n",
              "<table border=\"1\" class=\"dataframe\">\n",
              "  <thead>\n",
              "    <tr style=\"text-align: right;\">\n",
              "      <th></th>\n",
              "      <th>Demand</th>\n",
              "      <th>QTY_GARANTY_S</th>\n",
              "      <th>INVENTORY_QTY</th>\n",
              "      <th>KHARID</th>\n",
              "    </tr>\n",
              "  </thead>\n",
              "  <tbody>\n",
              "    <tr>\n",
              "      <th>0</th>\n",
              "      <td>6399.000000</td>\n",
              "      <td>185</td>\n",
              "      <td>142794</td>\n",
              "      <td>1651</td>\n",
              "    </tr>\n",
              "    <tr>\n",
              "      <th>1</th>\n",
              "      <td>11328.000000</td>\n",
              "      <td>275</td>\n",
              "      <td>130951</td>\n",
              "      <td>2304</td>\n",
              "    </tr>\n",
              "    <tr>\n",
              "      <th>2</th>\n",
              "      <td>7950.000000</td>\n",
              "      <td>272</td>\n",
              "      <td>121503</td>\n",
              "      <td>1593</td>\n",
              "    </tr>\n",
              "    <tr>\n",
              "      <th>3</th>\n",
              "      <td>16489.000000</td>\n",
              "      <td>281</td>\n",
              "      <td>117251</td>\n",
              "      <td>12515</td>\n",
              "    </tr>\n",
              "    <tr>\n",
              "      <th>4</th>\n",
              "      <td>13807.000000</td>\n",
              "      <td>385</td>\n",
              "      <td>117261</td>\n",
              "      <td>25798</td>\n",
              "    </tr>\n",
              "    <tr>\n",
              "      <th>5</th>\n",
              "      <td>10212.000000</td>\n",
              "      <td>152</td>\n",
              "      <td>74196</td>\n",
              "      <td>23076</td>\n",
              "    </tr>\n",
              "    <tr>\n",
              "      <th>6</th>\n",
              "      <td>10323.000000</td>\n",
              "      <td>240</td>\n",
              "      <td>93883</td>\n",
              "      <td>21939</td>\n",
              "    </tr>\n",
              "    <tr>\n",
              "      <th>7</th>\n",
              "      <td>16393.000000</td>\n",
              "      <td>330</td>\n",
              "      <td>99863</td>\n",
              "      <td>2256</td>\n",
              "    </tr>\n",
              "    <tr>\n",
              "      <th>8</th>\n",
              "      <td>13338.000000</td>\n",
              "      <td>429</td>\n",
              "      <td>78643</td>\n",
              "      <td>19712</td>\n",
              "    </tr>\n",
              "    <tr>\n",
              "      <th>9</th>\n",
              "      <td>19585.000000</td>\n",
              "      <td>391</td>\n",
              "      <td>40055</td>\n",
              "      <td>13161</td>\n",
              "    </tr>\n",
              "    <tr>\n",
              "      <th>10</th>\n",
              "      <td>15986.000000</td>\n",
              "      <td>359</td>\n",
              "      <td>37015</td>\n",
              "      <td>6653</td>\n",
              "    </tr>\n",
              "    <tr>\n",
              "      <th>11</th>\n",
              "      <td>17869.000000</td>\n",
              "      <td>237</td>\n",
              "      <td>30731</td>\n",
              "      <td>7795</td>\n",
              "    </tr>\n",
              "    <tr>\n",
              "      <th>12</th>\n",
              "      <td>17781.000000</td>\n",
              "      <td>219</td>\n",
              "      <td>16979</td>\n",
              "      <td>2688</td>\n",
              "    </tr>\n",
              "    <tr>\n",
              "      <th>13</th>\n",
              "      <td>16930.000000</td>\n",
              "      <td>379</td>\n",
              "      <td>6488</td>\n",
              "      <td>1255</td>\n",
              "    </tr>\n",
              "    <tr>\n",
              "      <th>14</th>\n",
              "      <td>10198.000000</td>\n",
              "      <td>326</td>\n",
              "      <td>3865</td>\n",
              "      <td>2220</td>\n",
              "    </tr>\n",
              "    <tr>\n",
              "      <th>15</th>\n",
              "      <td>18967.000000</td>\n",
              "      <td>474</td>\n",
              "      <td>3881</td>\n",
              "      <td>2197</td>\n",
              "    </tr>\n",
              "    <tr>\n",
              "      <th>16</th>\n",
              "      <td>8266.000000</td>\n",
              "      <td>461</td>\n",
              "      <td>101</td>\n",
              "      <td>3136</td>\n",
              "    </tr>\n",
              "    <tr>\n",
              "      <th>17</th>\n",
              "      <td>8303.000000</td>\n",
              "      <td>475</td>\n",
              "      <td>3180</td>\n",
              "      <td>6487</td>\n",
              "    </tr>\n",
              "    <tr>\n",
              "      <th>18</th>\n",
              "      <td>12685.000000</td>\n",
              "      <td>493</td>\n",
              "      <td>7435</td>\n",
              "      <td>23301</td>\n",
              "    </tr>\n",
              "    <tr>\n",
              "      <th>19</th>\n",
              "      <td>14163.000000</td>\n",
              "      <td>134</td>\n",
              "      <td>33872</td>\n",
              "      <td>37212</td>\n",
              "    </tr>\n",
              "    <tr>\n",
              "      <th>20</th>\n",
              "      <td>13190.169067</td>\n",
              "      <td>0</td>\n",
              "      <td>0</td>\n",
              "      <td>0</td>\n",
              "    </tr>\n",
              "    <tr>\n",
              "      <th>21</th>\n",
              "      <td>14626.697234</td>\n",
              "      <td>0</td>\n",
              "      <td>0</td>\n",
              "      <td>0</td>\n",
              "    </tr>\n",
              "    <tr>\n",
              "      <th>22</th>\n",
              "      <td>15732.335108</td>\n",
              "      <td>0</td>\n",
              "      <td>0</td>\n",
              "      <td>0</td>\n",
              "    </tr>\n",
              "    <tr>\n",
              "      <th>23</th>\n",
              "      <td>16844.944992</td>\n",
              "      <td>0</td>\n",
              "      <td>0</td>\n",
              "      <td>0</td>\n",
              "    </tr>\n",
              "    <tr>\n",
              "      <th>24</th>\n",
              "      <td>17727.914434</td>\n",
              "      <td>0</td>\n",
              "      <td>0</td>\n",
              "      <td>0</td>\n",
              "    </tr>\n",
              "    <tr>\n",
              "      <th>25</th>\n",
              "      <td>16401.704643</td>\n",
              "      <td>0</td>\n",
              "      <td>0</td>\n",
              "      <td>0</td>\n",
              "    </tr>\n",
              "    <tr>\n",
              "      <th>26</th>\n",
              "      <td>16828.915670</td>\n",
              "      <td>0</td>\n",
              "      <td>0</td>\n",
              "      <td>0</td>\n",
              "    </tr>\n",
              "    <tr>\n",
              "      <th>27</th>\n",
              "      <td>15375.509888</td>\n",
              "      <td>0</td>\n",
              "      <td>0</td>\n",
              "      <td>0</td>\n",
              "    </tr>\n",
              "    <tr>\n",
              "      <th>28</th>\n",
              "      <td>15420.959009</td>\n",
              "      <td>0</td>\n",
              "      <td>0</td>\n",
              "      <td>0</td>\n",
              "    </tr>\n",
              "    <tr>\n",
              "      <th>29</th>\n",
              "      <td>14864.668394</td>\n",
              "      <td>0</td>\n",
              "      <td>0</td>\n",
              "      <td>0</td>\n",
              "    </tr>\n",
              "    <tr>\n",
              "      <th>30</th>\n",
              "      <td>12671.426290</td>\n",
              "      <td>0</td>\n",
              "      <td>0</td>\n",
              "      <td>0</td>\n",
              "    </tr>\n",
              "    <tr>\n",
              "      <th>31</th>\n",
              "      <td>14363.156555</td>\n",
              "      <td>0</td>\n",
              "      <td>0</td>\n",
              "      <td>0</td>\n",
              "    </tr>\n",
              "  </tbody>\n",
              "</table>\n",
              "</div>"
            ],
            "text/plain": [
              "          Demand  QTY_GARANTY_S  INVENTORY_QTY  KHARID\n",
              "0    6399.000000            185         142794    1651\n",
              "1   11328.000000            275         130951    2304\n",
              "2    7950.000000            272         121503    1593\n",
              "3   16489.000000            281         117251   12515\n",
              "4   13807.000000            385         117261   25798\n",
              "5   10212.000000            152          74196   23076\n",
              "6   10323.000000            240          93883   21939\n",
              "7   16393.000000            330          99863    2256\n",
              "8   13338.000000            429          78643   19712\n",
              "9   19585.000000            391          40055   13161\n",
              "10  15986.000000            359          37015    6653\n",
              "11  17869.000000            237          30731    7795\n",
              "12  17781.000000            219          16979    2688\n",
              "13  16930.000000            379           6488    1255\n",
              "14  10198.000000            326           3865    2220\n",
              "15  18967.000000            474           3881    2197\n",
              "16   8266.000000            461            101    3136\n",
              "17   8303.000000            475           3180    6487\n",
              "18  12685.000000            493           7435   23301\n",
              "19  14163.000000            134          33872   37212\n",
              "20  13190.169067              0              0       0\n",
              "21  14626.697234              0              0       0\n",
              "22  15732.335108              0              0       0\n",
              "23  16844.944992              0              0       0\n",
              "24  17727.914434              0              0       0\n",
              "25  16401.704643              0              0       0\n",
              "26  16828.915670              0              0       0\n",
              "27  15375.509888              0              0       0\n",
              "28  15420.959009              0              0       0\n",
              "29  14864.668394              0              0       0\n",
              "30  12671.426290              0              0       0\n",
              "31  14363.156555              0              0       0"
            ]
          },
          "execution_count": 33,
          "metadata": {},
          "output_type": "execute_result"
        }
      ],
      "source": [
        "df_svr"
      ]
    },
    {
      "cell_type": "code",
      "execution_count": null,
      "id": "c9e291e6-b555-40e7-ab0c-966a224ae67d",
      "metadata": {
        "id": "c9e291e6-b555-40e7-ab0c-966a224ae67d",
        "outputId": "ec78d331-ef71-4f6e-8b92-02f17d63b2b4"
      },
      "outputs": [
        {
          "data": {
            "image/png": "[encoded data removed]",
            "text/plain": [
              "<Figure size 1200x600 with 1 Axes>"
            ]
          },
          "metadata": {},
          "output_type": "display_data"
        }
      ],
      "source": [
        "plt.figure(figsize=(12, 6))\n",
        "plt.plot(df_svr.index, df_svr['Demand'], label='All Data', color='blue')\n",
        "plt.scatter(df_svr.index[-12:], df_svr['Demand'].tail(12), color='red', label='Last 12', s=100)\n",
        "\n",
        "plt.xlabel('Data')\n",
        "plt.ylabel('Demand')\n",
        "plt.title('Demand Variation')\n",
        "plt.legend()\n",
        "\n",
        "plt.show()"
      ]
    },
    {
      "cell_type": "code",
      "execution_count": null,
      "id": "4302adba-ecbe-4079-b4c4-e63f81d67ad1",
      "metadata": {
        "id": "4302adba-ecbe-4079-b4c4-e63f81d67ad1",
        "outputId": "39727d33-f4d2-46db-be96-b4ff08edc506"
      },
      "outputs": [
        {
          "name": "stdout",
          "output_type": "stream",
          "text": [
            "The product has a decreasing trend with a tolerance of 20%.\n"
          ]
        }
      ],
      "source": [
        "df_svr['Percentage Change'] = df_svr['Demand'].pct_change() * 100\n",
        "\n",
        "tolerance = 20\n",
        "increasing_trend = ((df_svr['Percentage Change'] >= -tolerance) & (df_svr['Percentage Change'] <= tolerance)).all()\n",
        "\n",
        "if increasing_trend:\n",
        "    print(\"The product has an increasing trend with a tolerance of 20%.\")\n",
        "else:\n",
        "    print(\"The product has a decreasing trend with a tolerance of 20%.\")"
      ]
    },
    {
      "cell_type": "markdown",
      "id": "0e14ef96-c01b-4c18-aa46-cc7ec82a08ed",
      "metadata": {
        "id": "0e14ef96-c01b-4c18-aa46-cc7ec82a08ed"
      },
      "source": [
        "### DecisionTreeRegressor"
      ]
    },
    {
      "cell_type": "code",
      "execution_count": null,
      "id": "c01c5637-1c81-41ec-adef-3abcf2dd4f82",
      "metadata": {
        "id": "c01c5637-1c81-41ec-adef-3abcf2dd4f82"
      },
      "outputs": [],
      "source": [
        "from sklearn.tree import DecisionTreeRegressor"
      ]
    },
    {
      "cell_type": "code",
      "execution_count": null,
      "id": "d442afc6-b733-4f61-a35e-bf43b84a0e2f",
      "metadata": {
        "id": "d442afc6-b733-4f61-a35e-bf43b84a0e2f"
      },
      "outputs": [],
      "source": [
        "df_dt = df.copy()"
      ]
    },
    {
      "cell_type": "code",
      "execution_count": null,
      "id": "1bf59658-8c5a-49ed-ace0-4f31a3b1a638",
      "metadata": {
        "id": "1bf59658-8c5a-49ed-ace0-4f31a3b1a638"
      },
      "outputs": [],
      "source": [
        "features = df_dt[['QTY_GARANTY_S', 'INVENTORY_QTY', 'KHARID']]\n",
        "target = df_dt['Demand']"
      ]
    },
    {
      "cell_type": "code",
      "execution_count": null,
      "id": "acb958c4-6ee2-434c-a18c-98aaad57222f",
      "metadata": {
        "id": "acb958c4-6ee2-434c-a18c-98aaad57222f"
      },
      "outputs": [],
      "source": [
        "X_train, X_test, y_train, y_test = train_test_split(features, target, test_size=0.2, random_state=42)"
      ]
    },
    {
      "cell_type": "code",
      "execution_count": null,
      "id": "63f3a234-6c04-43b7-a8ca-8c009aa9ed1d",
      "metadata": {
        "id": "63f3a234-6c04-43b7-a8ca-8c009aa9ed1d"
      },
      "outputs": [],
      "source": [
        "model_dt = DecisionTreeRegressor()"
      ]
    },
    {
      "cell_type": "code",
      "execution_count": null,
      "id": "86189382-41db-433a-88d5-11472fbbba7f",
      "metadata": {
        "id": "86189382-41db-433a-88d5-11472fbbba7f",
        "outputId": "c569629f-3378-4ebe-ba93-b6c36d2ace70"
      },
      "outputs": [
        {
          "data": {
            "text/html": [
              "<style>#sk-container-id-3 {color: black;}#sk-container-id-3 pre{padding: 0;}#sk-container-id-3 div.sk-toggleable {background-color: white;}#sk-container-id-3 label.sk-toggleable__label {cursor: pointer;display: block;width: 100%;margin-bottom: 0;padding: 0.3em;box-sizing: border-box;text-align: center;}#sk-container-id-3 label.sk-toggleable__label-arrow:before {content: \"▸\";float: left;margin-right: 0.25em;color: #696969;}#sk-container-id-3 label.sk-toggleable__label-arrow:hover:before {color: black;}#sk-container-id-3 div.sk-estimator:hover label.sk-toggleable__label-arrow:before {color: black;}#sk-container-id-3 div.sk-toggleable__content {max-height: 0;max-width: 0;overflow: hidden;text-align: left;background-color: #f0f8ff;}#sk-container-id-3 div.sk-toggleable__content pre {margin: 0.2em;color: black;border-radius: 0.25em;background-color: #f0f8ff;}#sk-container-id-3 input.sk-toggleable__control:checked~div.sk-toggleable__content {max-height: 200px;max-width: 100%;overflow: auto;}#sk-container-id-3 input.sk-toggleable__control:checked~label.sk-toggleable__label-arrow:before {content: \"▾\";}#sk-container-id-3 div.sk-estimator input.sk-toggleable__control:checked~label.sk-toggleable__label {background-color: #d4ebff;}#sk-container-id-3 div.sk-label input.sk-toggleable__control:checked~label.sk-toggleable__label {background-color: #d4ebff;}#sk-container-id-3 input.sk-hidden--visually {border: 0;clip: rect(1px 1px 1px 1px);clip: rect(1px, 1px, 1px, 1px);height: 1px;margin: -1px;overflow: hidden;padding: 0;position: absolute;width: 1px;}#sk-container-id-3 div.sk-estimator {font-family: monospace;background-color: #f0f8ff;border: 1px dotted black;border-radius: 0.25em;box-sizing: border-box;margin-bottom: 0.5em;}#sk-container-id-3 div.sk-estimator:hover {background-color: #d4ebff;}#sk-container-id-3 div.sk-parallel-item::after {content: \"\";width: 100%;border-bottom: 1px solid gray;flex-grow: 1;}#sk-container-id-3 div.sk-label:hover label.sk-toggleable__label {background-color: #d4ebff;}#sk-container-id-3 div.sk-serial::before {content: \"\";position: absolute;border-left: 1px solid gray;box-sizing: border-box;top: 0;bottom: 0;left: 50%;z-index: 0;}#sk-container-id-3 div.sk-serial {display: flex;flex-direction: column;align-items: center;background-color: white;padding-right: 0.2em;padding-left: 0.2em;position: relative;}#sk-container-id-3 div.sk-item {position: relative;z-index: 1;}#sk-container-id-3 div.sk-parallel {display: flex;align-items: stretch;justify-content: center;background-color: white;position: relative;}#sk-container-id-3 div.sk-item::before, #sk-container-id-3 div.sk-parallel-item::before {content: \"\";position: absolute;border-left: 1px solid gray;box-sizing: border-box;top: 0;bottom: 0;left: 50%;z-index: -1;}#sk-container-id-3 div.sk-parallel-item {display: flex;flex-direction: column;z-index: 1;position: relative;background-color: white;}#sk-container-id-3 div.sk-parallel-item:first-child::after {align-self: flex-end;width: 50%;}#sk-container-id-3 div.sk-parallel-item:last-child::after {align-self: flex-start;width: 50%;}#sk-container-id-3 div.sk-parallel-item:only-child::after {width: 0;}#sk-container-id-3 div.sk-dashed-wrapped {border: 1px dashed gray;margin: 0 0.4em 0.5em 0.4em;box-sizing: border-box;padding-bottom: 0.4em;background-color: white;}#sk-container-id-3 div.sk-label label {font-family: monospace;font-weight: bold;display: inline-block;line-height: 1.2em;}#sk-container-id-3 div.sk-label-container {text-align: center;}#sk-container-id-3 div.sk-container {/* jupyter's `normalize.less` sets `[hidden] { display: none; }` but bootstrap.min.css set `[hidden] { display: none !important; }` so we also need the `!important` here to be able to override the default hidden behavior on the sphinx rendered scikit-learn.org. See: https://github.com/scikit-learn/scikit-learn/issues/21755 */display: inline-block !important;position: relative;}#sk-container-id-3 div.sk-text-repr-fallback {display: none;}</style><div id=\"sk-container-id-3\" class=\"sk-top-container\"><div class=\"sk-text-repr-fallback\"><pre>DecisionTreeRegressor()</pre><b>In a Jupyter environment, please rerun this cell to show the HTML representation or trust the notebook. <br />On GitHub, the HTML representation is unable to render, please try loading this page with nbviewer.org.</b></div><div class=\"sk-container\" hidden><div class=\"sk-item\"><div class=\"sk-estimator sk-toggleable\"><input class=\"sk-toggleable__control sk-hidden--visually\" id=\"sk-estimator-id-3\" type=\"checkbox\" checked><label for=\"sk-estimator-id-3\" class=\"sk-toggleable__label sk-toggleable__label-arrow\">DecisionTreeRegressor</label><div class=\"sk-toggleable__content\"><pre>DecisionTreeRegressor()</pre></div></div></div></div></div>"
            ],
            "text/plain": [
              "DecisionTreeRegressor()"
            ]
          },
          "execution_count": 40,
          "metadata": {},
          "output_type": "execute_result"
        }
      ],
      "source": [
        "model_dt.fit(X_train, y_train)"
      ]
    },
    {
      "cell_type": "code",
      "execution_count": null,
      "id": "9d30970f-6da9-4339-a95b-834826f2b561",
      "metadata": {
        "id": "9d30970f-6da9-4339-a95b-834826f2b561"
      },
      "outputs": [],
      "source": [
        "predictions = model_dt.predict(X_test)"
      ]
    },
    {
      "cell_type": "code",
      "execution_count": null,
      "id": "2cc3f6c8-4bc7-4653-b25a-346db9e7e51d",
      "metadata": {
        "id": "2cc3f6c8-4bc7-4653-b25a-346db9e7e51d",
        "outputId": "dbbc4cf9-64fc-442c-f380-7c781e03c64b"
      },
      "outputs": [
        {
          "name": "stdout",
          "output_type": "stream",
          "text": [
            "Mean Squared Error: 22678303.75\n"
          ]
        }
      ],
      "source": [
        "mse = mean_squared_error(y_test, predictions)\n",
        "\n",
        "print(\"Mean Squared Error:\", mse)"
      ]
    },
    {
      "cell_type": "code",
      "execution_count": null,
      "id": "faf1951d-295e-4eda-a672-c76f5da542d3",
      "metadata": {
        "id": "faf1951d-295e-4eda-a672-c76f5da542d3",
        "outputId": "240f7270-9e77-49fd-8455-3ff8d05072c0"
      },
      "outputs": [
        {
          "name": "stdout",
          "output_type": "stream",
          "text": [
            "Next 12 Predictions: [13338. 19585. 15986. 17869. 17781. 16930. 10198. 10198.  8266.  8266.\n",
            " 12685. 14163.]\n"
          ]
        }
      ],
      "source": [
        "next_12_data = df_dt.iloc[-12:][['QTY_GARANTY_S', 'INVENTORY_QTY', 'KHARID']]\n",
        "next_12_predictions = model_dt.predict(next_12_data)\n",
        "print(\"Next 12 Predictions:\", next_12_predictions)"
      ]
    },
    {
      "cell_type": "code",
      "execution_count": null,
      "id": "96c3daaa-a602-481a-b78f-d6224c6c67e1",
      "metadata": {
        "id": "96c3daaa-a602-481a-b78f-d6224c6c67e1"
      },
      "outputs": [],
      "source": [
        "df_to_append = pd.DataFrame(columns=df_dt.columns)\n",
        "\n",
        "df_to_append['Demand'] = next_12_predictions\n",
        "\n",
        "for column in df_to_append.columns:\n",
        "    if column != 'Demand':\n",
        "        df_to_append[column] = 0\n",
        "\n",
        "df_dt = pd.concat([df_dt, df_to_append], ignore_index=True)"
      ]
    },
    {
      "cell_type": "code",
      "execution_count": null,
      "id": "28137958-35b2-43e1-9fa9-7badfd8dae88",
      "metadata": {
        "id": "28137958-35b2-43e1-9fa9-7badfd8dae88",
        "outputId": "0ac35b2c-192b-43bd-d5cc-ee7979449cea"
      },
      "outputs": [
        {
          "data": {
            "text/html": [
              "<div>\n",
              "<style scoped>\n",
              "    .dataframe tbody tr th:only-of-type {\n",
              "        vertical-align: middle;\n",
              "    }\n",
              "\n",
              "    .dataframe tbody tr th {\n",
              "        vertical-align: top;\n",
              "    }\n",
              "\n",
              "    .dataframe thead th {\n",
              "        text-align: right;\n",
              "    }\n",
              "</style>\n",
              "<table border=\"1\" class=\"dataframe\">\n",
              "  <thead>\n",
              "    <tr style=\"text-align: right;\">\n",
              "      <th></th>\n",
              "      <th>Demand</th>\n",
              "      <th>QTY_GARANTY_S</th>\n",
              "      <th>INVENTORY_QTY</th>\n",
              "      <th>KHARID</th>\n",
              "    </tr>\n",
              "  </thead>\n",
              "  <tbody>\n",
              "    <tr>\n",
              "      <th>0</th>\n",
              "      <td>6399.0</td>\n",
              "      <td>185</td>\n",
              "      <td>142794</td>\n",
              "      <td>1651</td>\n",
              "    </tr>\n",
              "    <tr>\n",
              "      <th>1</th>\n",
              "      <td>11328.0</td>\n",
              "      <td>275</td>\n",
              "      <td>130951</td>\n",
              "      <td>2304</td>\n",
              "    </tr>\n",
              "    <tr>\n",
              "      <th>2</th>\n",
              "      <td>7950.0</td>\n",
              "      <td>272</td>\n",
              "      <td>121503</td>\n",
              "      <td>1593</td>\n",
              "    </tr>\n",
              "    <tr>\n",
              "      <th>3</th>\n",
              "      <td>16489.0</td>\n",
              "      <td>281</td>\n",
              "      <td>117251</td>\n",
              "      <td>12515</td>\n",
              "    </tr>\n",
              "    <tr>\n",
              "      <th>4</th>\n",
              "      <td>13807.0</td>\n",
              "      <td>385</td>\n",
              "      <td>117261</td>\n",
              "      <td>25798</td>\n",
              "    </tr>\n",
              "    <tr>\n",
              "      <th>5</th>\n",
              "      <td>10212.0</td>\n",
              "      <td>152</td>\n",
              "      <td>74196</td>\n",
              "      <td>23076</td>\n",
              "    </tr>\n",
              "    <tr>\n",
              "      <th>6</th>\n",
              "      <td>10323.0</td>\n",
              "      <td>240</td>\n",
              "      <td>93883</td>\n",
              "      <td>21939</td>\n",
              "    </tr>\n",
              "    <tr>\n",
              "      <th>7</th>\n",
              "      <td>16393.0</td>\n",
              "      <td>330</td>\n",
              "      <td>99863</td>\n",
              "      <td>2256</td>\n",
              "    </tr>\n",
              "    <tr>\n",
              "      <th>8</th>\n",
              "      <td>13338.0</td>\n",
              "      <td>429</td>\n",
              "      <td>78643</td>\n",
              "      <td>19712</td>\n",
              "    </tr>\n",
              "    <tr>\n",
              "      <th>9</th>\n",
              "      <td>19585.0</td>\n",
              "      <td>391</td>\n",
              "      <td>40055</td>\n",
              "      <td>13161</td>\n",
              "    </tr>\n",
              "    <tr>\n",
              "      <th>10</th>\n",
              "      <td>15986.0</td>\n",
              "      <td>359</td>\n",
              "      <td>37015</td>\n",
              "      <td>6653</td>\n",
              "    </tr>\n",
              "    <tr>\n",
              "      <th>11</th>\n",
              "      <td>17869.0</td>\n",
              "      <td>237</td>\n",
              "      <td>30731</td>\n",
              "      <td>7795</td>\n",
              "    </tr>\n",
              "    <tr>\n",
              "      <th>12</th>\n",
              "      <td>17781.0</td>\n",
              "      <td>219</td>\n",
              "      <td>16979</td>\n",
              "      <td>2688</td>\n",
              "    </tr>\n",
              "    <tr>\n",
              "      <th>13</th>\n",
              "      <td>16930.0</td>\n",
              "      <td>379</td>\n",
              "      <td>6488</td>\n",
              "      <td>1255</td>\n",
              "    </tr>\n",
              "    <tr>\n",
              "      <th>14</th>\n",
              "      <td>10198.0</td>\n",
              "      <td>326</td>\n",
              "      <td>3865</td>\n",
              "      <td>2220</td>\n",
              "    </tr>\n",
              "    <tr>\n",
              "      <th>15</th>\n",
              "      <td>18967.0</td>\n",
              "      <td>474</td>\n",
              "      <td>3881</td>\n",
              "      <td>2197</td>\n",
              "    </tr>\n",
              "    <tr>\n",
              "      <th>16</th>\n",
              "      <td>8266.0</td>\n",
              "      <td>461</td>\n",
              "      <td>101</td>\n",
              "      <td>3136</td>\n",
              "    </tr>\n",
              "    <tr>\n",
              "      <th>17</th>\n",
              "      <td>8303.0</td>\n",
              "      <td>475</td>\n",
              "      <td>3180</td>\n",
              "      <td>6487</td>\n",
              "    </tr>\n",
              "    <tr>\n",
              "      <th>18</th>\n",
              "      <td>12685.0</td>\n",
              "      <td>493</td>\n",
              "      <td>7435</td>\n",
              "      <td>23301</td>\n",
              "    </tr>\n",
              "    <tr>\n",
              "      <th>19</th>\n",
              "      <td>14163.0</td>\n",
              "      <td>134</td>\n",
              "      <td>33872</td>\n",
              "      <td>37212</td>\n",
              "    </tr>\n",
              "    <tr>\n",
              "      <th>20</th>\n",
              "      <td>13338.0</td>\n",
              "      <td>0</td>\n",
              "      <td>0</td>\n",
              "      <td>0</td>\n",
              "    </tr>\n",
              "    <tr>\n",
              "      <th>21</th>\n",
              "      <td>19585.0</td>\n",
              "      <td>0</td>\n",
              "      <td>0</td>\n",
              "      <td>0</td>\n",
              "    </tr>\n",
              "    <tr>\n",
              "      <th>22</th>\n",
              "      <td>15986.0</td>\n",
              "      <td>0</td>\n",
              "      <td>0</td>\n",
              "      <td>0</td>\n",
              "    </tr>\n",
              "    <tr>\n",
              "      <th>23</th>\n",
              "      <td>17869.0</td>\n",
              "      <td>0</td>\n",
              "      <td>0</td>\n",
              "      <td>0</td>\n",
              "    </tr>\n",
              "    <tr>\n",
              "      <th>24</th>\n",
              "      <td>17781.0</td>\n",
              "      <td>0</td>\n",
              "      <td>0</td>\n",
              "      <td>0</td>\n",
              "    </tr>\n",
              "    <tr>\n",
              "      <th>25</th>\n",
              "      <td>16930.0</td>\n",
              "      <td>0</td>\n",
              "      <td>0</td>\n",
              "      <td>0</td>\n",
              "    </tr>\n",
              "    <tr>\n",
              "      <th>26</th>\n",
              "      <td>10198.0</td>\n",
              "      <td>0</td>\n",
              "      <td>0</td>\n",
              "      <td>0</td>\n",
              "    </tr>\n",
              "    <tr>\n",
              "      <th>27</th>\n",
              "      <td>10198.0</td>\n",
              "      <td>0</td>\n",
              "      <td>0</td>\n",
              "      <td>0</td>\n",
              "    </tr>\n",
              "    <tr>\n",
              "      <th>28</th>\n",
              "      <td>8266.0</td>\n",
              "      <td>0</td>\n",
              "      <td>0</td>\n",
              "      <td>0</td>\n",
              "    </tr>\n",
              "    <tr>\n",
              "      <th>29</th>\n",
              "      <td>8266.0</td>\n",
              "      <td>0</td>\n",
              "      <td>0</td>\n",
              "      <td>0</td>\n",
              "    </tr>\n",
              "    <tr>\n",
              "      <th>30</th>\n",
              "      <td>12685.0</td>\n",
              "      <td>0</td>\n",
              "      <td>0</td>\n",
              "      <td>0</td>\n",
              "    </tr>\n",
              "    <tr>\n",
              "      <th>31</th>\n",
              "      <td>14163.0</td>\n",
              "      <td>0</td>\n",
              "      <td>0</td>\n",
              "      <td>0</td>\n",
              "    </tr>\n",
              "  </tbody>\n",
              "</table>\n",
              "</div>"
            ],
            "text/plain": [
              "     Demand  QTY_GARANTY_S  INVENTORY_QTY  KHARID\n",
              "0    6399.0            185         142794    1651\n",
              "1   11328.0            275         130951    2304\n",
              "2    7950.0            272         121503    1593\n",
              "3   16489.0            281         117251   12515\n",
              "4   13807.0            385         117261   25798\n",
              "5   10212.0            152          74196   23076\n",
              "6   10323.0            240          93883   21939\n",
              "7   16393.0            330          99863    2256\n",
              "8   13338.0            429          78643   19712\n",
              "9   19585.0            391          40055   13161\n",
              "10  15986.0            359          37015    6653\n",
              "11  17869.0            237          30731    7795\n",
              "12  17781.0            219          16979    2688\n",
              "13  16930.0            379           6488    1255\n",
              "14  10198.0            326           3865    2220\n",
              "15  18967.0            474           3881    2197\n",
              "16   8266.0            461            101    3136\n",
              "17   8303.0            475           3180    6487\n",
              "18  12685.0            493           7435   23301\n",
              "19  14163.0            134          33872   37212\n",
              "20  13338.0              0              0       0\n",
              "21  19585.0              0              0       0\n",
              "22  15986.0              0              0       0\n",
              "23  17869.0              0              0       0\n",
              "24  17781.0              0              0       0\n",
              "25  16930.0              0              0       0\n",
              "26  10198.0              0              0       0\n",
              "27  10198.0              0              0       0\n",
              "28   8266.0              0              0       0\n",
              "29   8266.0              0              0       0\n",
              "30  12685.0              0              0       0\n",
              "31  14163.0              0              0       0"
            ]
          },
          "execution_count": 45,
          "metadata": {},
          "output_type": "execute_result"
        }
      ],
      "source": [
        "df_dt"
      ]
    },
    {
      "cell_type": "code",
      "execution_count": null,
      "id": "98c088fd-847c-4b5b-acee-48a969f1bb5d",
      "metadata": {
        "id": "98c088fd-847c-4b5b-acee-48a969f1bb5d",
        "outputId": "ec278a20-92ad-4b52-97fa-e7ffbc1887a8"
      },
      "outputs": [
        {
          "data": {
            "image/png": "[encoded data removed]",
            "text/plain": [
              "<Figure size 1200x600 with 1 Axes>"
            ]
          },
          "metadata": {},
          "output_type": "display_data"
        }
      ],
      "source": [
        "plt.figure(figsize=(12, 6))\n",
        "plt.plot(df_dt.index, df_dt['Demand'], label='All Data', color='blue')\n",
        "plt.scatter(df_dt.index[-12:], df_dt['Demand'].tail(12), color='red', label='Last 12', s=100)\n",
        "\n",
        "plt.xlabel('Data')\n",
        "plt.ylabel('Demand')\n",
        "plt.title('Demand Variation')\n",
        "plt.legend()\n",
        "\n",
        "plt.show()"
      ]
    },
    {
      "cell_type": "code",
      "execution_count": null,
      "id": "e75fdeb0-d739-43f7-a580-fde2bb627ed6",
      "metadata": {
        "id": "e75fdeb0-d739-43f7-a580-fde2bb627ed6",
        "outputId": "f5467985-d3d1-4a64-fb2b-16940b338777"
      },
      "outputs": [
        {
          "name": "stdout",
          "output_type": "stream",
          "text": [
            "The product has a decreasing trend with a tolerance of 20%.\n"
          ]
        }
      ],
      "source": [
        "df_dt['Percentage Change'] = df_dt['Demand'].pct_change() * 100\n",
        "\n",
        "tolerance = 20\n",
        "increasing_trend = ((df_dt['Percentage Change'] >= -tolerance) & (df_dt['Percentage Change'] <= tolerance)).all()\n",
        "\n",
        "if increasing_trend:\n",
        "    print(\"The product has an increasing trend with a tolerance of 20%.\")\n",
        "else:\n",
        "    print(\"The product has a decreasing trend with a tolerance of 20%.\")"
      ]
    },
    {
      "cell_type": "markdown",
      "id": "197df1f9-4d14-473f-9969-83a0caf02963",
      "metadata": {
        "id": "197df1f9-4d14-473f-9969-83a0caf02963"
      },
      "source": [
        "### RandomForestRegressor"
      ]
    },
    {
      "cell_type": "code",
      "execution_count": null,
      "id": "881821d7-fa60-4c19-b875-8c54c8e92a7e",
      "metadata": {
        "id": "881821d7-fa60-4c19-b875-8c54c8e92a7e"
      },
      "outputs": [],
      "source": [
        "from sklearn.ensemble import RandomForestRegressor"
      ]
    },
    {
      "cell_type": "code",
      "execution_count": null,
      "id": "4649f6f1-2850-49b0-a540-2225de8f9dd5",
      "metadata": {
        "id": "4649f6f1-2850-49b0-a540-2225de8f9dd5"
      },
      "outputs": [],
      "source": [
        "df_rf = df.copy()"
      ]
    },
    {
      "cell_type": "code",
      "execution_count": null,
      "id": "0cc25d04-186c-4782-b3bb-d2153a15aae5",
      "metadata": {
        "id": "0cc25d04-186c-4782-b3bb-d2153a15aae5"
      },
      "outputs": [],
      "source": [
        "features = df_rf[['QTY_GARANTY_S', 'INVENTORY_QTY', 'KHARID']]\n",
        "target = df_rf['Demand']"
      ]
    },
    {
      "cell_type": "code",
      "execution_count": null,
      "id": "e71adf75-ce8a-4932-805d-5978f0504924",
      "metadata": {
        "id": "e71adf75-ce8a-4932-805d-5978f0504924"
      },
      "outputs": [],
      "source": [
        "X_train, X_test, y_train, y_test = train_test_split(features, target, test_size=0.2, random_state=42)"
      ]
    },
    {
      "cell_type": "code",
      "execution_count": null,
      "id": "b8412060-0889-4dab-a448-a479a84623c5",
      "metadata": {
        "id": "b8412060-0889-4dab-a448-a479a84623c5"
      },
      "outputs": [],
      "source": [
        "model_rf = RandomForestRegressor()"
      ]
    },
    {
      "cell_type": "code",
      "execution_count": null,
      "id": "3a7a86ba-fa10-4265-ac41-a402fdc8ef34",
      "metadata": {
        "id": "3a7a86ba-fa10-4265-ac41-a402fdc8ef34",
        "outputId": "07c8dd6c-fb39-42e5-c2f2-0ae480f93bc5"
      },
      "outputs": [
        {
          "data": {
            "text/html": [
              "<style>#sk-container-id-4 {color: black;}#sk-container-id-4 pre{padding: 0;}#sk-container-id-4 div.sk-toggleable {background-color: white;}#sk-container-id-4 label.sk-toggleable__label {cursor: pointer;display: block;width: 100%;margin-bottom: 0;padding: 0.3em;box-sizing: border-box;text-align: center;}#sk-container-id-4 label.sk-toggleable__label-arrow:before {content: \"▸\";float: left;margin-right: 0.25em;color: #696969;}#sk-container-id-4 label.sk-toggleable__label-arrow:hover:before {color: black;}#sk-container-id-4 div.sk-estimator:hover label.sk-toggleable__label-arrow:before {color: black;}#sk-container-id-4 div.sk-toggleable__content {max-height: 0;max-width: 0;overflow: hidden;text-align: left;background-color: #f0f8ff;}#sk-container-id-4 div.sk-toggleable__content pre {margin: 0.2em;color: black;border-radius: 0.25em;background-color: #f0f8ff;}#sk-container-id-4 input.sk-toggleable__control:checked~div.sk-toggleable__content {max-height: 200px;max-width: 100%;overflow: auto;}#sk-container-id-4 input.sk-toggleable__control:checked~label.sk-toggleable__label-arrow:before {content: \"▾\";}#sk-container-id-4 div.sk-estimator input.sk-toggleable__control:checked~label.sk-toggleable__label {background-color: #d4ebff;}#sk-container-id-4 div.sk-label input.sk-toggleable__control:checked~label.sk-toggleable__label {background-color: #d4ebff;}#sk-container-id-4 input.sk-hidden--visually {border: 0;clip: rect(1px 1px 1px 1px);clip: rect(1px, 1px, 1px, 1px);height: 1px;margin: -1px;overflow: hidden;padding: 0;position: absolute;width: 1px;}#sk-container-id-4 div.sk-estimator {font-family: monospace;background-color: #f0f8ff;border: 1px dotted black;border-radius: 0.25em;box-sizing: border-box;margin-bottom: 0.5em;}#sk-container-id-4 div.sk-estimator:hover {background-color: #d4ebff;}#sk-container-id-4 div.sk-parallel-item::after {content: \"\";width: 100%;border-bottom: 1px solid gray;flex-grow: 1;}#sk-container-id-4 div.sk-label:hover label.sk-toggleable__label {background-color: #d4ebff;}#sk-container-id-4 div.sk-serial::before {content: \"\";position: absolute;border-left: 1px solid gray;box-sizing: border-box;top: 0;bottom: 0;left: 50%;z-index: 0;}#sk-container-id-4 div.sk-serial {display: flex;flex-direction: column;align-items: center;background-color: white;padding-right: 0.2em;padding-left: 0.2em;position: relative;}#sk-container-id-4 div.sk-item {position: relative;z-index: 1;}#sk-container-id-4 div.sk-parallel {display: flex;align-items: stretch;justify-content: center;background-color: white;position: relative;}#sk-container-id-4 div.sk-item::before, #sk-container-id-4 div.sk-parallel-item::before {content: \"\";position: absolute;border-left: 1px solid gray;box-sizing: border-box;top: 0;bottom: 0;left: 50%;z-index: -1;}#sk-container-id-4 div.sk-parallel-item {display: flex;flex-direction: column;z-index: 1;position: relative;background-color: white;}#sk-container-id-4 div.sk-parallel-item:first-child::after {align-self: flex-end;width: 50%;}#sk-container-id-4 div.sk-parallel-item:last-child::after {align-self: flex-start;width: 50%;}#sk-container-id-4 div.sk-parallel-item:only-child::after {width: 0;}#sk-container-id-4 div.sk-dashed-wrapped {border: 1px dashed gray;margin: 0 0.4em 0.5em 0.4em;box-sizing: border-box;padding-bottom: 0.4em;background-color: white;}#sk-container-id-4 div.sk-label label {font-family: monospace;font-weight: bold;display: inline-block;line-height: 1.2em;}#sk-container-id-4 div.sk-label-container {text-align: center;}#sk-container-id-4 div.sk-container {/* jupyter's `normalize.less` sets `[hidden] { display: none; }` but bootstrap.min.css set `[hidden] { display: none !important; }` so we also need the `!important` here to be able to override the default hidden behavior on the sphinx rendered scikit-learn.org. See: https://github.com/scikit-learn/scikit-learn/issues/21755 */display: inline-block !important;position: relative;}#sk-container-id-4 div.sk-text-repr-fallback {display: none;}</style><div id=\"sk-container-id-4\" class=\"sk-top-container\"><div class=\"sk-text-repr-fallback\"><pre>RandomForestRegressor()</pre><b>In a Jupyter environment, please rerun this cell to show the HTML representation or trust the notebook. <br />On GitHub, the HTML representation is unable to render, please try loading this page with nbviewer.org.</b></div><div class=\"sk-container\" hidden><div class=\"sk-item\"><div class=\"sk-estimator sk-toggleable\"><input class=\"sk-toggleable__control sk-hidden--visually\" id=\"sk-estimator-id-4\" type=\"checkbox\" checked><label for=\"sk-estimator-id-4\" class=\"sk-toggleable__label sk-toggleable__label-arrow\">RandomForestRegressor</label><div class=\"sk-toggleable__content\"><pre>RandomForestRegressor()</pre></div></div></div></div></div>"
            ],
            "text/plain": [
              "RandomForestRegressor()"
            ]
          },
          "execution_count": 52,
          "metadata": {},
          "output_type": "execute_result"
        }
      ],
      "source": [
        "model_rf.fit(X_train, y_train)"
      ]
    },
    {
      "cell_type": "code",
      "execution_count": null,
      "id": "2b83c5d2-b3fc-4247-88ec-20f9b7b676e2",
      "metadata": {
        "id": "2b83c5d2-b3fc-4247-88ec-20f9b7b676e2"
      },
      "outputs": [],
      "source": [
        "predictions = model_rf.predict(X_test)"
      ]
    },
    {
      "cell_type": "code",
      "execution_count": null,
      "id": "cf41744a-ca7a-4e8d-a0a3-358f652968fa",
      "metadata": {
        "id": "cf41744a-ca7a-4e8d-a0a3-358f652968fa",
        "outputId": "9c0dd654-f16b-49d2-d91f-bd6871715fea"
      },
      "outputs": [
        {
          "name": "stdout",
          "output_type": "stream",
          "text": [
            "Mean Squared Error: 22305594.312325\n"
          ]
        }
      ],
      "source": [
        "mse = mean_squared_error(y_test, predictions)\n",
        "\n",
        "print(\"Mean Squared Error:\", mse)"
      ]
    },
    {
      "cell_type": "code",
      "execution_count": null,
      "id": "c4a40c9b-9486-481b-b404-7914e305f67f",
      "metadata": {
        "id": "c4a40c9b-9486-481b-b404-7914e305f67f",
        "outputId": "715a53ef-e51f-4ad4-b119-403527408aea"
      },
      "outputs": [
        {
          "name": "stdout",
          "output_type": "stream",
          "text": [
            "Next 12 Predictions: [12962.54 18732.16 16403.68 17150.97 16583.47 14638.64 12296.99 11702.39\n",
            " 10410.47 11279.56 12511.28 13904.77]\n"
          ]
        }
      ],
      "source": [
        "next_12_data = df_rf.iloc[-12:][['QTY_GARANTY_S', 'INVENTORY_QTY', 'KHARID']]\n",
        "next_12_predictions = model_rf.predict(next_12_data)\n",
        "print(\"Next 12 Predictions:\", next_12_predictions)"
      ]
    },
    {
      "cell_type": "code",
      "execution_count": null,
      "id": "0db08037-c16e-4a17-896f-0bb8d0c46487",
      "metadata": {
        "id": "0db08037-c16e-4a17-896f-0bb8d0c46487"
      },
      "outputs": [],
      "source": [
        "df_to_append = pd.DataFrame(columns=df_rf.columns)\n",
        "\n",
        "df_to_append['Demand'] = next_12_predictions\n",
        "\n",
        "for column in df_to_append.columns:\n",
        "    if column != 'Demand':\n",
        "        df_to_append[column] = 0\n",
        "\n",
        "df_rf = pd.concat([df_rf, df_to_append], ignore_index=True)"
      ]
    },
    {
      "cell_type": "code",
      "execution_count": null,
      "id": "e69eda96-1f9c-4482-8858-998d6fdd4065",
      "metadata": {
        "id": "e69eda96-1f9c-4482-8858-998d6fdd4065",
        "outputId": "93b0bfe8-23d6-4ed2-df21-a9849cc82c4a"
      },
      "outputs": [
        {
          "data": {
            "image/png": "[encoded data removed]",
            "text/plain": [
              "<Figure size 1200x600 with 1 Axes>"
            ]
          },
          "metadata": {},
          "output_type": "display_data"
        }
      ],
      "source": [
        "plt.figure(figsize=(12, 6))\n",
        "plt.plot(df_rf.index, df_rf['Demand'], label='All Data', color='blue')\n",
        "plt.scatter(df_rf.index[-12:], df_rf['Demand'].tail(12), color='red', label='Last 12', s=100)\n",
        "\n",
        "plt.xlabel('Data')\n",
        "plt.ylabel('Demand')\n",
        "plt.title('Demand Variation')\n",
        "plt.legend()\n",
        "\n",
        "plt.show()"
      ]
    },
    {
      "cell_type": "code",
      "execution_count": null,
      "id": "bae32a0b-40e9-4420-8d36-1d4677f9d586",
      "metadata": {
        "id": "bae32a0b-40e9-4420-8d36-1d4677f9d586",
        "outputId": "44473039-3821-43f7-f9a3-a79cfb3889b9"
      },
      "outputs": [
        {
          "name": "stdout",
          "output_type": "stream",
          "text": [
            "The product has a decreasing trend with a tolerance of 20%.\n"
          ]
        }
      ],
      "source": [
        "df_rf['Percentage Change'] = df_rf['Demand'].pct_change() * 100\n",
        "\n",
        "tolerance = 20\n",
        "increasing_trend = ((df_rf['Percentage Change'] >= -tolerance) & (df_rf['Percentage Change'] <= tolerance)).all()\n",
        "\n",
        "if increasing_trend:\n",
        "    print(\"The product has an increasing trend with a tolerance of 20%.\")\n",
        "else:\n",
        "    print(\"The product has a decreasing trend with a tolerance of 20%.\")"
      ]
    }
  ],
  "metadata": {
    "kernelspec": {
      "display_name": "Python 3 (ipykernel)",
      "language": "python",
      "name": "python3"
    },
    "language_info": {
      "codemirror_mode": {
        "name": "ipython",
        "version": 3
      },
      "file_extension": ".py",
      "mimetype": "text/x-python",
      "name": "python",
      "nbconvert_exporter": "python",
      "pygments_lexer": "ipython3",
      "version": "3.11.6"
    },
    "colab": {
      "provenance": [],
      "include_colab_link": true
    }
  },
  "nbformat": 4,
  "nbformat_minor": 5
}